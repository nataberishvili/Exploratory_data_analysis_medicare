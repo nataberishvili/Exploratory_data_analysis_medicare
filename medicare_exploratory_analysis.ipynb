{
 "cells": [
  {
   "cell_type": "markdown",
   "metadata": {},
   "source": [
    "The data is obtained from the Centers of Medicare and Medicaid Services https://www.cms.gov/Research-Statistics-Data-and-Systems/Statistics-Trends-and-Reports/Medicare-Provider-Charge-Data/Inpatient to add the time component to the analysis I combined 3 datasets from 2015, 2016, and 2017 years. Some of the questions I want to answer:\n",
    "- Which Diagnostic Related Groups cost Medicare the most?\n",
    "- What are the most commong hospital discharges? \n",
    "- What is the trend in last 3 years?\n",
    "- Which States and Hospitals charge the most? etc.\n",
    "\n",
    "Some of the variables:\n",
    "\n",
    "* DRG Definition - Medicare Severity Diagnosis Related Group\n",
    "* Total Discharges - The total discharges indicate the number of beneficiaries who were released from the inpatient hospital after receiving care.\n",
    "* Average Covered Charges -  refers to what the provider bills to Medicare\n",
    "* Average Total Payments - refers to what Medicare actually pays to the provider as well as co-payment and deductible amounts that the beneficiary is responsible for and payments by third parties for coordination of benefits\n",
    "* Average Medicare Payments"
   ]
  },
  {
   "cell_type": "code",
   "execution_count": 81,
   "metadata": {},
   "outputs": [],
   "source": [
    "library(tidyverse)\n",
    "library(dplyr)\n",
    "library(ggplot2)\n",
    "library(zipcode)\n",
    "data(zipcode)\n",
    "library(VIM)\n",
    "library(lubridate)"
   ]
  },
  {
   "cell_type": "code",
   "execution_count": 82,
   "metadata": {},
   "outputs": [],
   "source": [
    "data1 <- read.csv(\"2015.csv\", stringsAsFactors = FALSE, dec=\",\")\n",
    "data2 <- read.csv(\"2016.csv\", stringsAsFactors = FALSE, dec=\",\")\n",
    "data3 <- read.csv(\"2017.csv\", stringsAsFactors = FALSE, dec=\",\")"
   ]
  },
  {
   "cell_type": "code",
   "execution_count": 83,
   "metadata": {
    "scrolled": true
   },
   "outputs": [
    {
     "data": {
      "text/html": [
       "<table>\n",
       "<thead><tr><th scope=col>DRG.Definition</th><th scope=col>Provider.Id</th><th scope=col>Provider.Name</th><th scope=col>Provider.Street.Address</th><th scope=col>Provider.City</th><th scope=col>Provider.State</th><th scope=col>Provider.Zip.Code</th><th scope=col>Hospital.Referral.Region..HRR..Description</th><th scope=col>Total.Discharges</th><th scope=col>Average.Covered.Charges</th><th scope=col>Average.Total.Payments</th><th scope=col>Average.Medicare.Payments</th></tr></thead>\n",
       "<tbody>\n",
       "\t<tr><td>001 - HEART TRANSPLANT OR IMPLANT OF HEART ASSIST SYSTEM W MCC</td><td>10033                                                         </td><td>UNIVERSITY OF ALABAMA HOSPITAL                                </td><td>619 SOUTH 19TH STREET                                         </td><td>BIRMINGHAM                                                    </td><td>AL                                                            </td><td>35233                                                         </td><td>AL - Birmingham                                               </td><td>13                                                            </td><td>$1,016,806.46                                                 </td><td>$296,937.00                                                   </td><td>$150,139.69                                                   </td></tr>\n",
       "\t<tr><td>001 - HEART TRANSPLANT OR IMPLANT OF HEART ASSIST SYSTEM W MCC</td><td>30103                                                         </td><td>MAYO CLINIC HOSPITAL                                          </td><td>5777 EAST MAYO BOULEVARD                                      </td><td>PHOENIX                                                       </td><td>AZ                                                            </td><td>85054                                                         </td><td>AZ - Phoenix                                                  </td><td>26                                                            </td><td>$443,387.54                                                   </td><td>$215,059.54                                                   </td><td>$163,889.31                                                   </td></tr>\n",
       "\t<tr><td>001 - HEART TRANSPLANT OR IMPLANT OF HEART ASSIST SYSTEM W MCC</td><td>40114                                                         </td><td>BAPTIST HEALTH MEDICAL CENTER-LITTLE ROCK                     </td><td>9601 INTERSTATE 630, EXIT 7                                   </td><td>LITTLE ROCK                                                   </td><td>AR                                                            </td><td>72205                                                         </td><td>AR - Little Rock                                              </td><td>33                                                            </td><td>$711,472.00                                                   </td><td>$180,315.55                                                   </td><td>$145,192.61                                                   </td></tr>\n",
       "\t<tr><td>001 - HEART TRANSPLANT OR IMPLANT OF HEART ASSIST SYSTEM W MCC</td><td>50025                                                         </td><td>UC SAN DIEGO HEALTH HILLCREST - HILLCREST MED CTR             </td><td>200 WEST ARBOR DRIVE                                          </td><td>SAN DIEGO                                                     </td><td>CA                                                            </td><td>92103                                                         </td><td>CA - San Diego                                                </td><td>17                                                            </td><td>$796,343.82                                                   </td><td>$299,244.41                                                   </td><td>$270,131.59                                                   </td></tr>\n",
       "\t<tr><td>001 - HEART TRANSPLANT OR IMPLANT OF HEART ASSIST SYSTEM W MCC</td><td>50100                                                         </td><td>SHARP MEMORIAL HOSPITAL                                       </td><td>7901 FROST ST                                                 </td><td>SAN DIEGO                                                     </td><td>CA                                                            </td><td>92123                                                         </td><td>CA - San Diego                                                </td><td>13                                                            </td><td>$1,434,651.46                                                 </td><td>$239,537.46                                                   </td><td>$215,205.00                                                   </td></tr>\n",
       "\t<tr><td>001 - HEART TRANSPLANT OR IMPLANT OF HEART ASSIST SYSTEM W MCC</td><td>50108                                                         </td><td>SUTTER MEDICAL CENTER, SACRAMENTO                             </td><td>2825 CAPITOL AVENUE                                           </td><td>SACRAMENTO                                                    </td><td>CA                                                            </td><td>95816                                                         </td><td>CA - Sacramento                                               </td><td>11                                                            </td><td>$846,688.27                                                   </td><td>$259,930.18                                                   </td><td>$257,317.55                                                   </td></tr>\n",
       "</tbody>\n",
       "</table>\n"
      ],
      "text/latex": [
       "\\begin{tabular}{r|llllllllllll}\n",
       " DRG.Definition & Provider.Id & Provider.Name & Provider.Street.Address & Provider.City & Provider.State & Provider.Zip.Code & Hospital.Referral.Region..HRR..Description & Total.Discharges & Average.Covered.Charges & Average.Total.Payments & Average.Medicare.Payments\\\\\n",
       "\\hline\n",
       "\t 001 - HEART TRANSPLANT OR IMPLANT OF HEART ASSIST SYSTEM W MCC & 10033                                                          & UNIVERSITY OF ALABAMA HOSPITAL                                 & 619 SOUTH 19TH STREET                                          & BIRMINGHAM                                                     & AL                                                             & 35233                                                          & AL - Birmingham                                                & 13                                                             & \\$1,016,806.46                                                & \\$296,937.00                                                  & \\$150,139.69                                                 \\\\\n",
       "\t 001 - HEART TRANSPLANT OR IMPLANT OF HEART ASSIST SYSTEM W MCC & 30103                                                          & MAYO CLINIC HOSPITAL                                           & 5777 EAST MAYO BOULEVARD                                       & PHOENIX                                                        & AZ                                                             & 85054                                                          & AZ - Phoenix                                                   & 26                                                             & \\$443,387.54                                                  & \\$215,059.54                                                  & \\$163,889.31                                                 \\\\\n",
       "\t 001 - HEART TRANSPLANT OR IMPLANT OF HEART ASSIST SYSTEM W MCC & 40114                                                          & BAPTIST HEALTH MEDICAL CENTER-LITTLE ROCK                      & 9601 INTERSTATE 630, EXIT 7                                    & LITTLE ROCK                                                    & AR                                                             & 72205                                                          & AR - Little Rock                                               & 33                                                             & \\$711,472.00                                                  & \\$180,315.55                                                  & \\$145,192.61                                                 \\\\\n",
       "\t 001 - HEART TRANSPLANT OR IMPLANT OF HEART ASSIST SYSTEM W MCC & 50025                                                          & UC SAN DIEGO HEALTH HILLCREST - HILLCREST MED CTR              & 200 WEST ARBOR DRIVE                                           & SAN DIEGO                                                      & CA                                                             & 92103                                                          & CA - San Diego                                                 & 17                                                             & \\$796,343.82                                                  & \\$299,244.41                                                  & \\$270,131.59                                                 \\\\\n",
       "\t 001 - HEART TRANSPLANT OR IMPLANT OF HEART ASSIST SYSTEM W MCC & 50100                                                          & SHARP MEMORIAL HOSPITAL                                        & 7901 FROST ST                                                  & SAN DIEGO                                                      & CA                                                             & 92123                                                          & CA - San Diego                                                 & 13                                                             & \\$1,434,651.46                                                & \\$239,537.46                                                  & \\$215,205.00                                                 \\\\\n",
       "\t 001 - HEART TRANSPLANT OR IMPLANT OF HEART ASSIST SYSTEM W MCC & 50108                                                          & SUTTER MEDICAL CENTER, SACRAMENTO                              & 2825 CAPITOL AVENUE                                            & SACRAMENTO                                                     & CA                                                             & 95816                                                          & CA - Sacramento                                                & 11                                                             & \\$846,688.27                                                  & \\$259,930.18                                                  & \\$257,317.55                                                 \\\\\n",
       "\\end{tabular}\n"
      ],
      "text/markdown": [
       "\n",
       "| DRG.Definition | Provider.Id | Provider.Name | Provider.Street.Address | Provider.City | Provider.State | Provider.Zip.Code | Hospital.Referral.Region..HRR..Description | Total.Discharges | Average.Covered.Charges | Average.Total.Payments | Average.Medicare.Payments |\n",
       "|---|---|---|---|---|---|---|---|---|---|---|---|\n",
       "| 001 - HEART TRANSPLANT OR IMPLANT OF HEART ASSIST SYSTEM W MCC | 10033                                                          | UNIVERSITY OF ALABAMA HOSPITAL                                 | 619 SOUTH 19TH STREET                                          | BIRMINGHAM                                                     | AL                                                             | 35233                                                          | AL - Birmingham                                                | 13                                                             | $1,016,806.46                                                  | $296,937.00                                                    | $150,139.69                                                    |\n",
       "| 001 - HEART TRANSPLANT OR IMPLANT OF HEART ASSIST SYSTEM W MCC | 30103                                                          | MAYO CLINIC HOSPITAL                                           | 5777 EAST MAYO BOULEVARD                                       | PHOENIX                                                        | AZ                                                             | 85054                                                          | AZ - Phoenix                                                   | 26                                                             | $443,387.54                                                    | $215,059.54                                                    | $163,889.31                                                    |\n",
       "| 001 - HEART TRANSPLANT OR IMPLANT OF HEART ASSIST SYSTEM W MCC | 40114                                                          | BAPTIST HEALTH MEDICAL CENTER-LITTLE ROCK                      | 9601 INTERSTATE 630, EXIT 7                                    | LITTLE ROCK                                                    | AR                                                             | 72205                                                          | AR - Little Rock                                               | 33                                                             | $711,472.00                                                    | $180,315.55                                                    | $145,192.61                                                    |\n",
       "| 001 - HEART TRANSPLANT OR IMPLANT OF HEART ASSIST SYSTEM W MCC | 50025                                                          | UC SAN DIEGO HEALTH HILLCREST - HILLCREST MED CTR              | 200 WEST ARBOR DRIVE                                           | SAN DIEGO                                                      | CA                                                             | 92103                                                          | CA - San Diego                                                 | 17                                                             | $796,343.82                                                    | $299,244.41                                                    | $270,131.59                                                    |\n",
       "| 001 - HEART TRANSPLANT OR IMPLANT OF HEART ASSIST SYSTEM W MCC | 50100                                                          | SHARP MEMORIAL HOSPITAL                                        | 7901 FROST ST                                                  | SAN DIEGO                                                      | CA                                                             | 92123                                                          | CA - San Diego                                                 | 13                                                             | $1,434,651.46                                                  | $239,537.46                                                    | $215,205.00                                                    |\n",
       "| 001 - HEART TRANSPLANT OR IMPLANT OF HEART ASSIST SYSTEM W MCC | 50108                                                          | SUTTER MEDICAL CENTER, SACRAMENTO                              | 2825 CAPITOL AVENUE                                            | SACRAMENTO                                                     | CA                                                             | 95816                                                          | CA - Sacramento                                                | 11                                                             | $846,688.27                                                    | $259,930.18                                                    | $257,317.55                                                    |\n",
       "\n"
      ],
      "text/plain": [
       "  DRG.Definition                                                 Provider.Id\n",
       "1 001 - HEART TRANSPLANT OR IMPLANT OF HEART ASSIST SYSTEM W MCC 10033      \n",
       "2 001 - HEART TRANSPLANT OR IMPLANT OF HEART ASSIST SYSTEM W MCC 30103      \n",
       "3 001 - HEART TRANSPLANT OR IMPLANT OF HEART ASSIST SYSTEM W MCC 40114      \n",
       "4 001 - HEART TRANSPLANT OR IMPLANT OF HEART ASSIST SYSTEM W MCC 50025      \n",
       "5 001 - HEART TRANSPLANT OR IMPLANT OF HEART ASSIST SYSTEM W MCC 50100      \n",
       "6 001 - HEART TRANSPLANT OR IMPLANT OF HEART ASSIST SYSTEM W MCC 50108      \n",
       "  Provider.Name                                     Provider.Street.Address    \n",
       "1 UNIVERSITY OF ALABAMA HOSPITAL                    619 SOUTH 19TH STREET      \n",
       "2 MAYO CLINIC HOSPITAL                              5777 EAST MAYO BOULEVARD   \n",
       "3 BAPTIST HEALTH MEDICAL CENTER-LITTLE ROCK         9601 INTERSTATE 630, EXIT 7\n",
       "4 UC SAN DIEGO HEALTH HILLCREST - HILLCREST MED CTR 200 WEST ARBOR DRIVE       \n",
       "5 SHARP MEMORIAL HOSPITAL                           7901 FROST ST              \n",
       "6 SUTTER MEDICAL CENTER, SACRAMENTO                 2825 CAPITOL AVENUE        \n",
       "  Provider.City Provider.State Provider.Zip.Code\n",
       "1 BIRMINGHAM    AL             35233            \n",
       "2 PHOENIX       AZ             85054            \n",
       "3 LITTLE ROCK   AR             72205            \n",
       "4 SAN DIEGO     CA             92103            \n",
       "5 SAN DIEGO     CA             92123            \n",
       "6 SACRAMENTO    CA             95816            \n",
       "  Hospital.Referral.Region..HRR..Description Total.Discharges\n",
       "1 AL - Birmingham                            13              \n",
       "2 AZ - Phoenix                               26              \n",
       "3 AR - Little Rock                           33              \n",
       "4 CA - San Diego                             17              \n",
       "5 CA - San Diego                             13              \n",
       "6 CA - Sacramento                            11              \n",
       "  Average.Covered.Charges Average.Total.Payments Average.Medicare.Payments\n",
       "1 $1,016,806.46           $296,937.00            $150,139.69              \n",
       "2 $443,387.54             $215,059.54            $163,889.31              \n",
       "3 $711,472.00             $180,315.55            $145,192.61              \n",
       "4 $796,343.82             $299,244.41            $270,131.59              \n",
       "5 $1,434,651.46           $239,537.46            $215,205.00              \n",
       "6 $846,688.27             $259,930.18            $257,317.55              "
      ]
     },
     "metadata": {},
     "output_type": "display_data"
    }
   ],
   "source": [
    "head(data2); # head(data3);  glimpse(data2)"
   ]
  },
  {
   "cell_type": "markdown",
   "metadata": {},
   "source": [
    "###Add Year variable to the datasets"
   ]
  },
  {
   "cell_type": "code",
   "execution_count": 84,
   "metadata": {},
   "outputs": [],
   "source": [
    "data1$Year <- 2015\n",
    "data2$Year <- 2016\n",
    "data3$Year <- 2017"
   ]
  },
  {
   "cell_type": "markdown",
   "metadata": {},
   "source": [
    "###I will combine those datasets with rbind. rbind combines datasets by rows. (In order to combine the datasets, the number and the names of the columns must be the same in the datasets)"
   ]
  },
  {
   "cell_type": "code",
   "execution_count": 85,
   "metadata": {},
   "outputs": [
    {
     "data": {
      "text/html": [
       "<ol class=list-inline>\n",
       "\t<li>595484</li>\n",
       "\t<li>13</li>\n",
       "</ol>\n"
      ],
      "text/latex": [
       "\\begin{enumerate*}\n",
       "\\item 595484\n",
       "\\item 13\n",
       "\\end{enumerate*}\n"
      ],
      "text/markdown": [
       "1. 595484\n",
       "2. 13\n",
       "\n",
       "\n"
      ],
      "text/plain": [
       "[1] 595484     13"
      ]
     },
     "metadata": {},
     "output_type": "display_data"
    }
   ],
   "source": [
    "payment <- rbind(data1, data2, data3)\n",
    "dim(payment)"
   ]
  },
  {
   "cell_type": "markdown",
   "metadata": {},
   "source": [
    "Covered charges, medicare payments and total payments contain both $ dollar signs and commas, in order to do data manipulation/aggregation I will convert those variables into numeric values and remove  dollar signs and commas."
   ]
  },
  {
   "cell_type": "code",
   "execution_count": 86,
   "metadata": {},
   "outputs": [],
   "source": [
    "payment$Average.Covered.Charges <- as.numeric(gsub(\"[\\\\$,]\",\"\", payment$Average.Covered.Charges))\n",
    "payment$Average.Medicare.Payments <- as.numeric(gsub(\"[\\\\$,]\",\"\", payment$Average.Medicare.Payments))\n",
    "payment$Average.Total.Payments <- as.numeric(gsub(\"[\\\\$,]\",\"\", payment$Average.Total.Payments))"
   ]
  },
  {
   "cell_type": "markdown",
   "metadata": {},
   "source": [
    "###Check for NA values"
   ]
  },
  {
   "cell_type": "code",
   "execution_count": 9,
   "metadata": {},
   "outputs": [
    {
     "data": {
      "text/html": [
       "0"
      ],
      "text/latex": [
       "0"
      ],
      "text/markdown": [
       "0"
      ],
      "text/plain": [
       "[1] 0"
      ]
     },
     "metadata": {},
     "output_type": "display_data"
    }
   ],
   "source": [
    "sum(is.na(payment))"
   ]
  },
  {
   "cell_type": "code",
   "execution_count": 186,
   "metadata": {},
   "outputs": [
    {
     "data": {
      "text/plain": [
       "\n",
       "\n",
       "|Provider.State | total_charges| total_paid| ratio_paid_charged| country_medicare_charges| charges_proportion|\n",
       "|:--------------|-------------:|----------:|------------------:|------------------------:|------------------:|\n",
       "|CA             |   46666346262| 7195633853|          0.1541932|             279908313918|          0.1667201|\n",
       "|FL             |   36735867281| 5317075694|          0.1447380|             279908313918|          0.1312425|\n",
       "|TX             |   30328782208| 4852557591|          0.1599984|             279908313918|          0.1083526|\n",
       "|NY             |   23681227219| 5830112900|          0.2461913|             279908313918|          0.0846035|\n",
       "|NJ             |   21278577557| 2915478166|          0.1370147|             279908313918|          0.0760198|\n",
       "|PA             |   19669234518| 3248294129|          0.1651459|             279908313918|          0.0702703|\n",
       "|IL             |   15731786270| 3174370684|          0.2017807|             279908313918|          0.0562034|\n",
       "|OH             |   11660233460| 2573774520|          0.2207310|             279908313918|          0.0416573|\n",
       "|NC             |   10343314329| 2666105995|          0.2577613|             279908313918|          0.0369525|\n",
       "|MI             |   10282699802| 3254292175|          0.3164823|             279908313918|          0.0367360|\n",
       "|VA             |    9550751124| 2048526629|          0.2144885|             279908313918|          0.0341210|\n",
       "|GA             |    9016662208| 1933543884|          0.2144412|             279908313918|          0.0322129|\n",
       "|TN             |    8831899643| 1800715462|          0.2038877|             279908313918|          0.0315528|\n",
       "|IN             |    8230920389| 1797202707|          0.2183477|             279908313918|          0.0294058|\n",
       "|MO             |    8151092958| 1841693107|          0.2259443|             279908313918|          0.0291206|"
      ]
     },
     "metadata": {},
     "output_type": "display_data"
    }
   ],
   "source": [
    "df_top15 <- payment %>% filter(Year == 2015) %>% mutate(total_c = Average.Covered.Charges*Total.Discharges,\n",
    "                        total_p = Average.Medicare.Payments*Total.Discharges) %>% \n",
    "  group_by(Provider.State) %>%\n",
    "  summarise(total_charges=sum(total_c), total_paid = sum(total_p),\n",
    "            ratio_paid_charged = sum(total_p)/sum(total_c)) %>% \n",
    "  top_n(15, wt = total_charges) %>%  mutate(country_medicare_charges = sum(df_top$total_charges), charges_proportion = total_charges/country_medicare_charges) %>%\n",
    "  arrange(desc(total_charges))\n",
    "knitr::kable(df_top15)"
   ]
  },
  {
   "cell_type": "code",
   "execution_count": 183,
   "metadata": {
    "scrolled": true
   },
   "outputs": [
    {
     "data": {
      "text/plain": [
       "\n",
       "\n",
       "|Provider.State | total_charges| total_paid| ratio_paid_charged| country_medicare_charges| charges_proportion|\n",
       "|:--------------|-------------:|----------:|------------------:|------------------------:|------------------:|\n",
       "|CA             |   49439930287| 7612762249|          0.1539800|             279908313918|          0.1766290|\n",
       "|FL             |   37771881595| 5260908665|          0.1392811|             279908313918|          0.1349438|\n",
       "|TX             |   31902057391| 4872741662|          0.1527407|             279908313918|          0.1139732|\n",
       "|NY             |   25245765376| 5993313850|          0.2373988|             279908313918|          0.0901930|\n",
       "|NJ             |   20910891080| 2925437367|          0.1399002|             279908313918|          0.0747062|\n",
       "|PA             |   20162510062| 3308563290|          0.1640948|             279908313918|          0.0720326|\n",
       "|IL             |   15897443790| 3192762240|          0.2008349|             279908313918|          0.0567952|\n",
       "|OH             |   12617647551| 2752292021|          0.2181304|             279908313918|          0.0450778|\n",
       "|NC             |   10507083134| 2680341737|          0.2550986|             279908313918|          0.0375376|\n",
       "|MI             |   10226005491| 3161092980|          0.3091229|             279908313918|          0.0365334|\n",
       "|VA             |   10094962733| 2094163333|          0.2074464|             279908313918|          0.0360652|\n",
       "|GA             |    9385249695| 1932823094|          0.2059426|             279908313918|          0.0335297|\n",
       "|TN             |    9204033844| 1794935061|          0.1950161|             279908313918|          0.0328823|\n",
       "|IN             |    8436342343| 1756134772|          0.2081631|             279908313918|          0.0301397|\n",
       "|MO             |    8106509548| 1790959563|          0.2209286|             279908313918|          0.0289613|"
      ]
     },
     "metadata": {},
     "output_type": "display_data"
    }
   ],
   "source": [
    "df_top16 <- payment %>% filter(Year == 2016) %>% mutate(total_c = Average.Covered.Charges*Total.Discharges,\n",
    "                        total_p = Average.Medicare.Payments*Total.Discharges) %>% \n",
    "  group_by(Provider.State) %>%\n",
    "  summarise(total_charges=sum(total_c), total_paid = sum(total_p),\n",
    "            ratio_paid_charged = sum(total_p)/sum(total_c)) %>% \n",
    "  top_n(15, wt = total_charges) %>%  mutate(country_medicare_charges = sum(df_top$total_charges), charges_proportion = total_charges/country_medicare_charges) %>%\n",
    "  arrange(desc(total_charges))\n",
    "knitr::kable(df_top16)"
   ]
  },
  {
   "cell_type": "code",
   "execution_count": 187,
   "metadata": {},
   "outputs": [
    {
     "data": {
      "text/plain": [
       "\n",
       "\n",
       "|Provider.State | total_charges| total_paid| ratio_paid_charged| country_medicare_charges| charges_proportion|\n",
       "|:--------------|-------------:|----------:|------------------:|------------------------:|------------------:|\n",
       "|CA             |   54238882335| 8130260062|          0.1498973|             279908313918|          0.1937737|\n",
       "|FL             |   40512981303| 5361111801|          0.1323307|             279908313918|          0.1447366|\n",
       "|TX             |   33869714703| 4981748301|          0.1470856|             279908313918|          0.1210029|\n",
       "|NY             |   27648180203| 6201262986|          0.2242919|             279908313918|          0.0987758|\n",
       "|PA             |   21342203052| 3384679967|          0.1585909|             279908313918|          0.0762471|\n",
       "|NJ             |   20787093641| 2897560398|          0.1393923|             279908313918|          0.0742639|\n",
       "|IL             |   16964249266| 3320097855|          0.1957115|             279908313918|          0.0606065|\n",
       "|OH             |   13474219554| 2872030687|          0.2131501|             279908313918|          0.0481380|\n",
       "|NC             |   11231226395| 2724293456|          0.2425642|             279908313918|          0.0401247|\n",
       "|VA             |   11055572324| 2197226825|          0.1987438|             279908313918|          0.0394971|\n",
       "|MI             |   10713233059| 3168772293|          0.2957811|             279908313918|          0.0382741|\n",
       "|GA             |   10198122374| 2011006046|          0.1971938|             279908313918|          0.0364338|\n",
       "|TN             |    9813610985| 1867370793|          0.1902838|             279908313918|          0.0350601|\n",
       "|IN             |    8810255675| 1781842175|          0.2022464|             279908313918|          0.0314755|\n",
       "|MO             |    8491383336| 1812173956|          0.2134133|             279908313918|          0.0303363|"
      ]
     },
     "metadata": {},
     "output_type": "display_data"
    }
   ],
   "source": [
    "df_top17 <- payment %>% filter(Year == 2017) %>% mutate(total_c = Average.Covered.Charges*Total.Discharges,\n",
    "                        total_p = Average.Medicare.Payments*Total.Discharges) %>% \n",
    "  group_by(Provider.State) %>%\n",
    "  summarise(total_charges=sum(total_c), total_paid = sum(total_p),\n",
    "            ratio_paid_charged = sum(total_p)/sum(total_c)) %>% \n",
    "  top_n(15, wt = total_charges) %>%  mutate(country_medicare_charges = sum(df_top$total_charges), charges_proportion = total_charges/country_medicare_charges) %>%\n",
    "  arrange(desc(total_charges))\n",
    "knitr::kable(df_top17)"
   ]
  },
  {
   "cell_type": "code",
   "execution_count": 190,
   "metadata": {},
   "outputs": [
    {
     "name": "stderr",
     "output_type": "stream",
     "text": [
      "Coordinate system already present. Adding new coordinate system, which will replace the existing one.\n",
      "Coordinate system already present. Adding new coordinate system, which will replace the existing one.\n"
     ]
    },
    {
     "data": {
      "image/png": "[encoded data removed]",
      "text/plain": [
       "plot without title"
      ]
     },
     "metadata": {},
     "output_type": "display_data"
    },
    {
     "name": "stderr",
     "output_type": "stream",
     "text": [
      "Coordinate system already present. Adding new coordinate system, which will replace the existing one.\n"
     ]
    },
    {
     "data": {
      "image/png": "[encoded data removed]",
      "text/plain": [
       "plot without title"
      ]
     },
     "metadata": {},
     "output_type": "display_data"
    },
    {
     "data": {
      "image/png": "[encoded data removed]",
      "text/plain": [
       "plot without title"
      ]
     },
     "metadata": {},
     "output_type": "display_data"
    }
   ],
   "source": [
    "nata <- ggplot(df_top15, \n",
    "       aes(x = reorder(Provider.State, charges_proportion), y = charges_proportion)) + \n",
    "  geom_bar(stat=\"identity\", position=\"identity\", fill=ifelse(df_top$Provider.State == \"NY\", \"#1380A1\", \"#dddddd\")) +\n",
    "  geom_hline(yintercept = 0, size = 1, colour=\"#333333\") +\n",
    "  theme_bw() +\n",
    "  coord_flip() +\n",
    "  labs(title=\"Medicare total charges\",\n",
    "       subtitle = \"Highest total charges by State, 2015\") +\n",
    "  theme(panel.grid.major.x = element_line(color=\"#cbcbcb\"), \n",
    "        panel.grid.major.y=element_blank())\n",
    "\n",
    "santa <- ggplot(df_top16, \n",
    "       aes(x = reorder(Provider.State, charges_proportion), y = charges_proportion)) + \n",
    "  geom_bar(stat=\"identity\", position=\"identity\", fill=ifelse(df_top$Provider.State == \"NY\", \"#1380A1\", \"#dddddd\")) +\n",
    "  geom_hline(yintercept = 0, size = 1, colour=\"#333333\") +\n",
    "  theme_bw() +\n",
    "  coord_flip() +\n",
    "  labs(title=\"Medicare total charges\",\n",
    "       subtitle = \"Highest total charges by State, 2016\") +\n",
    "  theme(panel.grid.major.x = element_line(color=\"#cbcbcb\"), \n",
    "        panel.grid.major.y=element_blank())\n",
    "\n",
    "marina <- ggplot(df_top17, \n",
    "       aes(x = reorder(Provider.State, charges_proportion), y = charges_proportion)) + \n",
    "  geom_bar(stat=\"identity\", position=\"identity\", fill=ifelse(df_top$Provider.State == \"NY\", \"#1380A1\", \"#dddddd\")) +\n",
    "  geom_hline(yintercept = 0, size = 1, colour=\"#333333\") +\n",
    "  theme_bw() +\n",
    "  coord_flip() +\n",
    "  labs(title=\"Medicare total charges\",\n",
    "       subtitle = \"Highest total charges by State, 2017\") +\n",
    "  theme(panel.grid.major.x = element_line(color=\"#cbcbcb\"), \n",
    "        panel.grid.major.y=element_blank())\n",
    "\n",
    " nata + coord_fixed(ratio=10)\n",
    "santa + coord_fixed(ratio=10)\n",
    "marina + coord_fixed(ratio=10)"
   ]
  },
  {
   "cell_type": "code",
   "execution_count": 199,
   "metadata": {
    "scrolled": true
   },
   "outputs": [
    {
     "data": {
      "image/png": "[encoded data removed]",
      "text/plain": [
       "plot without title"
      ]
     },
     "metadata": {},
     "output_type": "display_data"
    }
   ],
   "source": [
    "#ggarrange(nata, marina, santa) \n",
    "ggarrange(nata, marina, santa,\n",
    "                    labels = c(\"A\", \"B\", \"C\"),\n",
    "                    ncol = 1, nrow = 3)"
   ]
  },
  {
   "cell_type": "code",
   "execution_count": 197,
   "metadata": {},
   "outputs": [
    {
     "data": {
      "image/png": "[encoded data removed]",
      "text/plain": [
       "plot without title"
      ]
     },
     "metadata": {},
     "output_type": "display_data"
    }
   ],
   "source": [
    "ggarrange(\n",
    "  nata,                # First row with line plot\n",
    "  # Second row with box and dot plots\n",
    "  ggarrange(marina, santa, ncol = 2, labels = c(\"B\", \"C\")), \n",
    "  nrow = 2, \n",
    "  labels = \"A\"       # Label of the line plot\n",
    "  ) "
   ]
  },
  {
   "cell_type": "code",
   "execution_count": 193,
   "metadata": {},
   "outputs": [],
   "source": [
    "library(ggpubr)\n",
    "theme_set(theme_pubr())"
   ]
  },
  {
   "cell_type": "code",
   "execution_count": 166,
   "metadata": {},
   "outputs": [
    {
     "data": {
      "text/html": [
       "<table>\n",
       "<thead><tr><th scope=col>DRG.Definition</th><th scope=col>Provider.Id</th><th scope=col>Provider.Name</th><th scope=col>Provider.Street.Address</th><th scope=col>Provider.City</th><th scope=col>Provider.State</th><th scope=col>Provider.Zip.Code</th><th scope=col>Hospital.Referral.Region..HRR..Description</th><th scope=col>Total.Discharges</th><th scope=col>Average.Covered.Charges</th><th scope=col>Average.Total.Payments</th><th scope=col>Average.Medicare.Payments</th><th scope=col>Year</th><th scope=col>total.medicare.payments</th></tr></thead>\n",
       "<tbody>\n",
       "\t<tr><td>001 - HEART TRANSPLANT OR IMPLANT OF HEART ASSIST SYSTEM W MCC</td><td>10033                                                         </td><td>UNIVERSITY OF ALABAMA HOSPITAL                                </td><td>619 SOUTH 19TH STREET                                         </td><td>BIRMINGHAM                                                    </td><td>AL                                                            </td><td>35233                                                         </td><td>AL - Birmingham                                               </td><td>11                                                            </td><td>1014783.4                                                     </td><td>171081.2                                                      </td><td>141193.9                                                      </td><td>2015                                                          </td><td>106835420                                                     </td></tr>\n",
       "\t<tr><td>001 - HEART TRANSPLANT OR IMPLANT OF HEART ASSIST SYSTEM W MCC</td><td>30103                                                         </td><td>MAYO CLINIC HOSPITAL                                          </td><td>5777 EAST MAYO BOULEVARD                                      </td><td>PHOENIX                                                       </td><td>AZ                                                            </td><td>85054                                                         </td><td>AZ - Phoenix                                                  </td><td>28                                                            </td><td> 382051.0                                                     </td><td>194081.4                                                      </td><td>167512.0                                                      </td><td>2015                                                          </td><td>127442565                                                     </td></tr>\n",
       "\t<tr><td>001 - HEART TRANSPLANT OR IMPLANT OF HEART ASSIST SYSTEM W MCC</td><td>50025                                                         </td><td>UNIVERSITY OF CALIFORNIA SAN DIEGO MEDICAL CENTER             </td><td>200 WEST ARBOR DRIVE                                          </td><td>SAN DIEGO                                                     </td><td>CA                                                            </td><td>92103                                                         </td><td>CA - San Diego                                                </td><td>21                                                            </td><td> 971881.5                                                     </td><td>324050.7                                                      </td><td>294419.6                                                      </td><td>2015                                                          </td><td>717408234                                                     </td></tr>\n",
       "\t<tr><td>001 - HEART TRANSPLANT OR IMPLANT OF HEART ASSIST SYSTEM W MCC</td><td>50100                                                         </td><td>SHARP MEMORIAL HOSPITAL                                       </td><td>7901 FROST ST                                                 </td><td>SAN DIEGO                                                     </td><td>CA                                                            </td><td>92123                                                         </td><td>CA - San Diego                                                </td><td>18                                                            </td><td>1517857.6                                                     </td><td>257177.3                                                      </td><td>233532.8                                                      </td><td>2015                                                          </td><td>717408234                                                     </td></tr>\n",
       "\t<tr><td>001 - HEART TRANSPLANT OR IMPLANT OF HEART ASSIST SYSTEM W MCC</td><td>50108                                                         </td><td>SUTTER MEDICAL CENTER, SACRAMENTO                             </td><td>2825 CAPITOL AVENUE                                           </td><td>SACRAMENTO                                                    </td><td>CA                                                            </td><td>95816                                                         </td><td>CA - Sacramento                                               </td><td>17                                                            </td><td>1470341.1                                                     </td><td>346150.1                                                      </td><td>338472.0                                                      </td><td>2015                                                          </td><td>717408234                                                     </td></tr>\n",
       "\t<tr><td>001 - HEART TRANSPLANT OR IMPLANT OF HEART ASSIST SYSTEM W MCC</td><td>50262                                                         </td><td>RONALD REAGAN U C L A MEDICAL CENTER                          </td><td>757 WESTWOOD PLAZA                                            </td><td>LOS ANGELES                                                   </td><td>CA                                                            </td><td>90095                                                         </td><td>CA - Los Angeles                                              </td><td>19                                                            </td><td>1450590.6                                                     </td><td>449486.1                                                      </td><td>404408.7                                                      </td><td>2015                                                          </td><td>717408234                                                     </td></tr>\n",
       "</tbody>\n",
       "</table>\n"
      ],
      "text/latex": [
       "\\begin{tabular}{r|llllllllllllll}\n",
       " DRG.Definition & Provider.Id & Provider.Name & Provider.Street.Address & Provider.City & Provider.State & Provider.Zip.Code & Hospital.Referral.Region..HRR..Description & Total.Discharges & Average.Covered.Charges & Average.Total.Payments & Average.Medicare.Payments & Year & total.medicare.payments\\\\\n",
       "\\hline\n",
       "\t 001 - HEART TRANSPLANT OR IMPLANT OF HEART ASSIST SYSTEM W MCC & 10033                                                          & UNIVERSITY OF ALABAMA HOSPITAL                                 & 619 SOUTH 19TH STREET                                          & BIRMINGHAM                                                     & AL                                                             & 35233                                                          & AL - Birmingham                                                & 11                                                             & 1014783.4                                                      & 171081.2                                                       & 141193.9                                                       & 2015                                                           & 106835420                                                     \\\\\n",
       "\t 001 - HEART TRANSPLANT OR IMPLANT OF HEART ASSIST SYSTEM W MCC & 30103                                                          & MAYO CLINIC HOSPITAL                                           & 5777 EAST MAYO BOULEVARD                                       & PHOENIX                                                        & AZ                                                             & 85054                                                          & AZ - Phoenix                                                   & 28                                                             &  382051.0                                                      & 194081.4                                                       & 167512.0                                                       & 2015                                                           & 127442565                                                     \\\\\n",
       "\t 001 - HEART TRANSPLANT OR IMPLANT OF HEART ASSIST SYSTEM W MCC & 50025                                                          & UNIVERSITY OF CALIFORNIA SAN DIEGO MEDICAL CENTER              & 200 WEST ARBOR DRIVE                                           & SAN DIEGO                                                      & CA                                                             & 92103                                                          & CA - San Diego                                                 & 21                                                             &  971881.5                                                      & 324050.7                                                       & 294419.6                                                       & 2015                                                           & 717408234                                                     \\\\\n",
       "\t 001 - HEART TRANSPLANT OR IMPLANT OF HEART ASSIST SYSTEM W MCC & 50100                                                          & SHARP MEMORIAL HOSPITAL                                        & 7901 FROST ST                                                  & SAN DIEGO                                                      & CA                                                             & 92123                                                          & CA - San Diego                                                 & 18                                                             & 1517857.6                                                      & 257177.3                                                       & 233532.8                                                       & 2015                                                           & 717408234                                                     \\\\\n",
       "\t 001 - HEART TRANSPLANT OR IMPLANT OF HEART ASSIST SYSTEM W MCC & 50108                                                          & SUTTER MEDICAL CENTER, SACRAMENTO                              & 2825 CAPITOL AVENUE                                            & SACRAMENTO                                                     & CA                                                             & 95816                                                          & CA - Sacramento                                                & 17                                                             & 1470341.1                                                      & 346150.1                                                       & 338472.0                                                       & 2015                                                           & 717408234                                                     \\\\\n",
       "\t 001 - HEART TRANSPLANT OR IMPLANT OF HEART ASSIST SYSTEM W MCC & 50262                                                          & RONALD REAGAN U C L A MEDICAL CENTER                           & 757 WESTWOOD PLAZA                                             & LOS ANGELES                                                    & CA                                                             & 90095                                                          & CA - Los Angeles                                               & 19                                                             & 1450590.6                                                      & 449486.1                                                       & 404408.7                                                       & 2015                                                           & 717408234                                                     \\\\\n",
       "\\end{tabular}\n"
      ],
      "text/markdown": [
       "\n",
       "| DRG.Definition | Provider.Id | Provider.Name | Provider.Street.Address | Provider.City | Provider.State | Provider.Zip.Code | Hospital.Referral.Region..HRR..Description | Total.Discharges | Average.Covered.Charges | Average.Total.Payments | Average.Medicare.Payments | Year | total.medicare.payments |\n",
       "|---|---|---|---|---|---|---|---|---|---|---|---|---|---|\n",
       "| 001 - HEART TRANSPLANT OR IMPLANT OF HEART ASSIST SYSTEM W MCC | 10033                                                          | UNIVERSITY OF ALABAMA HOSPITAL                                 | 619 SOUTH 19TH STREET                                          | BIRMINGHAM                                                     | AL                                                             | 35233                                                          | AL - Birmingham                                                | 11                                                             | 1014783.4                                                      | 171081.2                                                       | 141193.9                                                       | 2015                                                           | 106835420                                                      |\n",
       "| 001 - HEART TRANSPLANT OR IMPLANT OF HEART ASSIST SYSTEM W MCC | 30103                                                          | MAYO CLINIC HOSPITAL                                           | 5777 EAST MAYO BOULEVARD                                       | PHOENIX                                                        | AZ                                                             | 85054                                                          | AZ - Phoenix                                                   | 28                                                             |  382051.0                                                      | 194081.4                                                       | 167512.0                                                       | 2015                                                           | 127442565                                                      |\n",
       "| 001 - HEART TRANSPLANT OR IMPLANT OF HEART ASSIST SYSTEM W MCC | 50025                                                          | UNIVERSITY OF CALIFORNIA SAN DIEGO MEDICAL CENTER              | 200 WEST ARBOR DRIVE                                           | SAN DIEGO                                                      | CA                                                             | 92103                                                          | CA - San Diego                                                 | 21                                                             |  971881.5                                                      | 324050.7                                                       | 294419.6                                                       | 2015                                                           | 717408234                                                      |\n",
       "| 001 - HEART TRANSPLANT OR IMPLANT OF HEART ASSIST SYSTEM W MCC | 50100                                                          | SHARP MEMORIAL HOSPITAL                                        | 7901 FROST ST                                                  | SAN DIEGO                                                      | CA                                                             | 92123                                                          | CA - San Diego                                                 | 18                                                             | 1517857.6                                                      | 257177.3                                                       | 233532.8                                                       | 2015                                                           | 717408234                                                      |\n",
       "| 001 - HEART TRANSPLANT OR IMPLANT OF HEART ASSIST SYSTEM W MCC | 50108                                                          | SUTTER MEDICAL CENTER, SACRAMENTO                              | 2825 CAPITOL AVENUE                                            | SACRAMENTO                                                     | CA                                                             | 95816                                                          | CA - Sacramento                                                | 17                                                             | 1470341.1                                                      | 346150.1                                                       | 338472.0                                                       | 2015                                                           | 717408234                                                      |\n",
       "| 001 - HEART TRANSPLANT OR IMPLANT OF HEART ASSIST SYSTEM W MCC | 50262                                                          | RONALD REAGAN U C L A MEDICAL CENTER                           | 757 WESTWOOD PLAZA                                             | LOS ANGELES                                                    | CA                                                             | 90095                                                          | CA - Los Angeles                                               | 19                                                             | 1450590.6                                                      | 449486.1                                                       | 404408.7                                                       | 2015                                                           | 717408234                                                      |\n",
       "\n"
      ],
      "text/plain": [
       "  DRG.Definition                                                 Provider.Id\n",
       "1 001 - HEART TRANSPLANT OR IMPLANT OF HEART ASSIST SYSTEM W MCC 10033      \n",
       "2 001 - HEART TRANSPLANT OR IMPLANT OF HEART ASSIST SYSTEM W MCC 30103      \n",
       "3 001 - HEART TRANSPLANT OR IMPLANT OF HEART ASSIST SYSTEM W MCC 50025      \n",
       "4 001 - HEART TRANSPLANT OR IMPLANT OF HEART ASSIST SYSTEM W MCC 50100      \n",
       "5 001 - HEART TRANSPLANT OR IMPLANT OF HEART ASSIST SYSTEM W MCC 50108      \n",
       "6 001 - HEART TRANSPLANT OR IMPLANT OF HEART ASSIST SYSTEM W MCC 50262      \n",
       "  Provider.Name                                     Provider.Street.Address \n",
       "1 UNIVERSITY OF ALABAMA HOSPITAL                    619 SOUTH 19TH STREET   \n",
       "2 MAYO CLINIC HOSPITAL                              5777 EAST MAYO BOULEVARD\n",
       "3 UNIVERSITY OF CALIFORNIA SAN DIEGO MEDICAL CENTER 200 WEST ARBOR DRIVE    \n",
       "4 SHARP MEMORIAL HOSPITAL                           7901 FROST ST           \n",
       "5 SUTTER MEDICAL CENTER, SACRAMENTO                 2825 CAPITOL AVENUE     \n",
       "6 RONALD REAGAN U C L A MEDICAL CENTER              757 WESTWOOD PLAZA      \n",
       "  Provider.City Provider.State Provider.Zip.Code\n",
       "1 BIRMINGHAM    AL             35233            \n",
       "2 PHOENIX       AZ             85054            \n",
       "3 SAN DIEGO     CA             92103            \n",
       "4 SAN DIEGO     CA             92123            \n",
       "5 SACRAMENTO    CA             95816            \n",
       "6 LOS ANGELES   CA             90095            \n",
       "  Hospital.Referral.Region..HRR..Description Total.Discharges\n",
       "1 AL - Birmingham                            11              \n",
       "2 AZ - Phoenix                               28              \n",
       "3 CA - San Diego                             21              \n",
       "4 CA - San Diego                             18              \n",
       "5 CA - Sacramento                            17              \n",
       "6 CA - Los Angeles                           19              \n",
       "  Average.Covered.Charges Average.Total.Payments Average.Medicare.Payments Year\n",
       "1 1014783.4               171081.2               141193.9                  2015\n",
       "2  382051.0               194081.4               167512.0                  2015\n",
       "3  971881.5               324050.7               294419.6                  2015\n",
       "4 1517857.6               257177.3               233532.8                  2015\n",
       "5 1470341.1               346150.1               338472.0                  2015\n",
       "6 1450590.6               449486.1               404408.7                  2015\n",
       "  total.medicare.payments\n",
       "1 106835420              \n",
       "2 127442565              \n",
       "3 717408234              \n",
       "4 717408234              \n",
       "5 717408234              \n",
       "6 717408234              "
      ]
     },
     "metadata": {},
     "output_type": "display_data"
    }
   ],
   "source": [
    "total.mediare.payments <- payment %>% group_by(Provider.State) %>% \n",
    "mutate(total.medicare.payments = sum(Average.Medicare.Payments))\n",
    "\n",
    "head(total.mediare.payments)"
   ]
  },
  {
   "cell_type": "markdown",
   "metadata": {},
   "source": [
    "First I will calculate the U.S average total discharges, covered charges, total payments and medicare payments for years 2015, 2016 and 2017."
   ]
  },
  {
   "cell_type": "code",
   "execution_count": 91,
   "metadata": {},
   "outputs": [
    {
     "data": {
      "text/html": [
       "<ol class=list-inline>\n",
       "\t<li>3</li>\n",
       "\t<li>5</li>\n",
       "</ol>\n"
      ],
      "text/latex": [
       "\\begin{enumerate*}\n",
       "\\item 3\n",
       "\\item 5\n",
       "\\end{enumerate*}\n"
      ],
      "text/markdown": [
       "1. 3\n",
       "2. 5\n",
       "\n",
       "\n"
      ],
      "text/plain": [
       "[1] 3 5"
      ]
     },
     "metadata": {},
     "output_type": "display_data"
    },
    {
     "data": {
      "text/html": [
       "<table>\n",
       "<thead><tr><th scope=col>Year</th><th scope=col>us.mean.total.discharges</th><th scope=col>us.mean.average.covered.charges</th><th scope=col>us.mean.average.total.payments</th><th scope=col>us.mean.average.medicare.payments</th></tr></thead>\n",
       "<tbody>\n",
       "\t<tr><td>2015    </td><td>36.82096</td><td>55008.66</td><td>13219.57</td><td>11213.91</td></tr>\n",
       "\t<tr><td>2016    </td><td>36.64338</td><td>58231.57</td><td>13728.46</td><td>11656.63</td></tr>\n",
       "\t<tr><td>2017    </td><td>37.60442</td><td>61166.15</td><td>13978.19</td><td>11816.24</td></tr>\n",
       "</tbody>\n",
       "</table>\n"
      ],
      "text/latex": [
       "\\begin{tabular}{r|lllll}\n",
       " Year & us.mean.total.discharges & us.mean.average.covered.charges & us.mean.average.total.payments & us.mean.average.medicare.payments\\\\\n",
       "\\hline\n",
       "\t 2015     & 36.82096 & 55008.66 & 13219.57 & 11213.91\\\\\n",
       "\t 2016     & 36.64338 & 58231.57 & 13728.46 & 11656.63\\\\\n",
       "\t 2017     & 37.60442 & 61166.15 & 13978.19 & 11816.24\\\\\n",
       "\\end{tabular}\n"
      ],
      "text/markdown": [
       "\n",
       "| Year | us.mean.total.discharges | us.mean.average.covered.charges | us.mean.average.total.payments | us.mean.average.medicare.payments |\n",
       "|---|---|---|---|---|\n",
       "| 2015     | 36.82096 | 55008.66 | 13219.57 | 11213.91 |\n",
       "| 2016     | 36.64338 | 58231.57 | 13728.46 | 11656.63 |\n",
       "| 2017     | 37.60442 | 61166.15 | 13978.19 | 11816.24 |\n",
       "\n"
      ],
      "text/plain": [
       "  Year us.mean.total.discharges us.mean.average.covered.charges\n",
       "1 2015 36.82096                 55008.66                       \n",
       "2 2016 36.64338                 58231.57                       \n",
       "3 2017 37.60442                 61166.15                       \n",
       "  us.mean.average.total.payments us.mean.average.medicare.payments\n",
       "1 13219.57                       11213.91                         \n",
       "2 13728.46                       11656.63                         \n",
       "3 13978.19                       11816.24                         "
      ]
     },
     "metadata": {},
     "output_type": "display_data"
    }
   ],
   "source": [
    "us.total <- payment %>% group_by(Year) %>%\n",
    "        summarise(\n",
    "                  us.mean.total.discharges          = mean(Total.Discharges),\n",
    "                  us.mean.average.covered.charges   = mean(Average.Covered.Charges),\n",
    "                  us.mean.average.total.payments    = mean(Average.Total.Payments),\n",
    "                  us.mean.average.medicare.payments = mean(Average.Medicare.Payments))\n",
    "                  \n",
    "dim(us.total); head(us.total)"
   ]
  },
  {
   "cell_type": "code",
   "execution_count": 286,
   "metadata": {},
   "outputs": [
    {
     "data": {
      "image/png": "[encoded data removed]",
      "text/plain": [
       "plot without title"
      ]
     },
     "metadata": {},
     "output_type": "display_data"
    }
   ],
   "source": [
    "a<-ggplot(data=us.total, aes(x=Year, y=us.mean.total.discharges)) +\n",
    "  geom_bar(stat=\"identity\", fill=\"#1380A1\")+\n",
    "  geom_text(aes(label=us.mean.total.discharges), vjust=1, color=\"white\", size=2)+\n",
    "  ggtitle(\"Total Discharges\") +\n",
    "  xlab(\"\") + ylab(\"\")+\n",
    "  theme_minimal()+\n",
    "theme(plot.title = element_text(color=\"black\", size=14, face=\"bold.italic\"))\n",
    "\n",
    "b<-ggplot(data=us.total, aes(x=Year, y=us.mean.average.covered.charges)) +\n",
    "  geom_bar(stat=\"identity\", fill=\"#2E86C1\")+\n",
    "  geom_text(aes(label=us.mean.average.covered.charges), vjust=1, color=\"white\", size=2)+\n",
    "   ggtitle(\"Covered Charges\") +\n",
    "  xlab(\"\") + ylab(\"\")+\n",
    "  theme_minimal()+\n",
    "  theme(plot.title = element_text(color=\"black\", size=14, face=\"bold.italic\"))\n",
    "\n",
    "c<-ggplot(data=us.total, aes(x=Year, y=us.mean.average.total.payments)) +\n",
    "  geom_bar(stat=\"identity\", fill=\"grey\")+\n",
    "   geom_text(aes(label=us.mean.average.total.payments), vjust=1, color=\"white\", size=2)+\n",
    "   ggtitle(\"Total Payments\") +\n",
    "  xlab(\"\") + ylab(\"\")+\n",
    "  theme_minimal() + theme(plot.title = element_text(color=\"black\", size=14, face=\"bold.italic\"))\n",
    "\n",
    "p<-ggplot(data=us.total, aes(x=Year, y=us.mean.average.medicare.payments)) +\n",
    "  geom_bar(stat=\"identity\", fill=\"black\")+\n",
    " geom_text(aes(label=us.mean.average.medicare.payments), vjust=1.6, color=\"white\", size=2)+\n",
    " ggtitle(\"Medicare Payments\") +\n",
    "  xlab(\"\") + ylab(\"\")+ labs(title = \"Medicare Payments\",\n",
    "        subtitle = \"Medicare payments increased from 1122 to 79998  this is the 8%\")+\n",
    "  theme_minimal() + theme(\n",
    " plot.title = element_text(color=\"black\", size=14, face=\"bold.italic\"), plot.subtitle = element_text(hjust = 0.5, size=6, color = \"black\", face = \"bold.italic\"))\n",
    "      \n",
    "      \n",
    "#sul <- c('2015', '2016', '2017')\n",
    "#p <- ggplot(data=us.total, aes(x=Year, y=us.mean.average.medicare.payments, fill=sul)) +\n",
    "#  geom_bar(stat=\"identity\", position=position_dodge())+\n",
    "#  scale_fill_brewer(palette=\"Paired\")+\n",
    "#  theme_minimal()\n",
    "\n",
    "#ggarrange(nata, marina, santa) \n",
    "ggarrange(a, b, c, p,\n",
    "                   # labels = c(\"A\", \"B\", \"C\", \"D\"),\n",
    "                    ncol = 2, nrow = 2, widths = 0.2, heights = 0.5) \n",
    "\n",
    "                             #tu gvinda amovatrialot  + coord_flip()"
   ]
  },
  {
   "cell_type": "markdown",
   "metadata": {},
   "source": [
    "What is the average total discharges, covered charges, total payments and medicare payments for each State in 2017"
   ]
  },
  {
   "cell_type": "code",
   "execution_count": 95,
   "metadata": {},
   "outputs": [
    {
     "data": {
      "text/html": [
       "<ol class=list-inline>\n",
       "\t<li>51</li>\n",
       "\t<li>6</li>\n",
       "</ol>\n"
      ],
      "text/latex": [
       "\\begin{enumerate*}\n",
       "\\item 51\n",
       "\\item 6\n",
       "\\end{enumerate*}\n"
      ],
      "text/markdown": [
       "1. 51\n",
       "2. 6\n",
       "\n",
       "\n"
      ],
      "text/plain": [
       "[1] 51  6"
      ]
     },
     "metadata": {},
     "output_type": "display_data"
    },
    {
     "data": {
      "text/html": [
       "<table>\n",
       "<thead><tr><th scope=col>Provider.State</th><th scope=col>count</th><th scope=col>state.mean.total.discharges</th><th scope=col>state.mean.average.covered.charges</th><th scope=col>state.mean.average.total.payments</th><th scope=col>state.mean.average.medicare.payments</th></tr></thead>\n",
       "<tbody>\n",
       "\t<tr><td>AK       </td><td>  267    </td><td>28.76779 </td><td> 87564.27</td><td>21367.49 </td><td>18712.589</td></tr>\n",
       "\t<tr><td>AL       </td><td> 3916    </td><td>36.27681 </td><td> 54725.17</td><td>10519.97 </td><td> 8706.915</td></tr>\n",
       "\t<tr><td>AR       </td><td> 2488    </td><td>36.83883 </td><td> 42548.17</td><td>10883.90 </td><td> 9332.545</td></tr>\n",
       "\t<tr><td>AZ       </td><td> 3407    </td><td>33.76548 </td><td> 71446.32</td><td>14886.30 </td><td>12908.001</td></tr>\n",
       "\t<tr><td>CA       </td><td>15216    </td><td>34.90628 </td><td>106406.99</td><td>18417.93 </td><td>16207.739</td></tr>\n",
       "\t<tr><td>CO       </td><td> 2208    </td><td>33.28986 </td><td> 81883.65</td><td>14994.47 </td><td>12584.929</td></tr>\n",
       "</tbody>\n",
       "</table>\n"
      ],
      "text/latex": [
       "\\begin{tabular}{r|llllll}\n",
       " Provider.State & count & state.mean.total.discharges & state.mean.average.covered.charges & state.mean.average.total.payments & state.mean.average.medicare.payments\\\\\n",
       "\\hline\n",
       "\t AK        &   267     & 28.76779  &  87564.27 & 21367.49  & 18712.589\\\\\n",
       "\t AL        &  3916     & 36.27681  &  54725.17 & 10519.97  &  8706.915\\\\\n",
       "\t AR        &  2488     & 36.83883  &  42548.17 & 10883.90  &  9332.545\\\\\n",
       "\t AZ        &  3407     & 33.76548  &  71446.32 & 14886.30  & 12908.001\\\\\n",
       "\t CA        & 15216     & 34.90628  & 106406.99 & 18417.93  & 16207.739\\\\\n",
       "\t CO        &  2208     & 33.28986  &  81883.65 & 14994.47  & 12584.929\\\\\n",
       "\\end{tabular}\n"
      ],
      "text/markdown": [
       "\n",
       "| Provider.State | count | state.mean.total.discharges | state.mean.average.covered.charges | state.mean.average.total.payments | state.mean.average.medicare.payments |\n",
       "|---|---|---|---|---|---|\n",
       "| AK        |   267     | 28.76779  |  87564.27 | 21367.49  | 18712.589 |\n",
       "| AL        |  3916     | 36.27681  |  54725.17 | 10519.97  |  8706.915 |\n",
       "| AR        |  2488     | 36.83883  |  42548.17 | 10883.90  |  9332.545 |\n",
       "| AZ        |  3407     | 33.76548  |  71446.32 | 14886.30  | 12908.001 |\n",
       "| CA        | 15216     | 34.90628  | 106406.99 | 18417.93  | 16207.739 |\n",
       "| CO        |  2208     | 33.28986  |  81883.65 | 14994.47  | 12584.929 |\n",
       "\n"
      ],
      "text/plain": [
       "  Provider.State count state.mean.total.discharges\n",
       "1 AK               267 28.76779                   \n",
       "2 AL              3916 36.27681                   \n",
       "3 AR              2488 36.83883                   \n",
       "4 AZ              3407 33.76548                   \n",
       "5 CA             15216 34.90628                   \n",
       "6 CO              2208 33.28986                   \n",
       "  state.mean.average.covered.charges state.mean.average.total.payments\n",
       "1  87564.27                          21367.49                         \n",
       "2  54725.17                          10519.97                         \n",
       "3  42548.17                          10883.90                         \n",
       "4  71446.32                          14886.30                         \n",
       "5 106406.99                          18417.93                         \n",
       "6  81883.65                          14994.47                         \n",
       "  state.mean.average.medicare.payments\n",
       "1 18712.589                           \n",
       "2  8706.915                           \n",
       "3  9332.545                           \n",
       "4 12908.001                           \n",
       "5 16207.739                           \n",
       "6 12584.929                           "
      ]
     },
     "metadata": {},
     "output_type": "display_data"
    }
   ],
   "source": [
    "by.state <- payment %>% group_by(Provider.State) %>% filter(Year == 2017) %>%\n",
    "        summarise(count =n(),\n",
    "                  state.mean.total.discharges          = mean(Total.Discharges),\n",
    "                  state.mean.average.covered.charges   = mean(Average.Covered.Charges),\n",
    "                  state.mean.average.total.payments    = mean(Average.Total.Payments),\n",
    "                  state.mean.average.medicare.payments = mean(Average.Medicare.Payments))\n",
    "                  \n",
    "                                            \n",
    "dim(by.state); head(by.state)"
   ]
  },
  {
   "cell_type": "markdown",
   "metadata": {},
   "source": [
    "I will include countrie's average variables to the dataset."
   ]
  },
  {
   "cell_type": "code",
   "execution_count": 16,
   "metadata": {},
   "outputs": [],
   "source": [
    "by.state$us.mean.total.discharges <- us.total$us.mean.total.discharges\n",
    "by.state$us.mean.average.covered.charges <- us.total$us.mean.average.covered.charges\n",
    "by.state$us.mean.average.total.payments <- us.total$us.mean.average.total.payments\n",
    "by.state$us.mean.average.medicare.payments <- us.total$us.mean.average.medicare.payments"
   ]
  },
  {
   "cell_type": "markdown",
   "metadata": {},
   "source": [
    "RATIOS - state average metrics / Country average metrics"
   ]
  },
  {
   "cell_type": "code",
   "execution_count": 17,
   "metadata": {},
   "outputs": [
    {
     "data": {
      "text/html": [
       "<table>\n",
       "<thead><tr><th scope=col>Provider.State</th><th scope=col>count</th><th scope=col>state.mean.total.discharges</th><th scope=col>state.mean.average.covered.charges</th><th scope=col>state.mean.average.total.payments</th><th scope=col>state.mean.average.medicare.payments</th><th scope=col>us.mean.total.discharges</th><th scope=col>us.mean.average.covered.charges</th><th scope=col>us.mean.average.total.payments</th><th scope=col>us.mean.average.medicare.payments</th></tr></thead>\n",
       "<tbody>\n",
       "\t<tr><td>AK       </td><td>  787    </td><td>27.81830 </td><td> 82591.99</td><td>20367.27 </td><td>18024.084</td><td>37.02043 </td><td>58106.47 </td><td>13638.27 </td><td>11559.16 </td></tr>\n",
       "\t<tr><td>AL       </td><td>12411    </td><td>36.51092 </td><td> 51936.37</td><td>10252.66 </td><td> 8608.123</td><td>37.02043 </td><td>58106.47 </td><td>13638.27 </td><td>11559.16 </td></tr>\n",
       "\t<tr><td>AR       </td><td> 7455    </td><td>36.56660 </td><td> 40829.99</td><td>10728.62 </td><td> 9202.513</td><td>37.02043 </td><td>58106.47 </td><td>13638.27 </td><td>11559.16 </td></tr>\n",
       "\t<tr><td>AZ       </td><td>10245    </td><td>33.04226 </td><td> 67452.55</td><td>14363.89 </td><td>12439.489</td><td>37.02043 </td><td>58106.47 </td><td>13638.27 </td><td>11559.16 </td></tr>\n",
       "\t<tr><td>CA       </td><td>45431    </td><td>33.86711 </td><td>102112.97</td><td>17906.99 </td><td>15791.161</td><td>37.02043 </td><td>58106.47 </td><td>13638.27 </td><td>11559.16 </td></tr>\n",
       "\t<tr><td>CO       </td><td> 6719    </td><td>31.90207 </td><td> 74810.15</td><td>14180.59 </td><td>11971.441</td><td>37.02043 </td><td>58106.47 </td><td>13638.27 </td><td>11559.16 </td></tr>\n",
       "</tbody>\n",
       "</table>\n"
      ],
      "text/latex": [
       "\\begin{tabular}{r|llllllllll}\n",
       " Provider.State & count & state.mean.total.discharges & state.mean.average.covered.charges & state.mean.average.total.payments & state.mean.average.medicare.payments & us.mean.total.discharges & us.mean.average.covered.charges & us.mean.average.total.payments & us.mean.average.medicare.payments\\\\\n",
       "\\hline\n",
       "\t AK        &   787     & 27.81830  &  82591.99 & 20367.27  & 18024.084 & 37.02043  & 58106.47  & 13638.27  & 11559.16 \\\\\n",
       "\t AL        & 12411     & 36.51092  &  51936.37 & 10252.66  &  8608.123 & 37.02043  & 58106.47  & 13638.27  & 11559.16 \\\\\n",
       "\t AR        &  7455     & 36.56660  &  40829.99 & 10728.62  &  9202.513 & 37.02043  & 58106.47  & 13638.27  & 11559.16 \\\\\n",
       "\t AZ        & 10245     & 33.04226  &  67452.55 & 14363.89  & 12439.489 & 37.02043  & 58106.47  & 13638.27  & 11559.16 \\\\\n",
       "\t CA        & 45431     & 33.86711  & 102112.97 & 17906.99  & 15791.161 & 37.02043  & 58106.47  & 13638.27  & 11559.16 \\\\\n",
       "\t CO        &  6719     & 31.90207  &  74810.15 & 14180.59  & 11971.441 & 37.02043  & 58106.47  & 13638.27  & 11559.16 \\\\\n",
       "\\end{tabular}\n"
      ],
      "text/markdown": [
       "\n",
       "| Provider.State | count | state.mean.total.discharges | state.mean.average.covered.charges | state.mean.average.total.payments | state.mean.average.medicare.payments | us.mean.total.discharges | us.mean.average.covered.charges | us.mean.average.total.payments | us.mean.average.medicare.payments |\n",
       "|---|---|---|---|---|---|---|---|---|---|\n",
       "| AK        |   787     | 27.81830  |  82591.99 | 20367.27  | 18024.084 | 37.02043  | 58106.47  | 13638.27  | 11559.16  |\n",
       "| AL        | 12411     | 36.51092  |  51936.37 | 10252.66  |  8608.123 | 37.02043  | 58106.47  | 13638.27  | 11559.16  |\n",
       "| AR        |  7455     | 36.56660  |  40829.99 | 10728.62  |  9202.513 | 37.02043  | 58106.47  | 13638.27  | 11559.16  |\n",
       "| AZ        | 10245     | 33.04226  |  67452.55 | 14363.89  | 12439.489 | 37.02043  | 58106.47  | 13638.27  | 11559.16  |\n",
       "| CA        | 45431     | 33.86711  | 102112.97 | 17906.99  | 15791.161 | 37.02043  | 58106.47  | 13638.27  | 11559.16  |\n",
       "| CO        |  6719     | 31.90207  |  74810.15 | 14180.59  | 11971.441 | 37.02043  | 58106.47  | 13638.27  | 11559.16  |\n",
       "\n"
      ],
      "text/plain": [
       "  Provider.State count state.mean.total.discharges\n",
       "1 AK               787 27.81830                   \n",
       "2 AL             12411 36.51092                   \n",
       "3 AR              7455 36.56660                   \n",
       "4 AZ             10245 33.04226                   \n",
       "5 CA             45431 33.86711                   \n",
       "6 CO              6719 31.90207                   \n",
       "  state.mean.average.covered.charges state.mean.average.total.payments\n",
       "1  82591.99                          20367.27                         \n",
       "2  51936.37                          10252.66                         \n",
       "3  40829.99                          10728.62                         \n",
       "4  67452.55                          14363.89                         \n",
       "5 102112.97                          17906.99                         \n",
       "6  74810.15                          14180.59                         \n",
       "  state.mean.average.medicare.payments us.mean.total.discharges\n",
       "1 18024.084                            37.02043                \n",
       "2  8608.123                            37.02043                \n",
       "3  9202.513                            37.02043                \n",
       "4 12439.489                            37.02043                \n",
       "5 15791.161                            37.02043                \n",
       "6 11971.441                            37.02043                \n",
       "  us.mean.average.covered.charges us.mean.average.total.payments\n",
       "1 58106.47                        13638.27                      \n",
       "2 58106.47                        13638.27                      \n",
       "3 58106.47                        13638.27                      \n",
       "4 58106.47                        13638.27                      \n",
       "5 58106.47                        13638.27                      \n",
       "6 58106.47                        13638.27                      \n",
       "  us.mean.average.medicare.payments\n",
       "1 11559.16                         \n",
       "2 11559.16                         \n",
       "3 11559.16                         \n",
       "4 11559.16                         \n",
       "5 11559.16                         \n",
       "6 11559.16                         "
      ]
     },
     "metadata": {},
     "output_type": "display_data"
    }
   ],
   "source": [
    "state.average.ratios <- by.state %>% group_by(Provider.State) %>%\n",
    " mutate(ratio.state.discharges = state.mean.total.discharges/us.mean.total.discharges,\n",
    "       ratio.covered.charges = state.mean.average.covered.charges/us.mean.average.covered.charges,\n",
    "       ratio.total.payments = state.mean.average.total.payments /us.mean.average.total.payments,\n",
    "       ratio.medicare.payments = state.mean.average.medicare.payments/us.mean.average.medicare.payments)\n",
    "\n",
    "head(by.state)"
   ]
  },
  {
   "cell_type": "markdown",
   "metadata": {},
   "source": [
    "Average Covered Charges"
   ]
  },
  {
   "cell_type": "code",
   "execution_count": 18,
   "metadata": {},
   "outputs": [
    {
     "data": {
      "text/html": [
       "<ol class=list-inline>\n",
       "\t<li>51</li>\n",
       "\t<li>4</li>\n",
       "</ol>\n"
      ],
      "text/latex": [
       "\\begin{enumerate*}\n",
       "\\item 51\n",
       "\\item 4\n",
       "\\end{enumerate*}\n"
      ],
      "text/markdown": [
       "1. 51\n",
       "2. 4\n",
       "\n",
       "\n"
      ],
      "text/plain": [
       "[1] 51  4"
      ]
     },
     "metadata": {},
     "output_type": "display_data"
    },
    {
     "data": {
      "text/html": [
       "<table>\n",
       "<thead><tr><th scope=col>Provider.State</th><th scope=col>ratio.covered.charges</th><th scope=col>Avg</th><th scope=col>Ratio</th></tr></thead>\n",
       "<tbody>\n",
       "\t<tr><td>CA                          </td><td>1.7573426                   </td><td>1                           </td><td>Above the Countrie's Average</td></tr>\n",
       "\t<tr><td>NV                          </td><td>1.6576461                   </td><td>1                           </td><td>Above the Countrie's Average</td></tr>\n",
       "\t<tr><td>NJ                          </td><td>1.5281179                   </td><td>1                           </td><td>Above the Countrie's Average</td></tr>\n",
       "\t<tr><td>AK                          </td><td>1.4213907                   </td><td>1                           </td><td>Above the Countrie's Average</td></tr>\n",
       "\t<tr><td>DC                          </td><td>1.3060446                   </td><td>1                           </td><td>Above the Countrie's Average</td></tr>\n",
       "\t<tr><td>CO                          </td><td>1.2874668                   </td><td>1                           </td><td>Above the Countrie's Average</td></tr>\n",
       "\t<tr><td>FL                          </td><td>1.2384006                   </td><td>1                           </td><td>Above the Countrie's Average</td></tr>\n",
       "\t<tr><td>TX                          </td><td>1.1667570                   </td><td>1                           </td><td>Above the Countrie's Average</td></tr>\n",
       "\t<tr><td>AZ                          </td><td>1.1608441                   </td><td>1                           </td><td>Above the Countrie's Average</td></tr>\n",
       "\t<tr><td>PA                          </td><td>1.1406561                   </td><td>1                           </td><td>Above the Countrie's Average</td></tr>\n",
       "\t<tr><td>WA                          </td><td>1.0323259                   </td><td>1                           </td><td>Above the Countrie's Average</td></tr>\n",
       "\t<tr><td>NY                          </td><td>1.0225890                   </td><td>1                           </td><td>Above the Countrie's Average</td></tr>\n",
       "\t<tr><td>SC                          </td><td>1.0100989                   </td><td>1                           </td><td>Above the Countrie's Average</td></tr>\n",
       "\t<tr><td>KS                          </td><td>0.9388987                   </td><td>1                           </td><td>Below the Countrie's Average</td></tr>\n",
       "\t<tr><td>IL                          </td><td>0.9249473                   </td><td>1                           </td><td>Below the Countrie's Average</td></tr>\n",
       "</tbody>\n",
       "</table>\n"
      ],
      "text/latex": [
       "\\begin{tabular}{r|llll}\n",
       " Provider.State & ratio.covered.charges & Avg & Ratio\\\\\n",
       "\\hline\n",
       "\t CA                           & 1.7573426                    & 1                            & Above the Countrie's Average\\\\\n",
       "\t NV                           & 1.6576461                    & 1                            & Above the Countrie's Average\\\\\n",
       "\t NJ                           & 1.5281179                    & 1                            & Above the Countrie's Average\\\\\n",
       "\t AK                           & 1.4213907                    & 1                            & Above the Countrie's Average\\\\\n",
       "\t DC                           & 1.3060446                    & 1                            & Above the Countrie's Average\\\\\n",
       "\t CO                           & 1.2874668                    & 1                            & Above the Countrie's Average\\\\\n",
       "\t FL                           & 1.2384006                    & 1                            & Above the Countrie's Average\\\\\n",
       "\t TX                           & 1.1667570                    & 1                            & Above the Countrie's Average\\\\\n",
       "\t AZ                           & 1.1608441                    & 1                            & Above the Countrie's Average\\\\\n",
       "\t PA                           & 1.1406561                    & 1                            & Above the Countrie's Average\\\\\n",
       "\t WA                           & 1.0323259                    & 1                            & Above the Countrie's Average\\\\\n",
       "\t NY                           & 1.0225890                    & 1                            & Above the Countrie's Average\\\\\n",
       "\t SC                           & 1.0100989                    & 1                            & Above the Countrie's Average\\\\\n",
       "\t KS                           & 0.9388987                    & 1                            & Below the Countrie's Average\\\\\n",
       "\t IL                           & 0.9249473                    & 1                            & Below the Countrie's Average\\\\\n",
       "\\end{tabular}\n"
      ],
      "text/markdown": [
       "\n",
       "| Provider.State | ratio.covered.charges | Avg | Ratio |\n",
       "|---|---|---|---|\n",
       "| CA                           | 1.7573426                    | 1                            | Above the Countrie's Average |\n",
       "| NV                           | 1.6576461                    | 1                            | Above the Countrie's Average |\n",
       "| NJ                           | 1.5281179                    | 1                            | Above the Countrie's Average |\n",
       "| AK                           | 1.4213907                    | 1                            | Above the Countrie's Average |\n",
       "| DC                           | 1.3060446                    | 1                            | Above the Countrie's Average |\n",
       "| CO                           | 1.2874668                    | 1                            | Above the Countrie's Average |\n",
       "| FL                           | 1.2384006                    | 1                            | Above the Countrie's Average |\n",
       "| TX                           | 1.1667570                    | 1                            | Above the Countrie's Average |\n",
       "| AZ                           | 1.1608441                    | 1                            | Above the Countrie's Average |\n",
       "| PA                           | 1.1406561                    | 1                            | Above the Countrie's Average |\n",
       "| WA                           | 1.0323259                    | 1                            | Above the Countrie's Average |\n",
       "| NY                           | 1.0225890                    | 1                            | Above the Countrie's Average |\n",
       "| SC                           | 1.0100989                    | 1                            | Above the Countrie's Average |\n",
       "| KS                           | 0.9388987                    | 1                            | Below the Countrie's Average |\n",
       "| IL                           | 0.9249473                    | 1                            | Below the Countrie's Average |\n",
       "\n"
      ],
      "text/plain": [
       "   Provider.State ratio.covered.charges Avg Ratio                       \n",
       "1  CA             1.7573426             1   Above the Countrie's Average\n",
       "2  NV             1.6576461             1   Above the Countrie's Average\n",
       "3  NJ             1.5281179             1   Above the Countrie's Average\n",
       "4  AK             1.4213907             1   Above the Countrie's Average\n",
       "5  DC             1.3060446             1   Above the Countrie's Average\n",
       "6  CO             1.2874668             1   Above the Countrie's Average\n",
       "7  FL             1.2384006             1   Above the Countrie's Average\n",
       "8  TX             1.1667570             1   Above the Countrie's Average\n",
       "9  AZ             1.1608441             1   Above the Countrie's Average\n",
       "10 PA             1.1406561             1   Above the Countrie's Average\n",
       "11 WA             1.0323259             1   Above the Countrie's Average\n",
       "12 NY             1.0225890             1   Above the Countrie's Average\n",
       "13 SC             1.0100989             1   Above the Countrie's Average\n",
       "14 KS             0.9388987             1   Below the Countrie's Average\n",
       "15 IL             0.9249473             1   Below the Countrie's Average"
      ]
     },
     "metadata": {},
     "output_type": "display_data"
    }
   ],
   "source": [
    "us.states <- state.average.ratios %>%\n",
    "        select(Provider.State, ratio.covered.charges) %>%\n",
    "        arrange(ratio.covered.charges) %>%\n",
    "        mutate(Avg = mean(1, na.rm = TRUE),\n",
    "               Ratio = ifelse(ratio.covered.charges - Avg > 0, \"Above the Countrie's Average\", \"Below the Countrie's Average\")) %>%\n",
    "arrange(desc(ratio.covered.charges))\n",
    "dim(us.states)\n",
    "head(us.states, 15)"
   ]
  },
  {
   "cell_type": "code",
   "execution_count": 19,
   "metadata": {},
   "outputs": [],
   "source": [
    "covered.charges <- ggplot(us.states, aes(ratio.covered.charges, Provider.State, color = Ratio)) +\n",
    "        geom_segment(aes(x = Avg, y = Provider.State, xend = ratio.covered.charges, yend = Provider.State), color = \"grey50\") +\n",
    "        geom_point()+ \n",
    "        labs(title = \"Total Covered Charges by State\")+\n",
    "        theme_minimal() +\n",
    "        theme(axis.title = element_blank())"
   ]
  },
  {
   "cell_type": "markdown",
   "metadata": {},
   "source": [
    "Average Medicare payment"
   ]
  },
  {
   "cell_type": "code",
   "execution_count": 20,
   "metadata": {},
   "outputs": [
    {
     "data": {
      "text/html": [
       "<table>\n",
       "<thead><tr><th scope=col>Provider.State</th><th scope=col>ratio.medicare.payments</th><th scope=col>Avg2</th><th scope=col>Ratio</th></tr></thead>\n",
       "<tbody>\n",
       "\t<tr><td>AK                          </td><td>1.559290                    </td><td>1                           </td><td>Above the Countrie's Average</td></tr>\n",
       "\t<tr><td>CA                          </td><td>1.366116                    </td><td>1                           </td><td>Above the Countrie's Average</td></tr>\n",
       "\t<tr><td>DC                          </td><td>1.350595                    </td><td>1                           </td><td>Above the Countrie's Average</td></tr>\n",
       "\t<tr><td>MD                          </td><td>1.348789                    </td><td>1                           </td><td>Above the Countrie's Average</td></tr>\n",
       "\t<tr><td>HI                          </td><td>1.315449                    </td><td>1                           </td><td>Above the Countrie's Average</td></tr>\n",
       "\t<tr><td>NY                          </td><td>1.259574                    </td><td>1                           </td><td>Above the Countrie's Average</td></tr>\n",
       "\t<tr><td>OR                          </td><td>1.189392                    </td><td>1                           </td><td>Above the Countrie's Average</td></tr>\n",
       "\t<tr><td>MA                          </td><td>1.173011                    </td><td>1                           </td><td>Above the Countrie's Average</td></tr>\n",
       "\t<tr><td>MN                          </td><td>1.160864                    </td><td>1                           </td><td>Above the Countrie's Average</td></tr>\n",
       "\t<tr><td>WA                          </td><td>1.133437                    </td><td>1                           </td><td>Above the Countrie's Average</td></tr>\n",
       "\t<tr><td>CT                          </td><td>1.110938                    </td><td>1                           </td><td>Above the Countrie's Average</td></tr>\n",
       "\t<tr><td>VT                          </td><td>1.091807                    </td><td>1                           </td><td>Above the Countrie's Average</td></tr>\n",
       "\t<tr><td>AZ                          </td><td>1.076158                    </td><td>1                           </td><td>Above the Countrie's Average</td></tr>\n",
       "\t<tr><td>NV                          </td><td>1.073607                    </td><td>1                           </td><td>Above the Countrie's Average</td></tr>\n",
       "\t<tr><td>NJ                          </td><td>1.072392                    </td><td>1                           </td><td>Above the Countrie's Average</td></tr>\n",
       "</tbody>\n",
       "</table>\n"
      ],
      "text/latex": [
       "\\begin{tabular}{r|llll}\n",
       " Provider.State & ratio.medicare.payments & Avg2 & Ratio\\\\\n",
       "\\hline\n",
       "\t AK                           & 1.559290                     & 1                            & Above the Countrie's Average\\\\\n",
       "\t CA                           & 1.366116                     & 1                            & Above the Countrie's Average\\\\\n",
       "\t DC                           & 1.350595                     & 1                            & Above the Countrie's Average\\\\\n",
       "\t MD                           & 1.348789                     & 1                            & Above the Countrie's Average\\\\\n",
       "\t HI                           & 1.315449                     & 1                            & Above the Countrie's Average\\\\\n",
       "\t NY                           & 1.259574                     & 1                            & Above the Countrie's Average\\\\\n",
       "\t OR                           & 1.189392                     & 1                            & Above the Countrie's Average\\\\\n",
       "\t MA                           & 1.173011                     & 1                            & Above the Countrie's Average\\\\\n",
       "\t MN                           & 1.160864                     & 1                            & Above the Countrie's Average\\\\\n",
       "\t WA                           & 1.133437                     & 1                            & Above the Countrie's Average\\\\\n",
       "\t CT                           & 1.110938                     & 1                            & Above the Countrie's Average\\\\\n",
       "\t VT                           & 1.091807                     & 1                            & Above the Countrie's Average\\\\\n",
       "\t AZ                           & 1.076158                     & 1                            & Above the Countrie's Average\\\\\n",
       "\t NV                           & 1.073607                     & 1                            & Above the Countrie's Average\\\\\n",
       "\t NJ                           & 1.072392                     & 1                            & Above the Countrie's Average\\\\\n",
       "\\end{tabular}\n"
      ],
      "text/markdown": [
       "\n",
       "| Provider.State | ratio.medicare.payments | Avg2 | Ratio |\n",
       "|---|---|---|---|\n",
       "| AK                           | 1.559290                     | 1                            | Above the Countrie's Average |\n",
       "| CA                           | 1.366116                     | 1                            | Above the Countrie's Average |\n",
       "| DC                           | 1.350595                     | 1                            | Above the Countrie's Average |\n",
       "| MD                           | 1.348789                     | 1                            | Above the Countrie's Average |\n",
       "| HI                           | 1.315449                     | 1                            | Above the Countrie's Average |\n",
       "| NY                           | 1.259574                     | 1                            | Above the Countrie's Average |\n",
       "| OR                           | 1.189392                     | 1                            | Above the Countrie's Average |\n",
       "| MA                           | 1.173011                     | 1                            | Above the Countrie's Average |\n",
       "| MN                           | 1.160864                     | 1                            | Above the Countrie's Average |\n",
       "| WA                           | 1.133437                     | 1                            | Above the Countrie's Average |\n",
       "| CT                           | 1.110938                     | 1                            | Above the Countrie's Average |\n",
       "| VT                           | 1.091807                     | 1                            | Above the Countrie's Average |\n",
       "| AZ                           | 1.076158                     | 1                            | Above the Countrie's Average |\n",
       "| NV                           | 1.073607                     | 1                            | Above the Countrie's Average |\n",
       "| NJ                           | 1.072392                     | 1                            | Above the Countrie's Average |\n",
       "\n"
      ],
      "text/plain": [
       "   Provider.State ratio.medicare.payments Avg2 Ratio                       \n",
       "1  AK             1.559290                1    Above the Countrie's Average\n",
       "2  CA             1.366116                1    Above the Countrie's Average\n",
       "3  DC             1.350595                1    Above the Countrie's Average\n",
       "4  MD             1.348789                1    Above the Countrie's Average\n",
       "5  HI             1.315449                1    Above the Countrie's Average\n",
       "6  NY             1.259574                1    Above the Countrie's Average\n",
       "7  OR             1.189392                1    Above the Countrie's Average\n",
       "8  MA             1.173011                1    Above the Countrie's Average\n",
       "9  MN             1.160864                1    Above the Countrie's Average\n",
       "10 WA             1.133437                1    Above the Countrie's Average\n",
       "11 CT             1.110938                1    Above the Countrie's Average\n",
       "12 VT             1.091807                1    Above the Countrie's Average\n",
       "13 AZ             1.076158                1    Above the Countrie's Average\n",
       "14 NV             1.073607                1    Above the Countrie's Average\n",
       "15 NJ             1.072392                1    Above the Countrie's Average"
      ]
     },
     "metadata": {},
     "output_type": "display_data"
    }
   ],
   "source": [
    "us.states <- state.average.ratios %>%\n",
    "        select(Provider.State, ratio.medicare.payments) %>%\n",
    "        arrange(ratio.medicare.payments) %>%\n",
    "        mutate(Avg2 = mean(1, na.rm = TRUE),\n",
    "               Ratio = ifelse(ratio.medicare.payments - Avg2 > 0, \"Above the Countrie's Average\", \"Below the Countrie's Average\"))%>%\n",
    "             arrange(desc(ratio.medicare.payments))\n",
    "head(us.states, 15)"
   ]
  },
  {
   "cell_type": "code",
   "execution_count": 279,
   "metadata": {},
   "outputs": [],
   "source": [
    "medicare.payments <- ggplot(us.states, aes(ratio.medicare.payments, Provider.State, color = Ratio)) +\n",
    "        geom_segment(aes(x = Avg2, y = Provider.State, xend = ratio.medicare.payments, yend = Provider.State), color = \"grey50\") +\n",
    "        geom_point()+ \n",
    "        labs(title = \"Medicare Payments by State\")+\n",
    "        theme_minimal() +\n",
    "        theme(axis.title = element_blank()) \n",
    "#medicare.payments"
   ]
  },
  {
   "cell_type": "code",
   "execution_count": 24,
   "metadata": {},
   "outputs": [],
   "source": [
    "require(gridExtra)"
   ]
  },
  {
   "cell_type": "code",
   "execution_count": 280,
   "metadata": {},
   "outputs": [
    {
     "data": {
      "image/png": "[encoded data removed]",
      "text/plain": [
       "plot without title"
      ]
     },
     "metadata": {},
     "output_type": "display_data"
    }
   ],
   "source": [
    "grid.arrange(medicare.payments, covered.charges, ncol=2)\n"
   ]
  },
  {
   "cell_type": "code",
   "execution_count": 75,
   "metadata": {},
   "outputs": [],
   "source": [
    "library(cluster)\n"
   ]
  },
  {
   "cell_type": "code",
   "execution_count": 28,
   "metadata": {},
   "outputs": [],
   "source": [
    "payment <- as.data.frame(payment)"
   ]
  },
  {
   "cell_type": "code",
   "execution_count": 43,
   "metadata": {},
   "outputs": [
    {
     "data": {
      "image/png": "[encoded data removed]",
      "text/plain": [
       "Plot with title \"Medicare payments ty cluster\""
      ]
     },
     "metadata": {},
     "output_type": "display_data"
    }
   ],
   "source": [
    "p1 <- boxplot(payment$Total.Discharges ~ payment$Provider.State, par(las=3), \n",
    "        xlab='Cluster', ylab='Medicare payments',\n",
    "        main='Medicare payments ty cluster')"
   ]
  },
  {
   "cell_type": "markdown",
   "metadata": {},
   "source": [
    "Analyzing Average Provider Charges and Medicare Payments"
   ]
  },
  {
   "cell_type": "code",
   "execution_count": 56,
   "metadata": {},
   "outputs": [
    {
     "data": {
      "text/plain": [
       "\n",
       "\n",
       "|Provider.Name                    | total_charges| total_paid| ratio_paid_charged|\n",
       "|:--------------------------------|-------------:|----------:|------------------:|\n",
       "|CEDARS-SINAI MEDICAL CENTER      |   10891534772| 1135096549|          0.1042182|\n",
       "|FLORIDA HOSPITAL                 |    8269513404| 1111528470|          0.1344128|\n",
       "|NEW YORK-PRESBYTERIAN HOSPITAL   |    7797460777| 1766867375|          0.2265952|\n",
       "|STANFORD HEALTH CARE             |    6384629917|  837505387|          0.1311752|\n",
       "|UPMC PRESBYTERIAN SHADYSIDE      |    5833721453|  550827037|          0.0944212|\n",
       "|METHODIST HOSPITAL               |    5432957684|  760590585|          0.1399957|\n",
       "|MASSACHUSETTS GENERAL HOSPITAL   |    4334294154|  987901837|          0.2279268|\n",
       "|UCSF MEDICAL CENTER              |    4087111977|  729658063|          0.1785266|\n",
       "|HOSPITAL OF UNIV OF PENNSYLVANIA |    4080280869|  570248684|          0.1397572|\n",
       "|GOOD SAMARITAN HOSPITAL          |    3991707913|  579542003|          0.1451865|"
      ]
     },
     "metadata": {},
     "output_type": "display_data"
    }
   ],
   "source": [
    "df_top <- payment %>% mutate(total_c = Average.Covered.Charges*Total.Discharges,\n",
    "                        total_p = Average.Medicare.Payments*Total.Discharges) %>% \n",
    "  group_by(Provider.Name) %>%\n",
    "  summarise(total_charges=sum(total_c), total_paid = sum(total_p),\n",
    "            ratio_paid_charged = sum(total_p)/sum(total_c)) %>% \n",
    "  top_n(10, wt = total_charges) %>%\n",
    "  arrange(desc(total_charges))\n",
    "\n",
    "knitr::kable(df_top)"
   ]
  },
  {
   "cell_type": "markdown",
   "metadata": {},
   "source": [
    "Cedar-Sinai Medical Center had far and away the most billing to Medicare"
   ]
  },
  {
   "cell_type": "code",
   "execution_count": 57,
   "metadata": {},
   "outputs": [
    {
     "data": {
      "image/png": "[encoded data removed]",
      "text/plain": [
       "plot without title"
      ]
     },
     "metadata": {},
     "output_type": "display_data"
    }
   ],
   "source": [
    "df_top %>% ggplot(aes(x=reorder(Provider.Name, total_charges), y=total_charges)) +\n",
    "  geom_bar(stat='identity') +\n",
    "  xlab(\"Provider\") +\n",
    "  ylab(\"Total charges by Provider ($)\") +\n",
    "  ggtitle(\"Providers that billed the most in Medicare\") +\n",
    "  coord_flip()"
   ]
  },
  {
   "cell_type": "markdown",
   "metadata": {},
   "source": [
    "The Most Expensive DRG Codes Across Medicare"
   ]
  },
  {
   "cell_type": "code",
   "execution_count": 58,
   "metadata": {},
   "outputs": [
    {
     "data": {
      "text/plain": [
       "\n",
       "\n",
       "|DRG.Definition                                                            | total_charges|  total_paid| ratio_paid_charged|\n",
       "|:-------------------------------------------------------------------------|-------------:|-----------:|------------------:|\n",
       "|470 - MAJOR JOINT REPLACEMENT OR REATTACHMENT OF LOWER EXTREMITY W/O MCC  |   84930404714| 17029623828|          0.2005127|\n",
       "|871 - SEPTICEMIA OR SEVERE SEPSIS W/O MV >96 HOURS W MCC                  |   65230094039| 13057983699|          0.2001834|\n",
       "|853 - INFECTIOUS & PARASITIC DISEASES W O.R. PROCEDURE W MCC              |   36560676172|  7975988638|          0.2181576|\n",
       "|291 - HEART FAILURE & SHOCK W MCC                                         |   35176241332|  7654986024|          0.2176181|\n",
       "|871 - SEPTICEMIA OR SEVERE SEPSIS W/O MV 96+ HOURS W MCC                  |   28299401092|  6088127660|          0.2151327|\n",
       "|460 - SPINAL FUSION EXCEPT CERVICAL W/O MCC                               |   26061078385|  5578328542|          0.2140483|\n",
       "|003 - ECMO OR TRACH W MV >96 HRS OR PDX EXC FACE, MOUTH & NECK W MAJ O.R. |   21821530951|  4797050535|          0.2198311|\n",
       "|247 - PERC CARDIOVASC PROC W DRUG-ELUTING STENT W/O MCC                   |   21450474146|  3260255262|          0.1519899|\n",
       "|190 - CHRONIC OBSTRUCTIVE PULMONARY DISEASE W MCC                         |   17635944406|  3401929169|          0.1928975|\n",
       "|189 - PULMONARY EDEMA & RESPIRATORY FAILURE                               |   16764149226|  3402599695|          0.2029688|"
      ]
     },
     "metadata": {},
     "output_type": "display_data"
    }
   ],
   "source": [
    "df_top <- payment %>% mutate(total_c = Average.Covered.Charges*Total.Discharges,\n",
    "                        total_p = Average.Medicare.Payments*Total.Discharges) %>% \n",
    "  group_by(DRG.Definition) %>%\n",
    "  summarise(total_charges=sum(total_c), total_paid = sum(total_p),\n",
    "            ratio_paid_charged = sum(total_p)/sum(total_c)) %>% \n",
    "  top_n(10, wt = total_charges) %>%\n",
    "  arrange(desc(total_charges))\n",
    "\n",
    "knitr::kable(df_top)"
   ]
  },
  {
   "cell_type": "code",
   "execution_count": 59,
   "metadata": {},
   "outputs": [
    {
     "data": {
      "image/png": "[encoded data removed]",
      "text/plain": [
       "plot without title"
      ]
     },
     "metadata": {},
     "output_type": "display_data"
    }
   ],
   "source": [
    "df_top %>% ggplot(aes(x=reorder(DRG.Definition, total_charges), y=total_charges)) +\n",
    "  geom_bar(stat='identity') +\n",
    "  xlab(\"DRG\") +\n",
    "  ylab(\"Total charges by DRG ($)\") +\n",
    "  theme(axis.text = element_text(size = 8)) +\n",
    "  ggtitle(\"Most billed DRG\") +\n",
    "  coord_flip()"
   ]
  },
  {
   "cell_type": "code",
   "execution_count": 60,
   "metadata": {},
   "outputs": [
    {
     "data": {
      "image/png": "[encoded data removed]",
      "text/plain": [
       "plot without title"
      ]
     },
     "metadata": {},
     "output_type": "display_data"
    }
   ],
   "source": [
    "df_top %>% arrange(desc(total_paid)) %>% \n",
    "  ggplot(aes(x=reorder(DRG.Definition, total_paid), y=total_paid)) +\n",
    "  geom_bar(stat='identity') +\n",
    "  xlab(\"DRG\") +\n",
    "  ylab(\"Total paid by DRG ($)\") +\n",
    "  theme(axis.text = element_text(size = 8)) +\n",
    "  ggtitle(\"Most paid DRG\") +\n",
    "  coord_flip()\n"
   ]
  },
  {
   "cell_type": "markdown",
   "metadata": {},
   "source": [
    "Most expensive DRG-S"
   ]
  },
  {
   "cell_type": "code",
   "execution_count": 64,
   "metadata": {},
   "outputs": [
    {
     "data": {
      "text/plain": [
       "\n",
       "\n",
       "|DRG.Definition                                                             | total_charges|   total_paid| ratio_paid_charged|\n",
       "|:--------------------------------------------------------------------------|-------------:|------------:|------------------:|\n",
       "|470 - MAJOR JOINT REPLACEMENT OR REATTACHMENT OF LOWER EXTREMITY W/O MCC   |  8.493040e+10| 1.702962e+10|          0.2005127|\n",
       "|871 - SEPTICEMIA OR SEVERE SEPSIS W/O MV >96 HOURS W MCC                   |  6.523009e+10| 1.305798e+10|          0.2001834|\n",
       "|853 - INFECTIOUS & PARASITIC DISEASES W O.R. PROCEDURE W MCC               |  3.656068e+10| 7.975989e+09|          0.2181576|\n",
       "|291 - HEART FAILURE & SHOCK W MCC                                          |  3.517624e+10| 7.654986e+09|          0.2176181|\n",
       "|871 - SEPTICEMIA OR SEVERE SEPSIS W/O MV 96+ HOURS W MCC                   |  2.829940e+10| 6.088128e+09|          0.2151327|\n",
       "|460 - SPINAL FUSION EXCEPT CERVICAL W/O MCC                                |  2.606108e+10| 5.578329e+09|          0.2140483|\n",
       "|003 - ECMO OR TRACH W MV >96 HRS OR PDX EXC FACE, MOUTH & NECK W MAJ O.R.  |  2.182153e+10| 4.797051e+09|          0.2198311|\n",
       "|247 - PERC CARDIOVASC PROC W DRUG-ELUTING STENT W/O MCC                    |  2.145047e+10| 3.260255e+09|          0.1519899|\n",
       "|190 - CHRONIC OBSTRUCTIVE PULMONARY DISEASE W MCC                          |  1.763594e+10| 3.401929e+09|          0.1928975|\n",
       "|189 - PULMONARY EDEMA & RESPIRATORY FAILURE                                |  1.676415e+10| 3.402600e+09|          0.2029688|\n",
       "|870 - SEPTICEMIA OR SEVERE SEPSIS W MV >96 HOURS                           |  1.620865e+10| 3.360071e+09|          0.2073011|\n",
       "|193 - SIMPLE PNEUMONIA & PLEURISY W MCC                                    |  1.595175e+10| 3.319572e+09|          0.2081009|\n",
       "|682 - RENAL FAILURE W MCC                                                  |  1.570564e+10| 3.349279e+09|          0.2132532|\n",
       "|872 - SEPTICEMIA OR SEVERE SEPSIS W/O MV >96 HOURS W/O MCC                 |  1.531339e+10| 2.931207e+09|          0.1914146|\n",
       "|481 - HIP & FEMUR PROCEDURES EXCEPT MAJOR JOINT W CC                       |  1.426149e+10| 2.783518e+09|          0.1951772|\n",
       "|292 - HEART FAILURE & SHOCK W CC                                           |  1.385593e+10| 2.904202e+09|          0.2096000|\n",
       "|329 - MAJOR SMALL & LARGE BOWEL PROCEDURES W MCC                           |  1.363878e+10| 2.923607e+09|          0.2143599|\n",
       "|246 - PERC CARDIOVASC PROC W DRUG-ELUTING STENT W MCC OR 4+ VESSELS/STENTS |  1.346458e+10| 2.392693e+09|          0.1777027|\n",
       "|064 - INTRACRANIAL HEMORRHAGE OR CEREBRAL INFARCTION W MCC                 |  1.340620e+10| 2.567980e+09|          0.1915517|\n",
       "|392 - ESOPHAGITIS, GASTROENT & MISC DIGEST DISORDERS W/O MCC               |  1.333630e+10| 2.201525e+09|          0.1650777|\n",
       "|378 - G.I. HEMORRHAGE W CC                                                 |  1.262453e+10| 2.369266e+09|          0.1876716|\n",
       "|683 - RENAL FAILURE W CC                                                   |  1.214226e+10| 2.400210e+09|          0.1976741|\n",
       "|065 - INTRACRANIAL HEMORRHAGE OR CEREBRAL INFARCTION W CC OR TPA IN 24 HRS |  1.177224e+10| 2.010117e+09|          0.1707506|\n",
       "|330 - MAJOR SMALL & LARGE BOWEL PROCEDURES W CC                            |  1.145758e+10| 2.250761e+09|          0.1964429|\n",
       "|280 - ACUTE MYOCARDIAL INFARCTION, DISCHARGED ALIVE W MCC                  |  1.118225e+10| 2.236675e+09|          0.2000202|\n",
       "|219 - CARDIAC VALVE & OTH MAJ CARDIOTHORACIC PROC W/O CARD CATH W MCC      |  1.107483e+10| 2.422434e+09|          0.2187332|\n",
       "|177 - RESPIRATORY INFECTIONS & INFLAMMATIONS W MCC                         |  1.086095e+10| 2.322239e+09|          0.2138155|\n",
       "|690 - KIDNEY & URINARY TRACT INFECTIONS W/O MCC                            |  1.085562e+10| 2.019438e+09|          0.1860270|\n",
       "|194 - SIMPLE PNEUMONIA & PLEURISY W CC                                     |  1.074816e+10| 2.125147e+09|          0.1977220|\n",
       "|252 - OTHER VASCULAR PROCEDURES W MCC                                      |  1.066903e+10| 2.276691e+09|          0.2133925|\n",
       "|981 - EXTENSIVE O.R. PROCEDURE UNRELATED TO PRINCIPAL DIAGNOSIS W MCC      |  1.041328e+10| 2.464369e+09|          0.2366564|\n",
       "|483 - MAJOR JOINT/LIMB REATTACHMENT PROCEDURE OF UPPER EXTREMITIES         |  1.025587e+10| 2.141555e+09|          0.2088127|\n",
       "|287 - CIRCULATORY DISORDERS EXCEPT AMI, W CARD CATH W/O MCC                |  9.642283e+09| 1.447733e+09|          0.1501442|\n",
       "|377 - G.I. HEMORRHAGE W MCC                                                |  9.250701e+09| 1.929619e+09|          0.2085917|\n",
       "|220 - CARDIAC VALVE & OTH MAJ CARDIOTHORACIC PROC W/O CARD CATH W CC       |  8.555911e+09| 1.744922e+09|          0.2039435|\n",
       "|208 - RESPIRATORY SYSTEM DIAGNOSIS W VENTILATOR SUPPORT <=96 HOURS         |  8.548957e+09| 1.623804e+09|          0.1899418|\n",
       "|603 - CELLULITIS W/O MCC                                                   |  8.368397e+09| 1.693035e+09|          0.2023130|\n",
       "|191 - CHRONIC OBSTRUCTIVE PULMONARY DISEASE W CC                           |  8.263004e+09| 1.596900e+09|          0.1932590|\n",
       "|267 - ENDOVASCULAR CARDIAC VALVE REPLACEMENT W/O MCC                       |  8.132573e+09| 1.978552e+09|          0.2432874|\n",
       "|308 - CARDIAC ARRHYTHMIA & CONDUCTION DISORDERS W MCC                      |  7.996400e+09| 1.589470e+09|          0.1987732|\n",
       "|689 - KIDNEY & URINARY TRACT INFECTIONS W MCC                              |  7.711772e+09| 1.533377e+09|          0.1988358|\n",
       "|266 - ENDOVASCULAR CARDIAC VALVE REPLACEMENT W MCC                         |  7.586035e+09| 1.897870e+09|          0.2501795|\n",
       "|652 - KIDNEY TRANSPLANT                                                    |  7.441973e+09| 8.678151e+08|          0.1166109|\n",
       "|253 - OTHER VASCULAR PROCEDURES W CC                                       |  7.431516e+09| 1.460022e+09|          0.1964635|\n",
       "|025 - CRANIOTOMY & ENDOVASCULAR INTRACRANIAL PROCEDURES W MCC              |  7.283682e+09| 1.515116e+09|          0.2080151|\n",
       "|286 - CIRCULATORY DISORDERS EXCEPT AMI, W CARD CATH W MCC                  |  7.127820e+09| 1.334585e+09|          0.1872361|\n",
       "|314 - OTHER CIRCULATORY SYSTEM DIAGNOSES W MCC                             |  7.075796e+09| 1.504914e+09|          0.2126847|\n",
       "|640 - MISC DISORDERS OF NUTRITION,METABOLISM,FLUIDS/ELECTROLYTES W MCC     |  7.070309e+09| 1.462554e+09|          0.2068586|\n",
       "|234 - CORONARY BYPASS W CARDIAC CATH W/O MCC                               |  6.860714e+09| 1.229132e+09|          0.1791551|\n",
       "|309 - CARDIAC ARRHYTHMIA & CONDUCTION DISORDERS W CC                       |  6.857226e+09| 1.243149e+09|          0.1812904|\n",
       "|236 - CORONARY BYPASS W/O CARDIAC CATH W/O MCC                             |  6.643254e+09| 1.228493e+09|          0.1849234|\n",
       "|641 - MISC DISORDERS OF NUTRITION,METABOLISM,FLUIDS/ELECTROLYTES W/O MCC   |  6.629813e+09| 1.230254e+09|          0.1855639|\n",
       "|233 - CORONARY BYPASS W CARDIAC CATH W MCC                                 |  6.517488e+09| 1.268014e+09|          0.1945556|\n",
       "|698 - OTHER KIDNEY & URINARY TRACT DIAGNOSES W MCC                         |  6.463947e+09| 1.360590e+09|          0.2104891|\n",
       "|312 - SYNCOPE & COLLAPSE                                                   |  6.256173e+09| 1.039713e+09|          0.1661899|\n",
       "|480 - HIP & FEMUR PROCEDURES EXCEPT MAJOR JOINT W MCC                      |  5.887004e+09| 1.223303e+09|          0.2077971|\n",
       "|004 - TRACH W MV >96 HRS OR PDX EXC FACE, MOUTH & NECK W/O MAJ O.R.        |  5.777559e+09| 1.221321e+09|          0.2113906|\n",
       "|001 - HEART TRANSPLANT OR IMPLANT OF HEART ASSIST SYSTEM W MCC             |  5.368529e+09| 1.236459e+09|          0.2303161|\n",
       "|885 - PSYCHOSES                                                            |  5.363481e+09| 1.644603e+09|          0.3066298|\n",
       "|216 - CARDIAC VALVE & OTH MAJ CARDIOTHORACIC PROC W CARD CATH W MCC        |  5.237185e+09| 1.149857e+09|          0.2195562|\n",
       "|243 - PERMANENT CARDIAC PACEMAKER IMPLANT W CC                             |  4.975774e+09| 1.021005e+09|          0.2051953|\n",
       "|812 - RED BLOOD CELL DISORDERS W/O MCC                                     |  4.943364e+09| 9.383419e+08|          0.1898185|\n",
       "|166 - OTHER RESP SYSTEM O.R. PROCEDURES W MCC                              |  4.613613e+09| 9.840619e+08|          0.2132953|\n",
       "|207 - RESPIRATORY SYSTEM DIAGNOSIS W VENTILATOR SUPPORT >96 HOURS          |  4.584453e+09| 9.471470e+08|          0.2065998|\n",
       "|391 - ESOPHAGITIS, GASTROENT & MISC DIGEST DISORDERS W MCC                 |  4.547811e+09| 8.789334e+08|          0.1932651|\n",
       "|552 - MEDICAL BACK PROBLEMS W/O MCC                                        |  4.509578e+09| 7.642635e+08|          0.1694756|\n",
       "|467 - REVISION OF HIP OR KNEE REPLACEMENT W CC                             |  4.464616e+09| 9.507500e+08|          0.2129522|\n",
       "|208 - RESPIRATORY SYSTEM DIAGNOSIS W VENTILATOR SUPPORT <96 HOURS          |  4.356890e+09| 8.740987e+08|          0.2006245|\n",
       "|473 - CERVICAL SPINAL FUSION W/O CC/MCC                                    |  4.306686e+09| 8.314316e+08|          0.1930560|\n",
       "|281 - ACUTE MYOCARDIAL INFARCTION, DISCHARGED ALIVE W CC                   |  4.224722e+09| 7.380484e+08|          0.1746975|\n",
       "|069 - TRANSIENT ISCHEMIA                                                   |  4.204287e+09| 5.800319e+08|          0.1379620|\n",
       "|242 - PERMANENT CARDIAC PACEMAKER IMPLANT W MCC                            |  4.134021e+09| 8.787890e+08|          0.2125749|\n",
       "|270 - OTHER MAJOR CARDIOVASCULAR PROCEDURES W MCC                          |  4.022768e+09| 8.309487e+08|          0.2065614|\n",
       "|313 - CHEST PAIN                                                           |  3.966524e+09| 6.157185e+08|          0.1552287|\n",
       "|235 - CORONARY BYPASS W/O CARDIAC CATH W MCC                               |  3.924675e+09| 8.110803e+08|          0.2066618|\n",
       "|389 - G.I. OBSTRUCTION W CC                                                |  3.834551e+09| 6.947204e+08|          0.1811738|\n",
       "|310 - CARDIAC ARRHYTHMIA & CONDUCTION DISORDERS W/O CC/MCC                 |  3.795706e+09| 5.759154e+08|          0.1517281|\n",
       "|004 - TRACH W MV 96+ HRS OR PDX EXC FACE, MOUTH & NECK W/O MAJ O.R.        |  3.686183e+09| 8.102411e+08|          0.2198049|\n",
       "|638 - DIABETES W CC                                                        |  3.654171e+09| 7.131422e+08|          0.1951584|\n",
       "|917 - POISONING & TOXIC EFFECTS OF DRUGS W MCC                             |  3.607511e+09| 7.160449e+08|          0.1984873|\n",
       "|274 - PERCUTANEOUS INTRACARDIAC PROCEDURES W/O MCC                         |  3.505330e+09| 5.238593e+08|          0.1494465|\n",
       "|469 - MAJOR JOINT REPLACEMENT OR REATTACHMENT OF LOWER EXTREMITY W MCC     |  3.458872e+09| 7.489018e+08|          0.2165162|\n",
       "|394 - OTHER DIGESTIVE SYSTEM DIAGNOSES W CC                                |  3.453951e+09| 6.431187e+08|          0.1861980|\n",
       "|178 - RESPIRATORY INFECTIONS & INFLAMMATIONS W CC                          |  3.399626e+09| 7.104662e+08|          0.2089836|\n",
       "|269 - AORTIC AND HEART ASSIST PROCEDURES EXCEPT PULSATION BALLOON W/O MCC  |  3.381632e+09| 7.106380e+08|          0.2101465|\n",
       "|101 - SEIZURES W/O MCC                                                     |  3.367819e+09| 5.695973e+08|          0.1691294|\n",
       "|326 - STOMACH, ESOPHAGEAL & DUODENAL PROC W MCC                            |  3.241959e+09| 7.600299e+08|          0.2344353|\n",
       "|066 - INTRACRANIAL HEMORRHAGE OR CEREBRAL INFARCTION W/O CC/MCC            |  3.215706e+09| 4.738742e+08|          0.1473624|\n",
       "|100 - SEIZURES W MCC                                                       |  3.200991e+09| 6.138616e+08|          0.1917724|\n",
       "|238 - MAJOR CARDIOVASC PROCEDURES W/O MCC                                  |  3.178865e+09| 6.740309e+08|          0.2120351|\n",
       "|163 - MAJOR CHEST PROCEDURES W MCC                                         |  3.154756e+09| 6.899149e+08|          0.2186904|\n",
       "|207 - RESPIRATORY SYSTEM DIAGNOSIS W VENTILATOR SUPPORT 96+ HOURS          |  3.150218e+09| 6.654520e+08|          0.2112400|\n",
       "|164 - MAJOR CHEST PROCEDURES W CC                                          |  3.017485e+09| 6.184606e+08|          0.2049590|\n",
       "|331 - MAJOR SMALL & LARGE BOWEL PROCEDURES W/O CC/MCC                      |  2.998548e+09| 5.393895e+08|          0.1798836|\n",
       "|472 - CERVICAL SPINAL FUSION W CC                                          |  2.963539e+09| 6.083521e+08|          0.2052790|\n",
       "|192 - CHRONIC OBSTRUCTIVE PULMONARY DISEASE W/O CC/MCC                     |  2.925795e+09| 5.265160e+08|          0.1799566|\n",
       "|468 - REVISION OF HIP OR KNEE REPLACEMENT W/O CC/MCC                       |  2.898616e+09| 6.003323e+08|          0.2071100|\n",
       "|293 - HEART FAILURE & SHOCK W/O CC/MCC                                     |  2.788619e+09| 5.289633e+08|          0.1896865|\n",
       "|039 - EXTRACRANIAL PROCEDURES W/O CC/MCC                                   |  2.746878e+09| 4.277852e+08|          0.1557351|\n",
       "|454 - COMBINED ANTERIOR/POSTERIOR SPINAL FUSION W CC                       |  2.738406e+09| 5.986783e+08|          0.2186229|\n",
       "|393 - OTHER DIGESTIVE SYSTEM DIAGNOSES W MCC                               |  2.660577e+09| 5.672778e+08|          0.2132161|\n",
       "|637 - DIABETES W MCC                                                       |  2.628031e+09| 5.504399e+08|          0.2094496|\n",
       "|699 - OTHER KIDNEY & URINARY TRACT DIAGNOSES W CC                          |  2.593394e+09| 5.231990e+08|          0.2017429|\n",
       "|418 - LAPAROSCOPIC CHOLECYSTECTOMY W/O C.D.E. W CC                         |  2.574832e+09| 4.231516e+08|          0.1643414|\n",
       "|811 - RED BLOOD CELL DISORDERS W MCC                                       |  2.561821e+09| 5.187534e+08|          0.2024940|\n",
       "|493 - LOWER EXTREM & HUMER PROC EXCEPT HIP,FOOT,FEMUR W CC                 |  2.546427e+09| 4.616137e+08|          0.1812790|\n",
       "|202 - BRONCHITIS & ASTHMA W CC/MCC                                         |  2.530292e+09| 4.484648e+08|          0.1772383|\n",
       "|602 - CELLULITIS W MCC                                                     |  2.504922e+09| 5.296422e+08|          0.2114405|\n",
       "|237 - MAJOR CARDIOVASC PROCEDURES W MCC                                    |  2.453267e+09| 5.323351e+08|          0.2169903|\n",
       "|482 - HIP & FEMUR PROCEDURES EXCEPT MAJOR JOINT W/O CC/MCC                 |  2.436528e+09| 4.584365e+08|          0.1881515|\n",
       "|300 - PERIPHERAL VASCULAR DISORDERS W CC                                   |  2.409085e+09| 4.775113e+08|          0.1982127|\n",
       "|195 - SIMPLE PNEUMONIA & PLEURISY W/O CC/MCC                               |  2.399891e+09| 4.206711e+08|          0.1752876|\n",
       "|176 - PULMONARY EMBOLISM W/O MCC                                           |  2.373854e+09| 4.372997e+08|          0.1842150|\n",
       "|948 - SIGNS & SYMPTOMS W/O MCC                                             |  2.358226e+09| 4.280615e+08|          0.1815185|\n",
       "|057 - DEGENERATIVE NERVOUS SYSTEM DISORDERS W/O MCC                        |  2.352375e+09| 5.195205e+08|          0.2208493|\n",
       "|854 - INFECTIOUS & PARASITIC DISEASES W O.R. PROCEDURE W CC                |  2.304831e+09| 4.532475e+08|          0.1966511|\n",
       "|982 - EXTENSIVE O.R. PROCEDURE UNRELATED TO PRINCIPAL DIAGNOSIS W CC       |  2.293237e+09| 5.047194e+08|          0.2200904|\n",
       "|244 - PERMANENT CARDIAC PACEMAKER IMPLANT W/O CC/MCC                       |  2.273626e+09| 4.470165e+08|          0.1966095|\n",
       "|372 - MAJOR GASTROINTESTINAL DISORDERS & PERITONEAL INFECTIONS W CC        |  2.251664e+09| 4.724854e+08|          0.2098383|\n",
       "|441 - DISORDERS OF LIVER EXCEPT MALIG,CIRR,ALC HEPA W MCC                  |  2.164488e+09| 4.714515e+08|          0.2178120|\n",
       "|175 - PULMONARY EMBOLISM W MCC                                             |  2.133517e+09| 4.246400e+08|          0.1990329|\n",
       "|027 - CRANIOTOMY & ENDOVASCULAR INTRACRANIAL PROCEDURES W/O CC/MCC         |  2.021955e+09| 3.822892e+08|          0.1890691|\n",
       "|180 - RESPIRATORY NEOPLASMS W MCC                                          |  1.959642e+09| 3.829900e+08|          0.1954387|\n",
       "|327 - STOMACH, ESOPHAGEAL & DUODENAL PROC W CC                             |  1.927852e+09| 4.220993e+08|          0.2189480|\n",
       "|251 - PERC CARDIOVASC PROC W/O CORONARY ARTERY STENT W/O MCC               |  1.874306e+09| 2.822596e+08|          0.1505942|\n",
       "|264 - OTHER CIRCULATORY SYSTEM O.R. PROCEDURES                             |  1.854368e+09| 3.862581e+08|          0.2082963|\n",
       "|469 - MAJOR HIP AND KNEE JOINT REPLACEMENT OR REATTACHMENT OF LOWER EXTREM |  1.826097e+09| 3.801728e+08|          0.2081887|\n",
       "|371 - MAJOR GASTROINTESTINAL DISORDERS & PERITONEAL INFECTIONS W MCC       |  1.825204e+09| 4.110918e+08|          0.2252306|\n",
       "|023 - CRANIO W MAJOR DEV IMPL/ACUTE COMPLEX CNS PDX W MCC OR CHEMO IMPLANT |  1.804189e+09| 3.816339e+08|          0.2115265|\n",
       "|708 - MAJOR MALE PELVIC PROCEDURES W/O CC/MCC                              |  1.780047e+09| 2.576347e+08|          0.1447348|\n",
       "|621 - O.R. PROCEDURES FOR OBESITY W/O CC/MCC                               |  1.771915e+09| 3.103699e+08|          0.1751608|\n",
       "|455 - COMBINED ANTERIOR/POSTERIOR SPINAL FUSION W/O CC/MCC                 |  1.743526e+09| 3.681204e+08|          0.2111355|\n",
       "|417 - LAPAROSCOPIC CHOLECYSTECTOMY W/O C.D.E. W MCC                        |  1.720326e+09| 3.160950e+08|          0.1837414|\n",
       "|897 - ALCOHOL/DRUG ABUSE OR DEPENDENCE W/O REHABILITATION THERAPY W/O MCC  |  1.685015e+09| 4.464334e+08|          0.2649433|\n",
       "|439 - DISORDERS OF PANCREAS EXCEPT MALIGNANCY W CC                         |  1.669098e+09| 3.014154e+08|          0.1805858|\n",
       "|026 - CRANIOTOMY & ENDOVASCULAR INTRACRANIAL PROCEDURES W CC               |  1.655766e+09| 3.348464e+08|          0.2022305|\n",
       "|254 - OTHER VASCULAR PROCEDURES W/O CC/MCC                                 |  1.654440e+09| 3.047332e+08|          0.1841911|\n",
       "|086 - TRAUMATIC STUPOR & COMA, COMA <1 HR W CC                             |  1.612499e+09| 2.786821e+08|          0.1728262|\n",
       "|390 - G.I. OBSTRUCTION W/O CC/MCC                                          |  1.585365e+09| 2.473466e+08|          0.1560187|\n",
       "|457 - SPINAL FUS EXC CERV W SPINAL CURV/MALIG/INFEC OR EXT FUS W CC        |  1.556136e+09| 3.624676e+08|          0.2329279|\n",
       "|227 - CARDIAC DEFIBRILLATOR IMPLANT W/O CARDIAC CATH W/O MCC               |  1.544925e+09| 3.302011e+08|          0.2137328|\n",
       "|299 - PERIPHERAL VASCULAR DISORDERS W MCC                                  |  1.533982e+09| 3.192334e+08|          0.2081076|\n",
       "|005 - LIVER TRANSPLANT W MCC OR INTESTINAL TRANSPLANT                      |  1.524936e+09| 2.817507e+08|          0.1847623|\n",
       "|847 - CHEMOTHERAPY W/O ACUTE LEUKEMIA AS SECONDARY DIAGNOSIS W CC          |  1.508558e+09| 3.112390e+08|          0.2063155|\n",
       "|085 - TRAUMATIC STUPOR & COMA, COMA <1 HR W MCC                            |  1.482930e+09| 2.932848e+08|          0.1977738|\n",
       "|271 - OTHER MAJOR CARDIOVASCULAR PROCEDURES W CC                           |  1.463767e+09| 2.809732e+08|          0.1919521|\n",
       "|273 - PERCUTANEOUS INTRACARDIAC PROCEDURES W MCC                           |  1.453454e+09| 2.671035e+08|          0.1837715|\n",
       "|462 - BILATERAL OR MULTIPLE MAJOR JOINT PROCS OF LOWER EXTREMITY W/O MCC   |  1.423784e+09| 3.086470e+08|          0.2167793|\n",
       "|239 - AMPUTATION FOR CIRC SYS DISORDERS EXC UPPER LIMB & TOE W MCC         |  1.412646e+09| 3.215305e+08|          0.2276086|\n",
       "|023 - CRANIOTOMY W MAJOR DEVICE IMPLANT OR ACUTE CNS PDX W MCC OR CHEMOTHE |  1.407445e+09| 2.871902e+08|          0.2040507|\n",
       "|388 - G.I. OBSTRUCTION W MCC                                               |  1.399153e+09| 2.974926e+08|          0.2126233|\n",
       "|563 - FX, SPRN, STRN & DISL EXCEPT FEMUR, HIP, PELVIS & THIGH W/O MCC      |  1.394681e+09| 2.422865e+08|          0.1737219|\n",
       "|070 - NONSPECIFIC CEREBROVASCULAR DISORDERS W MCC                          |  1.370804e+09| 2.906992e+08|          0.2120647|\n",
       "|249 - PERC CARDIOVASC PROC W NON-DRUG-ELUTING STENT W/O MCC                |  1.363442e+09| 2.047995e+08|          0.1502077|\n",
       "|907 - OTHER O.R. PROCEDURES FOR INJURIES W MCC                             |  1.299839e+09| 2.837954e+08|          0.2183312|\n",
       "|516 - OTHER MUSCULOSKELET SYS & CONN TISS O.R. PROC W CC                   |  1.298455e+09| 2.612769e+08|          0.2012214|\n",
       "|282 - ACUTE MYOCARDIAL INFARCTION, DISCHARGED ALIVE W/O CC/MCC             |  1.294160e+09| 1.952668e+08|          0.1508830|\n",
       "|092 - OTHER DISORDERS OF NERVOUS SYSTEM W CC                               |  1.293675e+09| 2.341975e+08|          0.1810327|\n",
       "|315 - OTHER CIRCULATORY SYSTEM DIAGNOSES W CC                              |  1.285714e+09| 2.481382e+08|          0.1929965|\n",
       "|464 - WND DEBRID & SKN GRFT EXC HAND, FOR MUSCULO-CONN TISS DIS W CC       |  1.284957e+09| 2.729013e+08|          0.2123817|\n",
       "|305 - HYPERTENSION W/O MCC                                                 |  1.272947e+09| 1.926694e+08|          0.1513569|\n",
       "|536 - FRACTURES OF HIP & PELVIS W/O MCC                                    |  1.214701e+09| 2.104697e+08|          0.1732688|\n",
       "|074 - CRANIAL & PERIPHERAL NERVE DISORDERS W/O MCC                         |  1.209128e+09| 2.111842e+08|          0.1746583|\n",
       "|419 - LAPAROSCOPIC CHOLECYSTECTOMY W/O C.D.E. W/O CC/MCC                   |  1.190605e+09| 1.760442e+08|          0.1478611|\n",
       "|840 - LYMPHOMA & NON-ACUTE LEUKEMIA W MCC                                  |  1.183150e+09| 2.494431e+08|          0.2108296|\n",
       "|919 - COMPLICATIONS OF TREATMENT W MCC                                     |  1.180611e+09| 2.514358e+08|          0.2129709|\n",
       "|435 - MALIGNANCY OF HEPATOBILIARY SYSTEM OR PANCREAS W MCC                 |  1.178886e+09| 2.417571e+08|          0.2050724|\n",
       "|405 - PANCREAS, LIVER & SHUNT PROCEDURES W MCC                             |  1.165809e+09| 2.748440e+08|          0.2357539|\n",
       "|054 - NERVOUS SYSTEM NEOPLASMS W MCC                                       |  1.149342e+09| 2.141718e+08|          0.1863429|\n",
       "|520 - BACK & NECK PROC EXC SPINAL FUSION W/O CC/MCC                        |  1.146835e+09| 1.834768e+08|          0.1599853|\n",
       "|834 - ACUTE LEUKEMIA W/O MAJOR O.R. PROCEDURE W MCC                        |  1.137918e+09| 2.481252e+08|          0.2180518|\n",
       "|856 - POSTOPERATIVE OR POST-TRAUMATIC INFECTIONS W O.R. PROC W MCC         |  1.112425e+09| 2.541215e+08|          0.2284391|\n",
       "|038 - EXTRACRANIAL PROCEDURES W CC                                         |  1.110942e+09| 1.973680e+08|          0.1776582|\n",
       "|494 - LOWER EXTREM & HUMER PROC EXCEPT HIP,FOOT,FEMUR W/O CC/MCC           |  1.101881e+09| 1.918698e+08|          0.1741293|\n",
       "|016 - AUTOLOGOUS BONE MARROW TRANSPLANT W CC/MCC                           |  1.100544e+09| 2.398375e+08|          0.2179263|\n",
       "|091 - OTHER DISORDERS OF NERVOUS SYSTEM W MCC                              |  1.077492e+09| 2.237607e+08|          0.2076681|\n",
       "|987 - NON-EXTENSIVE O.R. PROC UNRELATED TO PRINCIPAL DIAGNOSIS W MCC       |  1.076069e+09| 2.317816e+08|          0.2153967|\n",
       "|918 - POISONING & TOXIC EFFECTS OF DRUGS W/O MCC                           |  1.076050e+09| 1.964980e+08|          0.1826105|\n",
       "|445 - DISORDERS OF THE BILIARY TRACT W CC                                  |  1.049001e+09| 1.918086e+08|          0.1828489|\n",
       "|438 - DISORDERS OF PANCREAS EXCEPT MALIGNANCY W MCC                        |  1.040398e+09| 2.243335e+08|          0.2156228|\n",
       "|459 - SPINAL FUSION EXCEPT CERVICAL W MCC                                  |  1.010847e+09| 2.341532e+08|          0.2316406|\n",
       "|442 - DISORDERS OF LIVER EXCEPT MALIG,CIRR,ALC HEPA W CC                   |  9.977629e+08| 2.012785e+08|          0.2017298|\n",
       "|167 - OTHER RESP SYSTEM O.R. PROCEDURES W CC                               |  9.940869e+08| 2.004053e+08|          0.2015974|\n",
       "|165 - MAJOR CHEST PROCEDURES W/O CC/MCC                                    |  9.907500e+08| 2.000594e+08|          0.2019272|\n",
       "|406 - PANCREAS, LIVER & SHUNT PROCEDURES W CC                              |  9.892085e+08| 2.014725e+08|          0.2036704|\n",
       "|551 - MEDICAL BACK PROBLEMS W MCC                                          |  9.815636e+08| 1.925422e+08|          0.1961586|\n",
       "|673 - OTHER KIDNEY & URINARY TRACT PROCEDURES W MCC                        |  9.773803e+08| 2.126768e+08|          0.2175988|\n",
       "|432 - CIRRHOSIS & ALCOHOLIC HEPATITIS W MCC                                |  9.514714e+08| 1.928726e+08|          0.2027098|\n",
       "|356 - OTHER DIGESTIVE SYSTEM O.R. PROCEDURES W MCC                         |  9.463898e+08| 2.160547e+08|          0.2282935|\n",
       "|809 - MAJOR HEMATOL/IMMUN DIAG EXC SICKLE CELL CRISIS & COAGUL W CC        |  9.461268e+08| 1.959422e+08|          0.2070993|\n",
       "|519 - BACK & NECK PROC EXC SPINAL FUSION W CC                              |  9.450006e+08| 1.686073e+08|          0.1784203|\n",
       "|379 - G.I. HEMORRHAGE W/O CC/MCC                                           |  9.408064e+08| 1.634288e+08|          0.1737114|\n",
       "|071 - NONSPECIFIC CEREBROVASCULAR DISORDERS W CC                           |  9.204036e+08| 1.820039e+08|          0.1977436|\n",
       "|884 - ORGANIC DISTURBANCES & INTELLECTUAL DISABILITY                       |  9.168479e+08| 2.074173e+08|          0.2262287|\n",
       "|250 - PERC CARDIOVASC PROC W/O CORONARY ARTERY STENT W MCC                 |  9.121837e+08| 1.676044e+08|          0.1837397|\n",
       "|056 - DEGENERATIVE NERVOUS SYSTEM DISORDERS W MCC                          |  8.744346e+08| 1.998351e+08|          0.2285306|\n",
       "|813 - COAGULATION DISORDERS                                                |  8.688460e+08| 2.044958e+08|          0.2353648|\n",
       "|328 - STOMACH, ESOPHAGEAL & DUODENAL PROC W/O CC/MCC                       |  8.631318e+08| 1.572469e+08|          0.1821818|\n",
       "|248 - PERC CARDIOVASC PROC W NON-DRUG-ELUTING STENT W MCC OR 4+ VES/STENTS |  8.442905e+08| 1.514623e+08|          0.1793960|\n",
       "|517 - OTHER MUSCULOSKELET SYS & CONN TISS O.R. PROC W/O CC/MCC             |  8.332638e+08| 1.839374e+08|          0.2207433|\n",
       "|149 - DYSEQUILIBRIUM                                                       |  8.107746e+08| 1.178826e+08|          0.1453950|\n",
       "|684 - RENAL FAILURE W/O CC/MCC                                             |  8.040567e+08| 1.372833e+08|          0.1707383|\n",
       "|375 - DIGESTIVE MALIGNANCY W CC                                            |  7.979643e+08| 1.543196e+08|          0.1933917|\n",
       "|336 - PERITONEAL ADHESIOLYSIS W CC                                         |  7.842535e+08| 1.576050e+08|          0.2009618|\n",
       "|226 - CARDIAC DEFIBRILLATOR IMPLANT W/O CARDIAC CATH W MCC                 |  7.795539e+08| 1.705107e+08|          0.2187286|\n",
       "|862 - POSTOPERATIVE & POST-TRAUMATIC INFECTIONS W MCC                      |  7.767577e+08| 1.713100e+08|          0.2205450|\n",
       "|617 - AMPUTAT OF LOWER LIMB FOR ENDOCRINE,NUTRIT,& METABOL DIS W CC        |  7.733169e+08| 1.553246e+08|          0.2008551|\n",
       "|669 - TRANSURETHRAL PROCEDURES W CC                                        |  7.721878e+08| 1.291231e+08|          0.1672172|\n",
       "|217 - CARDIAC VALVE & OTH MAJ CARDIOTHORACIC PROC W CARD CATH W CC         |  7.717196e+08| 1.819053e+08|          0.2357142|\n",
       "|228 - OTHER CARDIOTHORACIC PROCEDURES W MCC                                |  7.703015e+08| 1.806607e+08|          0.2345324|\n",
       "|660 - KIDNEY & URETER PROCEDURES FOR NON-NEOPLASM W CC                     |  7.611189e+08| 1.598487e+08|          0.2100180|\n",
       "|543 - PATHOLOGICAL FRACTURES & MUSCULOSKELET & CONN TISS MALIG W CC        |  7.551864e+08| 1.452190e+08|          0.1922956|\n",
       "|444 - DISORDERS OF THE BILIARY TRACT W MCC                                 |  7.472686e+08| 1.554959e+08|          0.2080857|\n",
       "|374 - DIGESTIVE MALIGNANCY W MCC                                           |  7.449708e+08| 1.579804e+08|          0.2120625|\n",
       "|007 - LUNG TRANSPLANT                                                      |  7.345372e+08| 1.080011e+08|          0.1470329|\n",
       "|657 - KIDNEY & URETER PROCEDURES FOR NEOPLASM W CC                         |  7.201611e+08| 1.387939e+08|          0.1927262|\n",
       "|857 - POSTOPERATIVE OR POST-TRAUMATIC INFECTIONS W O.R. PROC W CC          |  7.087331e+08| 1.484083e+08|          0.2093995|\n",
       "|087 - TRAUMATIC STUPOR & COMA, COMA <1 HR W/O CC/MCC                       |  7.045396e+08| 1.098548e+08|          0.1559242|\n",
       "|181 - RESPIRATORY NEOPLASMS W CC                                           |  7.000639e+08| 1.314002e+08|          0.1876975|\n",
       "|229 - OTHER CARDIOTHORACIC PROCEDURES W/O MCC                              |  6.961258e+08| 1.380362e+08|          0.1982920|\n",
       "|463 - WND DEBRID & SKN GRFT EXC HAND, FOR MUSCULO-CONN TISS DIS W MCC      |  6.638290e+08| 1.523328e+08|          0.2294760|\n",
       "|920 - COMPLICATIONS OF TREATMENT W CC                                      |  6.526624e+08| 1.345186e+08|          0.2061075|\n",
       "|908 - OTHER O.R. PROCEDURES FOR INJURIES W CC                              |  6.476656e+08| 1.334831e+08|          0.2060988|\n",
       "|014 - ALLOGENEIC BONE MARROW TRANSPLANT                                    |  6.458671e+08| 1.780434e+08|          0.2756656|\n",
       "|283 - ACUTE MYOCARDIAL INFARCTION, EXPIRED W MCC                           |  6.203920e+08| 1.167453e+08|          0.1881799|\n",
       "|605 - TRAUMA TO THE SKIN, SUBCUT TISS & BREAST W/O MCC                     |  6.005699e+08| 9.808139e+07|          0.1633139|\n",
       "|694 - URINARY STONES W/O ESW LITHOTRIPSY W/O MCC                           |  5.985578e+08| 8.594672e+07|          0.1435897|\n",
       "|654 - MAJOR BLADDER PROCEDURES W CC                                        |  5.900231e+08| 1.130558e+08|          0.1916125|\n",
       "|221 - CARDIAC VALVE & OTH MAJ CARDIOTHORACIC PROC W/O CARD CATH W/O CC/MCC |  5.558263e+08| 1.233239e+08|          0.2218749|\n",
       "|303 - ATHEROSCLEROSIS W/O MCC                                              |  5.549410e+08| 9.434570e+07|          0.1700103|\n",
       "|956 - LIMB REATTACHMENT, HIP & FEMUR PROC FOR MULTIPLE SIGNIFICANT TRAUMA  |  5.368704e+08| 1.054843e+08|          0.1964801|\n",
       "|837 - CHEMO W ACUTE LEUKEMIA AS SDX OR W HIGH DOSE CHEMO AGENT W MCC       |  5.351274e+08| 1.448421e+08|          0.2706685|\n",
       "|453 - COMBINED ANTERIOR/POSTERIOR SPINAL FUSION W MCC                      |  5.304649e+08| 1.137449e+08|          0.2144250|\n",
       "|240 - AMPUTATION FOR CIRC SYS DISORDERS EXC UPPER LIMB & TOE W CC          |  5.263067e+08| 1.230304e+08|          0.2337618|\n",
       "|947 - SIGNS & SYMPTOMS W MCC                                               |  5.009159e+08| 1.042446e+08|          0.2081080|\n",
       "|153 - OTITIS MEDIA & URI W/O MCC                                           |  4.997053e+08| 9.097349e+07|          0.1820543|\n",
       "|478 - BIOPSIES OF MUSCULOSKELETAL SYSTEM & CONNECTIVE TISSUE W CC          |  4.813845e+08| 8.592110e+07|          0.1784875|\n",
       "|024 - CRANIO W MAJOR DEV IMPL/ACUTE COMPLEX CNS PDX W/O MCC                |  4.808206e+08| 9.761624e+07|          0.2030201|\n",
       "|863 - POSTOPERATIVE & POST-TRAUMATIC INFECTIONS W/O MCC                    |  4.761396e+08| 1.079655e+08|          0.2267518|\n",
       "|658 - KIDNEY & URETER PROCEDURES FOR NEOPLASM W/O CC/MCC                   |  4.666742e+08| 8.164873e+07|          0.1749588|\n",
       "|659 - KIDNEY & URETER PROCEDURES FOR NON-NEOPLASM W MCC                    |  4.653770e+08| 1.132525e+08|          0.2433565|\n",
       "|186 - PLEURAL EFFUSION W MCC                                               |  4.642832e+08| 9.631766e+07|          0.2074546|\n",
       "|846 - CHEMOTHERAPY W/O ACUTE LEUKEMIA AS SECONDARY DIAGNOSIS W MCC         |  4.624679e+08| 1.056934e+08|          0.2285422|\n",
       "|974 - HIV W MAJOR RELATED CONDITION W MCC                                  |  4.612829e+08| 1.111662e+08|          0.2409935|\n",
       "|184 - MAJOR CHEST TRAUMA W CC                                              |  4.587787e+08| 7.064972e+07|          0.1539952|\n",
       "|357 - OTHER DIGESTIVE SYSTEM O.R. PROCEDURES W CC                          |  4.587016e+08| 9.705614e+07|          0.2115888|\n",
       "|644 - ENDOCRINE DISORDERS W CC                                             |  4.453748e+08| 9.043451e+07|          0.2030526|\n",
       "|841 - LYMPHOMA & NON-ACUTE LEUKEMIA W CC                                   |  4.438290e+08| 8.645204e+07|          0.1947868|\n",
       "|040 - PERIPH/CRANIAL NERVE & OTHER NERV SYST PROC W MCC                    |  4.398854e+08| 9.304800e+07|          0.2115278|\n",
       "|206 - OTHER RESPIRATORY SYSTEM DIAGNOSES W/O MCC                           |  4.383138e+08| 7.484884e+07|          0.1707654|\n",
       "|895 - ALCOHOL/DRUG ABUSE OR DEPENDENCE W REHABILITATION THERAPY            |  4.362717e+08| 1.862577e+08|          0.4269304|\n",
       "|864 - FEVER                                                                |  4.346691e+08| 7.869258e+07|          0.1810402|\n",
       "|354 - HERNIA PROCEDURES EXCEPT INGUINAL & FEMORAL W CC                     |  4.203304e+08| 7.899543e+07|          0.1879365|\n",
       "|268 - AORTIC AND HEART ASSIST PROCEDURES EXCEPT PULSATION BALLOON W MCC    |  4.185745e+08| 9.466827e+07|          0.2261682|\n",
       "|062 - ACUTE ISCHEMIC STROKE W USE OF THROMBOLYTIC AGENT W CC               |  4.175053e+08| 6.898069e+07|          0.1652211|\n",
       "|205 - OTHER RESPIRATORY SYSTEM DIAGNOSES W MCC                             |  4.161147e+08| 7.616543e+07|          0.1830395|\n",
       "|808 - MAJOR HEMATOL/IMMUN DIAG EXC SICKLE CELL CRISIS & COAGUL W MCC       |  4.098610e+08| 9.217983e+07|          0.2249051|\n",
       "|440 - DISORDERS OF PANCREAS EXCEPT MALIGNANCY W/O CC/MCC                   |  4.088737e+08| 6.347486e+07|          0.1552432|\n",
       "|012 - TRACHEOSTOMY FOR FACE,MOUTH & NECK DIAGNOSES W CC                    |  4.051498e+08| 8.176453e+07|          0.2018131|\n",
       "|103 - HEADACHES W/O MCC                                                    |  3.979543e+08| 5.825043e+07|          0.1463747|\n",
       "|957 - OTHER O.R. PROCEDURES FOR MULTIPLE SIGNIFICANT TRAUMA W MCC          |  3.977510e+08| 9.382934e+07|          0.2358997|\n",
       "|643 - ENDOCRINE DISORDERS W MCC                                            |  3.957895e+08| 8.467067e+07|          0.2139285|\n",
       "|884 - ORGANIC DISTURBANCES & MENTAL RETARDATION                            |  3.882490e+08| 9.386670e+07|          0.2417693|\n",
       "|554 - BONE DISEASES & ARTHROPATHIES W/O MCC                                |  3.864315e+08| 8.358158e+07|          0.2162908|\n",
       "|580 - OTHER SKIN, SUBCUT TISS & BREAST PROC W CC                           |  3.829052e+08| 7.582036e+07|          0.1980134|\n",
       "|215 - OTHER HEART ASSIST SYSTEM IMPLANT                                    |  3.796910e+08| 1.154424e+08|          0.3040430|\n",
       "|556 - SIGNS & SYMPTOMS OF MUSCULOSKELETAL SYSTEM & CONN TISSUE W/O MCC     |  3.772029e+08| 7.294218e+07|          0.1933765|\n",
       "|203 - BRONCHITIS & ASTHMA W/O CC/MCC                                       |  3.689053e+08| 6.121997e+07|          0.1659504|\n",
       "|395 - OTHER DIGESTIVE SYSTEM DIAGNOSES W/O CC/MCC                          |  3.648633e+08| 5.993188e+07|          0.1642584|\n",
       "|492 - LOWER EXTREM & HUMER PROC EXCEPT HIP,FOOT,FEMUR W MCC                |  3.632719e+08| 7.085099e+07|          0.1950357|\n",
       "|988 - NON-EXTENSIVE O.R. PROC UNRELATED TO PRINCIPAL DIAGNOSIS W CC        |  3.602922e+08| 7.759357e+07|          0.2153629|\n",
       "|896 - ALCOHOL/DRUG ABUSE OR DEPENDENCE W/O REHABILITATION THERAPY W MCC    |  3.602495e+08| 8.746069e+07|          0.2427781|\n",
       "|707 - MAJOR MALE PELVIC PROCEDURES W CC/MCC                                |  3.564443e+08| 6.227976e+07|          0.1747251|\n",
       "|928 - FULL THICKNESS BURN W SKIN GRAFT OR INHAL INJ W CC/MCC               |  3.392330e+08| 8.455712e+07|          0.2492597|\n",
       "|558 - TENDONITIS, MYOSITIS & BURSITIS W/O MCC                              |  3.295267e+08| 6.198545e+07|          0.1881045|\n",
       "|082 - TRAUMATIC STUPOR & COMA, COMA >1 HR W MCC                            |  3.269997e+08| 6.670774e+07|          0.2039994|\n",
       "|041 - PERIPH/CRANIAL NERVE & OTHER NERV SYST PROC W CC OR PERIPH NEUROSTIM |  3.258001e+08| 6.156539e+07|          0.1889667|\n",
       "|011 - TRACHEOSTOMY FOR FACE,MOUTH & NECK DIAGNOSES W MCC                   |  3.240770e+08| 6.999439e+07|          0.2159807|\n",
       "|471 - CERVICAL SPINAL FUSION W MCC                                         |  3.239079e+08| 7.023734e+07|          0.2168436|\n",
       "|204 - RESPIRATORY SIGNS & SYMPTOMS                                         |  3.183777e+08| 5.618573e+07|          0.1764751|\n",
       "|062 - ISCHEMIC STROKE, PRECEREBRAL OCCLUSION OR TRANSIENT ISCHEMIA W THROM |  3.159182e+08| 4.934554e+07|          0.1561972|\n",
       "|743 - UTERINE & ADNEXA PROC FOR NON-MALIGNANCY W/O CC/MCC                  |  3.158794e+08| 5.379330e+07|          0.1702970|\n",
       "|466 - REVISION OF HIP OR KNEE REPLACEMENT W MCC                            |  3.068055e+08| 6.623459e+07|          0.2158846|\n",
       "|196 - INTERSTITIAL LUNG DISEASE W MCC                                      |  3.007836e+08| 6.049829e+07|          0.2011356|\n",
       "|304 - HYPERTENSION W MCC                                                   |  2.989242e+08| 5.826857e+07|          0.1949276|\n",
       "|020 - INTRACRANIAL VASCULAR PROCEDURES W PDX HEMORRHAGE W MCC              |  2.975837e+08| 6.834711e+07|          0.2296735|\n",
       "|061 - ACUTE ISCHEMIC STROKE W USE OF THROMBOLYTIC AGENT W MCC              |  2.944814e+08| 5.217918e+07|          0.1771900|\n",
       "|301 - PERIPHERAL VASCULAR DISORDERS W/O CC/MCC                             |  2.921688e+08| 5.157399e+07|          0.1765212|\n",
       "|436 - MALIGNANCY OF HEPATOBILIARY SYSTEM OR PANCREAS W CC                  |  2.919218e+08| 5.470587e+07|          0.1873991|\n",
       "|073 - CRANIAL & PERIPHERAL NERVE DISORDERS W MCC                           |  2.859461e+08| 6.218918e+07|          0.2174857|\n",
       "|433 - CIRRHOSIS & ALCOHOLIC HEPATITIS W CC                                 |  2.821103e+08| 5.121827e+07|          0.1815541|\n",
       "|029 - SPINAL PROCEDURES W CC OR SPINAL NEUROSTIMULATORS                    |  2.740258e+08| 5.830384e+07|          0.2127677|\n",
       "|456 - SPINAL FUS EXC CERV W SPINAL CURV/MALIG/INFEC OR EXT FUS W MCC       |  2.735454e+08| 6.071828e+07|          0.2219678|\n",
       "|542 - PATHOLOGICAL FRACTURES & MUSCULOSKELET & CONN TISS MALIG W MCC       |  2.680183e+08| 6.008681e+07|          0.2241892|\n",
       "|335 - PERITONEAL ADHESIOLYSIS W MCC                                        |  2.656193e+08| 5.862169e+07|          0.2206981|\n",
       "|674 - OTHER KIDNEY & URINARY TRACT PROCEDURES W CC                         |  2.529689e+08| 5.378359e+07|          0.2126095|\n",
       "|620 - O.R. PROCEDURES FOR OBESITY W CC                                     |  2.523867e+08| 4.671682e+07|          0.1851002|\n",
       "|200 - PNEUMOTHORAX W CC                                                    |  2.434152e+08| 4.392217e+07|          0.1804413|\n",
       "|742 - UTERINE & ADNEXA PROC FOR NON-MALIGNANCY W CC/MCC                    |  2.392848e+08| 4.501925e+07|          0.1881408|\n",
       "|386 - INFLAMMATORY BOWEL DISEASE W CC                                      |  2.379489e+08| 4.582294e+07|          0.1925747|\n",
       "|639 - DIABETES W/O CC/MCC                                                  |  2.341743e+08| 4.387915e+07|          0.1873782|\n",
       "|515 - OTHER MUSCULOSKELET SYS & CONN TISS O.R. PROC W MCC                  |  2.312191e+08| 5.127274e+07|          0.2217495|\n",
       "|656 - KIDNEY & URETER PROCEDURES FOR NEOPLASM W MCC                        |  2.305108e+08| 5.347400e+07|          0.2319804|\n",
       "|355 - HERNIA PROCEDURES EXCEPT INGUINAL & FEMORAL W/O CC/MCC               |  2.298762e+08| 3.942835e+07|          0.1715199|\n",
       "|518 - BACK & NECK PROC EXC SPINAL FUSION W MCC OR DISC DEVICE/NEUROSTIM    |  2.256997e+08| 5.000445e+07|          0.2215531|\n",
       "|083 - TRAUMATIC STUPOR & COMA, COMA >1 HR W CC                             |  2.174501e+08| 4.092001e+07|          0.1881811|\n",
       "|129 - MAJOR HEAD & NECK PROCEDURES W CC/MCC OR MAJOR DEVICE                |  2.132909e+08| 4.139141e+07|          0.1940609|\n",
       "|093 - OTHER DISORDERS OF NERVOUS SYSTEM W/O CC/MCC                         |  2.039047e+08| 3.287381e+07|          0.1612214|\n",
       "|420 - HEPATOBILIARY DIAGNOSTIC PROCEDURES W MCC                            |  1.957041e+08| 5.541240e+07|          0.2831438|\n",
       "|737 - UTERINE & ADNEXA PROC FOR OVARIAN OR ADNEXAL MALIGNANCY W CC         |  1.807475e+08| 3.771145e+07|          0.2086415|\n",
       "|964 - OTHER MULTIPLE SIGNIFICANT TRAUMA W CC                               |  1.776459e+08| 3.152148e+07|          0.1774399|\n",
       "|408 - BILIARY TRACT PROC EXCEPT ONLY CHOLECYST W OR W/O C.D.E. W MCC       |  1.774469e+08| 4.843329e+07|          0.2729453|\n",
       "|036 - CAROTID ARTERY STENT PROCEDURE W/O CC/MCC                            |  1.752267e+08| 3.347682e+07|          0.1910486|\n",
       "|935 - NON-EXTENSIVE BURNS                                                  |  1.727457e+08| 3.542712e+07|          0.2050825|\n",
       "|653 - MAJOR BLADDER PROCEDURES W MCC                                       |  1.682973e+08| 3.566060e+07|          0.2118905|\n",
       "|545 - CONNECTIVE TISSUE DISORDERS W MCC                                    |  1.669862e+08| 4.150659e+07|          0.2485629|\n",
       "|187 - PLEURAL EFFUSION W CC                                                |  1.634961e+08| 3.237537e+07|          0.1980192|\n",
       "|037 - EXTRACRANIAL PROCEDURES W MCC                                        |  1.565016e+08| 3.196243e+07|          0.2042307|\n",
       "|945 - REHABILITATION W CC/MCC                                              |  1.525598e+08| 1.130040e+08|          0.7407195|\n",
       "|407 - PANCREAS, LIVER & SHUNT PROCEDURES W/O CC/MCC                        |  1.490491e+08| 2.990682e+07|          0.2006509|\n",
       "|740 - UTERINE,ADNEXA PROC FOR NON-OVARIAN/ADNEXAL MALIG W CC               |  1.458893e+08| 2.712721e+07|          0.1859438|\n",
       "|272 - OTHER MAJOR CARDIOVASCULAR PROCEDURES W/O CC/MCC                     |  1.434475e+08| 2.802918e+07|          0.1953968|\n",
       "|881 - DEPRESSIVE NEUROSES                                                  |  1.430305e+08| 4.220332e+07|          0.2950653|\n",
       "|579 - OTHER SKIN, SUBCUT TISS & BREAST PROC W MCC                          |  1.391471e+08| 2.907177e+07|          0.2089283|\n",
       "|866 - VIRAL ILLNESS W/O MCC                                                |  1.361860e+08| 2.314482e+07|          0.1699501|\n",
       "|880 - ACUTE ADJUSTMENT REACTION & PSYCHOSOCIAL DYSFUNCTION                 |  1.355913e+08| 2.575842e+07|          0.1899711|\n",
       "|183 - MAJOR CHEST TRAUMA W MCC                                             |  1.355019e+08| 2.596954e+07|          0.1916545|\n",
       "|055 - NERVOUS SYSTEM NEOPLASMS W/O MCC                                     |  1.352100e+08| 2.425879e+07|          0.1794156|\n",
       "|033 - VENTRICULAR SHUNT PROCEDURES W/O CC/MCC                              |  1.341109e+08| 2.811593e+07|          0.2096469|\n",
       "|713 - TRANSURETHRAL PROSTATECTOMY W CC/MCC                                 |  1.293085e+08| 2.765419e+07|          0.2138620|\n",
       "|501 - SOFT TISSUE PROCEDURES W CC                                          |  1.243565e+08| 2.385504e+07|          0.1918278|\n",
       "|963 - OTHER MULTIPLE SIGNIFICANT TRAUMA W MCC                              |  1.220980e+08| 3.181678e+07|          0.2605840|\n",
       "|535 - FRACTURES OF HIP & PELVIS W MCC                                      |  1.204672e+08| 2.491765e+07|          0.2068417|\n",
       "|696 - KIDNEY & URINARY TRACT SIGNS & SYMPTOMS W/O MCC                      |  1.198877e+08| 2.290977e+07|          0.1910935|\n",
       "|446 - DISORDERS OF THE BILIARY TRACT W/O CC/MCC                            |  1.172885e+08| 2.059046e+07|          0.1755541|\n",
       "|152 - OTITIS MEDIA & URI W MCC                                             |  1.152006e+08| 2.427461e+07|          0.2107160|\n",
       "|629 - OTHER ENDOCRINE, NUTRIT & METAB O.R. PROC W CC                       |  1.136207e+08| 2.424073e+07|          0.2133479|\n",
       "|958 - OTHER O.R. PROCEDURES FOR MULTIPLE SIGNIFICANT TRAUMA W CC           |  1.135533e+08| 2.293979e+07|          0.2020179|\n",
       "|179 - RESPIRATORY INFECTIONS & INFLAMMATIONS W/O CC/MCC                    |  1.113138e+08| 2.195466e+07|          0.1972322|\n",
       "|028 - SPINAL PROCEDURES W MCC                                              |  1.111627e+08| 2.416993e+07|          0.2174285|\n",
       "|581 - OTHER SKIN, SUBCUT TISS & BREAST PROC W/O CC/MCC                     |  1.107228e+08| 1.735250e+07|          0.1567202|\n",
       "|373 - MAJOR GASTROINTESTINAL DISORDERS & PERITONEAL INFECTIONS W/O CC/MCC  |  1.105589e+08| 2.092597e+07|          0.1892744|\n",
       "|865 - VIRAL ILLNESS W MCC                                                  |  1.097725e+08| 2.533498e+07|          0.2307953|\n",
       "|465 - WND DEBRID & SKN GRFT EXC HAND, FOR MUSCULO-CONN TISS DIS W/O CC/MCC |  1.073771e+08| 2.266571e+07|          0.2110851|\n",
       "|008 - SIMULTANEOUS PANCREAS/KIDNEY TRANSPLANT                              |  1.051584e+08| 1.343668e+07|          0.1277756|\n",
       "|337 - PERITONEAL ADHESIOLYSIS W/O CC/MCC                                   |  1.025504e+08| 1.925054e+07|          0.1877179|\n",
       "|623 - SKIN GRAFTS & WOUND DEBRID FOR ENDOC, NUTRIT & METAB DIS W CC        |  9.855014e+07| 1.906123e+07|          0.1934166|\n",
       "|306 - CARDIAC CONGENITAL & VALVULAR DISORDERS W MCC                        |  9.786995e+07| 2.265212e+07|          0.2314513|\n",
       "|614 - ADRENAL & PITUITARY PROCEDURES W CC/MCC                              |  9.770408e+07| 2.353161e+07|          0.2408457|\n",
       "|245 - AICD GENERATOR PROCEDURES                                            |  9.693908e+07| 1.843972e+07|          0.1902197|\n",
       "|571 - SKIN DEBRIDEMENT W CC                                                |  9.560168e+07| 1.718139e+07|          0.1797184|\n",
       "|562 - FX, SPRN, STRN & DISL EXCEPT FEMUR, HIP, PELVIS & THIGH W MCC        |  9.549426e+07| 2.042034e+07|          0.2138384|\n",
       "|474 - AMPUTATION FOR MUSCULOSKELETAL SYS & CONN TISSUE DIS W MCC           |  9.503963e+07| 2.102846e+07|          0.2212599|\n",
       "|867 - OTHER INFECTIOUS & PARASITIC DISEASES DIAGNOSES W MCC                |  9.272134e+07| 2.314433e+07|          0.2496117|\n",
       "|477 - BIOPSIES OF MUSCULOSKELETAL SYSTEM & CONNECTIVE TISSUE W MCC         |  9.261503e+07| 1.741740e+07|          0.1880623|\n",
       "|570 - SKIN DEBRIDEMENT W MCC                                               |  9.259568e+07| 1.887387e+07|          0.2038310|\n",
       "|032 - VENTRICULAR SHUNT PROCEDURES W CC                                    |  9.235048e+07| 2.022337e+07|          0.2189850|\n",
       "|456 - SPINAL FUS EXC CERV W SPINAL CURV/MALIG/INFEC OR 9+ FUS W MCC        |  8.782397e+07| 2.088558e+07|          0.2378118|\n",
       "|006 - LIVER TRANSPLANT W/O MCC                                             |  8.673275e+07| 1.148567e+07|          0.1324259|\n",
       "|546 - CONNECTIVE TISSUE DISORDERS W CC                                     |  8.500747e+07| 1.707786e+07|          0.2008984|\n",
       "|838 - CHEMO W ACUTE LEUKEMIA AS SDX W CC OR HIGH DOSE CHEMO AGENT          |  8.363212e+07| 2.488906e+07|          0.2976017|\n",
       "|661 - KIDNEY & URETER PROCEDURES FOR NON-NEOPLASM W/O CC/MCC               |  8.267594e+07| 1.520578e+07|          0.1839202|\n",
       "|607 - MINOR SKIN DISORDERS W/O MCC                                         |  8.248952e+07| 1.730500e+07|          0.2097842|\n",
       "|975 - HIV W MAJOR RELATED CONDITION W CC                                   |  8.215181e+07| 2.090589e+07|          0.2544788|\n",
       "|458 - SPINAL FUS EXC CERV W SPINAL CURV/MALIG/INFEC OR EXT FUS W/O CC/MCC  |  8.179603e+07| 2.171691e+07|          0.2655008|\n",
       "|741 - UTERINE,ADNEXA PROC FOR NON-OVARIAN/ADNEXAL MALIG W/O CC/MCC         |  7.601951e+07| 1.267807e+07|          0.1667739|\n",
       "|311 - ANGINA PECTORIS                                                      |  7.520367e+07| 1.072777e+07|          0.1426495|\n",
       "|765 - CESAREAN SECTION W CC/MCC                                            |  7.476085e+07| 1.937241e+07|          0.2591250|\n",
       "|894 - ALCOHOL/DRUG ABUSE OR DEPENDENCE, LEFT AMA                           |  7.406101e+07| 3.381276e+07|          0.4565528|\n",
       "|133 - OTHER EAR, NOSE, MOUTH & THROAT O.R. PROCEDURES W CC/MCC             |  7.402752e+07| 1.482839e+07|          0.2003091|\n",
       "|381 - COMPLICATED PEPTIC ULCER W CC                                        |  7.388813e+07| 1.252700e+07|          0.1695400|\n",
       "|655 - MAJOR BLADDER PROCEDURES W/O CC/MCC                                  |  7.306618e+07| 1.517859e+07|          0.2077375|\n",
       "|260 - CARDIAC PACEMAKER REVISION EXCEPT DEVICE REPLACEMENT W MCC           |  7.069055e+07| 1.563580e+07|          0.2211865|\n",
       "|035 - CAROTID ARTERY STENT PROCEDURE W CC                                  |  6.958283e+07| 1.424499e+07|          0.2047199|\n",
       "|573 - SKIN GRAFT FOR SKIN ULCER OR CELLULITIS W MCC                        |  6.834774e+07| 1.479162e+07|          0.2164171|\n",
       "|565 - OTHER MUSCULOSKELETAL SYS & CONNECTIVE TISSUE DIAGNOSES W CC         |  6.722474e+07| 1.292975e+07|          0.1923362|\n",
       "|560 - AFTERCARE, MUSCULOSKELETAL SYSTEM & CONNECTIVE TISSUE W CC           |  6.595732e+07| 3.039158e+07|          0.4607764|\n",
       "|628 - OTHER ENDOCRINE, NUTRIT & METAB O.R. PROC W MCC                      |  6.584034e+07| 1.403366e+07|          0.2131468|\n",
       "|084 - TRAUMATIC STUPOR & COMA, COMA >1 HR W/O CC/MCC                       |  6.512578e+07| 1.096038e+07|          0.1682955|\n",
       "|823 - LYMPHOMA & NON-ACUTE LEUKEMIA W OTHER PROC W MCC                     |  6.429802e+07| 1.271256e+07|          0.1977131|\n",
       "|225 - CARDIAC DEFIB IMPLANT W CARDIAC CATH W/O AMI/HF/SHOCK W/O MCC        |  6.161241e+07| 9.641906e+06|          0.1564929|\n",
       "|229 - OTHER CARDIOTHORACIC PROCEDURES W CC                                 |  6.126001e+07| 1.182905e+07|          0.1930958|\n",
       "|475 - AMPUTATION FOR MUSCULOSKELETAL SYS & CONN TISSUE DIS W CC            |  6.098653e+07| 1.263492e+07|          0.2071756|\n",
       "|827 - MYELOPROLIF DISORD OR POORLY DIFF NEOPL W MAJ O.R. PROC W CC         |  6.029070e+07| 1.226836e+07|          0.2034867|\n",
       "|199 - PNEUMOTHORAX W MCC                                                   |  5.932580e+07| 1.277314e+07|          0.2153049|\n",
       "|734 - PELVIC EVISCERATION, RAD HYSTERECTOMY & RAD VULVECTOMY W CC/MCC      |  5.932314e+07| 1.369363e+07|          0.2308313|\n",
       "|835 - ACUTE LEUKEMIA W/O MAJOR O.R. PROCEDURE W CC                         |  5.575407e+07| 1.255018e+07|          0.2250989|\n",
       "|261 - CARDIAC PACEMAKER REVISION EXCEPT DEVICE REPLACEMENT W CC            |  5.559419e+07| 1.068544e+07|          0.1922042|\n",
       "|224 - CARDIAC DEFIB IMPLANT W CARDIAC CATH W/O AMI/HF/SHOCK W MCC          |  5.378015e+07| 1.118724e+07|          0.2080180|\n",
       "|222 - CARDIAC DEFIB IMPLANT W CARDIAC CATH W AMI/HF/SHOCK W MCC            |  5.267970e+07| 1.043696e+07|          0.1981211|\n",
       "|030 - SPINAL PROCEDURES W/O CC/MCC                                         |  5.253335e+07| 1.121364e+07|          0.2134576|\n",
       "|946 - REHABILITATION W/O CC/MCC                                            |  5.068961e+07| 2.826556e+07|          0.5576204|\n",
       "|168 - OTHER RESP SYSTEM O.R. PROCEDURES W/O CC/MCC                         |  5.015499e+07| 1.029033e+07|          0.2051707|\n",
       "|592 - SKIN ULCERS W MCC                                                    |  4.977978e+07| 1.027167e+07|          0.2063422|\n",
       "|577 - SKIN GRAFT EXC FOR SKIN ULCER OR CELLULITIS W CC                     |  4.923283e+07| 8.813068e+06|          0.1790079|\n",
       "|496 - LOCAL EXCISION & REMOVAL INT FIX DEVICES EXC HIP & FEMUR W CC        |  4.829581e+07| 1.016478e+07|          0.2104692|\n",
       "|824 - LYMPHOMA & NON-ACUTE LEUKEMIA W OTHER O.R. PROC W CC                 |  4.516241e+07| 9.023148e+06|          0.1997933|\n",
       "|823 - LYMPHOMA & NON-ACUTE LEUKEMIA W OTHER O.R. PROC W MCC                |  4.508650e+07| 9.080358e+06|          0.2013986|\n",
       "|068 - NONSPECIFIC CVA & PRECEREBRAL OCCLUSION W/O INFARCT W/O MCC          |  4.492627e+07| 7.152559e+06|          0.1592066|\n",
       "|700 - OTHER KIDNEY & URINARY TRACT DIAGNOSES W/O CC/MCC                    |  4.486583e+07| 7.423549e+06|          0.1654611|\n",
       "|384 - UNCOMPLICATED PEPTIC ULCER W/O MCC                                   |  4.348599e+07| 5.959649e+06|          0.1370476|\n",
       "|333 - RECTAL RESECTION W CC                                                |  4.335837e+07| 9.209130e+06|          0.2123956|\n",
       "|458 - SPINAL FUS EXC CERV W SPINAL CURV/MALIG/INFEC OR 9+ FUS W/O CC/MCC   |  4.259935e+07| 1.048316e+07|          0.2460873|\n",
       "|849 - RADIOTHERAPY                                                         |  4.257683e+07| 8.378204e+06|          0.1967785|\n",
       "|409 - BILIARY TRACT PROC EXCEPT ONLY CHOLECYST W OR W/O C.D.E. W CC        |  4.194768e+07| 1.311613e+07|          0.3126783|\n",
       "|380 - COMPLICATED PEPTIC ULCER W MCC                                       |  4.181730e+07| 8.478526e+06|          0.2027516|\n",
       "|353 - HERNIA PROCEDURES EXCEPT INGUINAL & FEMORAL W MCC                    |  4.147975e+07| 7.478332e+06|          0.1802887|\n",
       "|042 - PERIPH/CRANIAL NERVE & OTHER NERV SYST PROC W/O CC/MCC               |  4.128268e+07| 8.635459e+06|          0.2091787|\n",
       "|539 - OSTEOMYELITIS W MCC                                                  |  3.955978e+07| 7.941183e+06|          0.2007388|\n",
       "|345 - MINOR SMALL & LARGE BOWEL PROCEDURES W CC                            |  3.868701e+07| 9.616626e+06|          0.2485750|\n",
       "|883 - DISORDERS OF PERSONALITY & IMPULSE CONTROL                           |  3.859115e+07| 1.481973e+07|          0.3840188|\n",
       "|781 - OTHER ANTEPARTUM DIAGNOSES W MEDICAL COMPLICATIONS                   |  3.800918e+07| 1.154450e+07|          0.3037293|\n",
       "|130 - MAJOR HEAD & NECK PROCEDURES W/O CC/MCC                              |  3.782674e+07| 5.722828e+06|          0.1512905|\n",
       "|421 - HEPATOBILIARY DIAGNOSTIC PROCEDURES W CC                             |  3.762441e+07| 9.813086e+06|          0.2608170|\n",
       "|775 - VAGINAL DELIVERY W/O COMPLICATING DIAGNOSES                          |  3.746721e+07| 1.153203e+07|          0.3077898|\n",
       "|089 - CONCUSSION W CC                                                      |  3.658397e+07| 5.770986e+06|          0.1577463|\n",
       "|502 - SOFT TISSUE PROCEDURES W/O CC/MCC                                    |  3.613631e+07| 7.147498e+06|          0.1977927|\n",
       "|714 - TRANSURETHRAL PROSTATECTOMY W/O CC/MCC                               |  3.605547e+07| 6.623307e+06|          0.1836977|\n",
       "|307 - CARDIAC CONGENITAL & VALVULAR DISORDERS W/O MCC                      |  3.599523e+07| 6.542143e+06|          0.1817503|\n",
       "|904 - SKIN GRAFTS FOR INJURIES W CC/MCC                                    |  3.567187e+07| 8.194939e+06|          0.2297312|\n",
       "|072 - NONSPECIFIC CEREBROVASCULAR DISORDERS W/O CC/MCC                     |  3.542197e+07| 5.673168e+06|          0.1601596|\n",
       "|059 - MULTIPLE SCLEROSIS & CEREBELLAR ATAXIA W CC                          |  3.439748e+07| 6.428927e+06|          0.1869011|\n",
       "|839 - CHEMO W ACUTE LEUKEMIA AS SDX W/O CC/MCC                             |  3.438380e+07| 8.049850e+06|          0.2341175|\n",
       "|668 - TRANSURETHRAL PROCEDURES W MCC                                       |  3.434247e+07| 5.668962e+06|          0.1650715|\n",
       "|829 - MYELOPROLIF DISORD OR POORLY DIFF NEOPL W OTHER O.R. PROC W CC/MCC   |  3.423566e+07| 7.331707e+06|          0.2141541|\n",
       "|902 - WOUND DEBRIDEMENTS FOR INJURIES W CC                                 |  3.406720e+07| 6.637083e+06|          0.1948233|\n",
       "|302 - ATHEROSCLEROSIS W MCC                                                |  3.352824e+07| 6.924258e+06|          0.2065202|\n",
       "|949 - AFTERCARE W CC/MCC                                                   |  3.275266e+07| 2.152709e+07|          0.6572624|\n",
       "|316 - OTHER CIRCULATORY SYSTEM DIAGNOSES W/O CC/MCC                        |  3.219200e+07| 4.740971e+06|          0.1472717|\n",
       "|489 - KNEE PROCEDURES W/O PDX OF INFECTION W/O CC/MCC                      |  3.213050e+07| 6.065069e+06|          0.1887636|\n",
       "|983 - EXTENSIVE O.R. PROCEDURE UNRELATED TO PRINCIPAL DIAGNOSIS W/O CC/MCC |  3.161653e+07| 9.143184e+06|          0.2891900|\n",
       "|155 - OTHER EAR, NOSE, MOUTH & THROAT DIAGNOSES W CC                       |  3.070388e+07| 5.957455e+06|          0.1940294|\n",
       "|479 - BIOPSIES OF MUSCULOSKELETAL SYSTEM & CONNECTIVE TISSUE W/O CC/MCC    |  3.041376e+07| 4.998845e+06|          0.1643613|\n",
       "|544 - PATHOLOGICAL FRACTURES & MUSCULOSKELET & CONN TISS MALIG W/O CC/MCC  |  2.990244e+07| 5.247507e+06|          0.1754876|\n",
       "|829 - MYELOPROLIFERATIVE DISORDERS OR POORLY DIFFERENTIATED NEOPLASMS W OT |  2.989376e+07| 7.030752e+06|          0.2351913|\n",
       "|131 - CRANIAL/FACIAL PROCEDURES W CC/MCC                                   |  2.929391e+07| 7.367594e+06|          0.2515060|\n",
       "|348 - ANAL & STOMAL PROCEDURES W CC                                        |  2.896239e+07| 6.109420e+06|          0.2109432|\n",
       "|882 - NEUROSES EXCEPT DEPRESSIVE                                           |  2.888028e+07| 8.632992e+06|          0.2989234|\n",
       "|031 - VENTRICULAR SHUNT PROCEDURES W MCC                                   |  2.868626e+07| 6.425267e+06|          0.2239842|\n",
       "|296 - CARDIAC ARREST, UNEXPLAINED W MCC                                    |  2.831021e+07| 6.606204e+06|          0.2333506|\n",
       "|909 - OTHER O.R. PROCEDURES FOR INJURIES W/O CC/MCC                        |  2.794823e+07| 5.811089e+06|          0.2079233|\n",
       "|197 - INTERSTITIAL LUNG DISEASE W CC                                       |  2.769680e+07| 6.347964e+06|          0.2291949|\n",
       "|060 - MULTIPLE SCLEROSIS & CEREBELLAR ATAXIA W/O CC/MCC                    |  2.721467e+07| 5.150569e+06|          0.1892571|\n",
       "|488 - KNEE PROCEDURES W/O PDX OF INFECTION W CC/MCC                        |  2.663655e+07| 5.418923e+06|          0.2034393|\n",
       "|748 - FEMALE REPRODUCTIVE SYSTEM RECONSTRUCTIVE PROCEDURES                 |  2.650187e+07| 6.653843e+06|          0.2510707|\n",
       "|940 - O.R. PROC W DIAGNOSES OF OTHER CONTACT W HEALTH SERVICES W CC        |  2.519766e+07| 5.187962e+06|          0.2058907|\n",
       "|627 - THYROID, PARATHYROID & THYROGLOSSAL PROCEDURES W/O CC/MCC            |  2.514644e+07| 3.533797e+06|          0.1405287|\n",
       "|511 - SHOULDER,ELBOW OR FOREARM PROC,EXC MAJOR JOINT PROC W CC             |  2.487506e+07| 4.535003e+06|          0.1823113|\n",
       "|596 - MAJOR SKIN DISORDERS W/O MCC                                         |  2.428882e+07| 5.425453e+06|          0.2233724|\n",
       "|564 - OTHER MUSCULOSKELETAL SYS & CONNECTIVE TISSUE DIAGNOSES W MCC        |  2.403859e+07| 4.649350e+06|          0.1934120|\n",
       "|415 - CHOLECYSTECTOMY EXCEPT BY LAPAROSCOPE W/O C.D.E. W CC                |  2.394454e+07| 6.104781e+06|          0.2549550|\n",
       "|822 - LYMPHOMA & LEUKEMIA W MAJOR O.R. PROCEDURE W/O CC/MCC                |  2.393053e+07| 4.643585e+06|          0.1940444|\n",
       "|013 - TRACHEOSTOMY FOR FACE,MOUTH & NECK DIAGNOSES W/O CC/MCC              |  2.381829e+07| 4.254666e+06|          0.1786302|\n",
       "|134 - OTHER EAR, NOSE, MOUTH & THROAT O.R. PROCEDURES W/O CC/MCC           |  2.342295e+07| 4.126769e+06|          0.1761849|\n",
       "|821 - LYMPHOMA & LEUKEMIA W MAJOR O.R. PROCEDURE W CC                      |  2.326714e+07| 5.741616e+06|          0.2467693|\n",
       "|619 - O.R. PROCEDURES FOR OBESITY W MCC                                    |  2.294619e+07| 4.600940e+06|          0.2005100|\n",
       "|914 - TRAUMATIC INJURY W/O MCC                                             |  2.208758e+07| 3.088582e+06|          0.1398335|\n",
       "|645 - ENDOCRINE DISORDERS W/O CC/MCC                                       |  2.124401e+07| 3.986647e+06|          0.1876598|\n",
       "|385 - INFLAMMATORY BOWEL DISEASE W MCC                                     |  2.100553e+07| 4.143534e+06|          0.1972592|\n",
       "|351 - INGUINAL & FEMORAL HERNIA PROCEDURES W CC                            |  2.070437e+07| 3.274035e+06|          0.1581325|\n",
       "|002 - HEART TRANSPLANT OR IMPLANT OF HEART ASSIST SYSTEM W/O MCC           |  2.014078e+07| 4.260824e+06|          0.2115520|\n",
       "|626 - THYROID, PARATHYROID & THYROGLOSSAL PROCEDURES W CC                  |  1.999747e+07| 3.146323e+06|          0.1573361|\n",
       "|561 - AFTERCARE, MUSCULOSKELETAL SYSTEM & CONNECTIVE TISSUE W/O CC/MCC     |  1.997233e+07| 1.396141e+07|          0.6990374|\n",
       "|223 - CARDIAC DEFIB IMPLANT W CARDIAC CATH W AMI/HF/SHOCK W/O MCC          |  1.983595e+07| 3.488864e+06|          0.1758859|\n",
       "|125 - OTHER DISORDERS OF THE EYE W/O MCC                                   |  1.937312e+07| 3.888073e+06|          0.2006942|\n",
       "|540 - OSTEOMYELITIS W CC                                                   |  1.868437e+07| 3.985047e+06|          0.2132824|\n",
       "|755 - MALIGNANCY, FEMALE REPRODUCTIVE SYSTEM W CC                          |  1.860875e+07| 3.343274e+06|          0.1796614|\n",
       "|977 - HIV W OR W/O OTHER RELATED CONDITION                                 |  1.854816e+07| 5.021164e+06|          0.2707096|\n",
       "|334 - RECTAL RESECTION W/O CC/MCC                                          |  1.852658e+07| 4.173458e+06|          0.2252687|\n",
       "|820 - LYMPHOMA & LEUKEMIA W MAJOR O.R. PROCEDURE W MCC                     |  1.842933e+07| 4.654709e+06|          0.2525707|\n",
       "|185 - MAJOR CHEST TRAUMA W/O CC/MCC                                        |  1.840690e+07| 2.891105e+06|          0.1570664|\n",
       "|123 - NEUROLOGICAL EYE DISORDERS                                           |  1.808534e+07| 3.053222e+06|          0.1688230|\n",
       "|097 - NON-BACTERIAL INFECT OF NERVOUS SYS EXC VIRAL MENINGITIS W MCC       |  1.779845e+07| 3.283937e+06|          0.1845069|\n",
       "|512 - SHOULDER,ELBOW OR FOREARM PROC,EXC MAJOR JOINT PROC W/O CC/MCC       |  1.741807e+07| 2.769150e+06|          0.1589814|\n",
       "|728 - INFLAMMATION OF THE MALE REPRODUCTIVE SYSTEM W/O MCC                 |  1.732732e+07| 2.878959e+06|          0.1661514|\n",
       "|158 - DENTAL & ORAL DISEASES W CC                                          |  1.715361e+07| 3.661177e+06|          0.2134348|\n",
       "|604 - TRAUMA TO THE SKIN, SUBCUT TISS & BREAST W MCC                       |  1.714565e+07| 2.877642e+06|          0.1678351|\n",
       "|921 - COMPLICATIONS OF TREATMENT W/O CC/MCC                                |  1.654474e+07| 3.646642e+06|          0.2204110|\n",
       "|642 - INBORN AND OTHER DISORDERS OF METABOLISM                             |  1.648049e+07| 2.229733e+06|          0.1352953|\n",
       "|497 - LOCAL EXCISION & REMOVAL INT FIX DEVICES EXC HIP & FEMUR W/O CC/MCC  |  1.623609e+07| 3.058765e+06|          0.1883929|\n",
       "|747 - VAGINA, CERVIX & VULVA PROCEDURES W/O CC/MCC                         |  1.615721e+07| 3.374450e+06|          0.2088511|\n",
       "|557 - TENDONITIS, MYOSITIS & BURSITIS W MCC                                |  1.579964e+07| 3.434342e+06|          0.2173684|\n",
       "|115 - EXTRAOCULAR PROCEDURES EXCEPT ORBIT                                  |  1.486529e+07| 3.584421e+06|          0.2411269|\n",
       "|615 - ADRENAL & PITUITARY PROCEDURES W/O CC/MCC                            |  1.476420e+07| 3.267873e+06|          0.2213376|\n",
       "|868 - OTHER INFECTIOUS & PARASITIC DISEASES DIAGNOSES W CC                 |  1.471416e+07| 3.362874e+06|          0.2285467|\n",
       "|553 - BONE DISEASES & ARTHROPATHIES W MCC                                  |  1.462742e+07| 2.714535e+06|          0.1855786|\n",
       "|500 - SOFT TISSUE PROCEDURES W MCC                                         |  1.461629e+07| 3.476520e+06|          0.2378524|\n",
       "|929 - FULL THICKNESS BURN W SKIN GRAFT OR INHAL INJ W/O CC/MCC             |  1.424315e+07| 2.978992e+06|          0.2091527|\n",
       "|555 - SIGNS & SYMPTOMS OF MUSCULOSKELETAL SYSTEM & CONN TISSUE W MCC       |  1.411045e+07| 3.616518e+06|          0.2563006|\n",
       "|218 - CARDIAC VALVE & OTH MAJ CARDIOTHORACIC PROC W CARD CATH W/O CC/MCC   |  1.399245e+07| 3.278174e+06|          0.2342816|\n",
       "|504 - FOOT PROCEDURES W CC                                                 |  1.342050e+07| 2.989118e+06|          0.2227278|\n",
       "|063 - ACUTE ISCHEMIC STROKE W USE OF THROMBOLYTIC AGENT W/O CC/MCC         |  1.295189e+07| 2.530661e+06|          0.1953893|\n",
       "|916 - ALLERGIC REACTIONS W/O MCC                                           |  1.288555e+07| 2.208405e+06|          0.1713861|\n",
       "|843 - OTHER MYELOPROLIF DIS OR POORLY DIFF NEOPL DIAG W MCC                |  1.268405e+07| 2.478567e+06|          0.1954082|\n",
       "|559 - AFTERCARE, MUSCULOSKELETAL SYSTEM & CONNECTIVE TISSUE W MCC          |  1.255185e+07| 5.927967e+06|          0.4722783|\n",
       "|423 - OTHER HEPATOBILIARY OR PANCREAS O.R. PROCEDURES W MCC                |  1.251621e+07| 2.332811e+06|          0.1863832|\n",
       "|486 - KNEE PROCEDURES W PDX OF INFECTION W CC                              |  1.237975e+07| 2.079715e+06|          0.1679933|\n",
       "|090 - CONCUSSION W/O CC/MCC                                                |  1.235599e+07| 2.348040e+06|          0.1900325|\n",
       "|230 - OTHER CARDIOTHORACIC PROCEDURES W/O CC/MCC                           |  1.225562e+07| 2.158063e+06|          0.1760876|\n",
       "|078 - HYPERTENSIVE ENCEPHALOPATHY W CC                                     |  1.189224e+07| 2.014372e+06|          0.1693855|\n",
       "|616 - AMPUTAT OF LOWER LIMB FOR ENDOCRINE,NUTRIT,& METABOL DIS W MCC       |  1.153987e+07| 2.051832e+06|          0.1778037|\n",
       "|151 - EPISTAXIS W/O MCC                                                    |  1.126374e+07| 2.590598e+06|          0.2299946|\n",
       "|670 - TRANSURETHRAL PROCEDURES W/O CC/MCC                                  |  1.095057e+07| 1.858231e+06|          0.1696927|\n",
       "|774 - VAGINAL DELIVERY W COMPLICATING DIAGNOSES                            |  1.083433e+07| 3.321685e+06|          0.3065890|\n",
       "|826 - MYELOPROLIF DISORD OR POORLY DIFF NEOPL W MAJ O.R. PROC W MCC        |  1.073565e+07| 2.125221e+06|          0.1979593|\n",
       "|369 - MAJOR ESOPHAGEAL DISORDERS W CC                                      |  1.049214e+07| 2.301639e+06|          0.2193679|\n",
       "|443 - DISORDERS OF LIVER EXCEPT MALIG,CIRR,ALC HEPA W/O CC/MCC             |  1.038467e+07| 1.992910e+06|          0.1919089|\n",
       "|230 - UNKNOWN                                                              |  1.027635e+07| 1.840432e+06|          0.1790939|\n",
       "|593 - SKIN ULCERS W CC                                                     |  1.012266e+07| 2.372957e+06|          0.2344202|\n",
       "|368 - MAJOR ESOPHAGEAL DISORDERS W MCC                                     |  9.728229e+06| 2.327253e+06|          0.2392268|\n",
       "|815 - RETICULOENDOTHELIAL & IMMUNITY DISORDERS W CC                        |  9.546615e+06| 1.950425e+06|          0.2043054|\n",
       "|828 - MYELOPROLIF DISORD OR POORLY DIFF NEOPL W MAJ O.R. PROC W/O CC/MCC   |  9.369209e+06| 1.487982e+06|          0.1588162|\n",
       "|685 - ADMIT FOR RENAL DIALYSIS                                             |  9.192635e+06| 2.267357e+06|          0.2466493|\n",
       "|583 - MASTECTOMY FOR MALIGNANCY W/O CC/MCC                                 |  9.133626e+06| 1.360124e+06|          0.1489139|\n",
       "|387 - INFLAMMATORY BOWEL DISEASE W/O CC/MCC                                |  8.911851e+06| 1.614391e+06|          0.1811510|\n",
       "|352 - INGUINAL & FEMORAL HERNIA PROCEDURES W/O CC/MCC                      |  8.349655e+06| 1.316126e+06|          0.1576264|\n",
       "|735 - PELVIC EVISCERATION, RAD HYSTERECTOMY & RAD VULVECTOMY W/O CC/MCC    |  8.180956e+06| 1.514624e+06|          0.1851402|\n",
       "|717 - OTHER MALE REPRODUCTIVE SYSTEM O.R. PROC EXC MALIGNANCY W CC/MCC     |  8.024845e+06| 6.743601e+05|          0.0840340|\n",
       "|574 - SKIN GRAFT FOR SKIN ULCER OR CELLULITIS W CC                         |  7.900356e+06| 1.380605e+06|          0.1747523|\n",
       "|927 - EXTENSIVE BURNS OR FULL THICKNESS BURNS W MV >96 HRS W SKIN GRAFT    |  7.861016e+06| 1.340956e+06|          0.1705830|\n",
       "|989 - NON-EXTENSIVE O.R. PROC UNRELATED TO PRINCIPAL DIAGNOSIS W/O CC/MCC  |  7.853238e+06| 1.811114e+06|          0.2306200|\n",
       "|157 - DENTAL & ORAL DISEASES W MCC                                         |  7.843613e+06| 1.763438e+06|          0.2248247|\n",
       "|749 - OTHER FEMALE REPRODUCTIVE SYSTEM O.R. PROCEDURES W CC/MCC            |  7.579048e+06| 8.258820e+05|          0.1089691|\n",
       "|606 - MINOR SKIN DISORDERS W MCC                                           |  7.137688e+06| 1.588226e+06|          0.2225127|\n",
       "|842 - LYMPHOMA & NON-ACUTE LEUKEMIA W/O CC/MCC                             |  6.969216e+06| 1.048218e+06|          0.1504069|\n",
       "|934 - FULL THICKNESS BURN W/O SKIN GRFT OR INHAL INJ                       |  6.954698e+06| 2.295788e+06|          0.3301061|\n",
       "|077 - HYPERTENSIVE ENCEPHALOPATHY W MCC                                    |  6.894676e+06| 1.345421e+06|          0.1951391|\n",
       "|344 - MINOR SMALL & LARGE BOWEL PROCEDURES W MCC                           |  6.550645e+06| 2.238428e+06|          0.3417111|\n",
       "|578 - SKIN GRAFT EXC FOR SKIN ULCER OR CELLULITIS W/O CC/MCC               |  6.492235e+06| 1.507261e+06|          0.2321637|\n",
       "|259 - CARDIAC PACEMAKER DEVICE REPLACEMENT W/O MCC                         |  6.133035e+06| 1.618404e+06|          0.2638831|\n",
       "|343 - APPENDECTOMY W/O COMPLICATED PRINCIPAL DIAG W/O CC/MCC               |  6.045804e+06| 9.595500e+05|          0.1587134|\n",
       "|017 - AUTOLOGOUS BONE MARROW TRANSPLANT W/O CC/MCC                         |  5.873705e+06| 1.683331e+06|          0.2865876|\n",
       "|744 - D&C, CONIZATION, LAPAROSCOPY & TUBAL INTERRUPTION W CC/MCC           |  5.822344e+06| 1.139302e+06|          0.1956775|\n",
       "|844 - OTHER MYELOPROLIF DIS OR POORLY DIFF NEOPL DIAG W CC                 |  5.686223e+06| 1.055021e+06|          0.1855398|\n",
       "|346 - MINOR SMALL & LARGE BOWEL PROCEDURES W/O CC/MCC                      |  5.516584e+06| 1.385197e+06|          0.2510969|\n",
       "|746 - VAGINA, CERVIX & VULVA PROCEDURES W CC/MCC                           |  5.454034e+06| 1.227938e+06|          0.2251431|\n",
       "|262 - CARDIAC PACEMAKER REVISION EXCEPT DEVICE REPLACEMENT W/O CC/MCC      |  5.300331e+06| 7.333171e+05|          0.1383531|\n",
       "|255 - UPPER LIMB & TOE AMPUTATION FOR CIRC SYSTEM DISORDERS W MCC          |  5.141412e+06| 1.213752e+06|          0.2360737|\n",
       "|736 - UTERINE & ADNEXA PROC FOR OVARIAN OR ADNEXAL MALIGNANCY W MCC        |  4.969780e+06| 8.125520e+05|          0.1634986|\n",
       "|414 - CHOLECYSTECTOMY EXCEPT BY LAPAROSCOPE W/O C.D.E. W MCC               |  4.752522e+06| 1.062636e+06|          0.2235942|\n",
       "|505 - FOOT PROCEDURES W/O CC/MCC                                           |  4.556282e+06| 7.566420e+05|          0.1660657|\n",
       "|347 - ANAL & STOMAL PROCEDURES W MCC                                       |  4.534632e+06| 7.082650e+05|          0.1561902|\n",
       "|132 - CRANIAL/FACIAL PROCEDURES W/O CC/MCC                                 |  4.473175e+06| 6.855140e+05|          0.1532500|\n",
       "|288 - ACUTE & SUBACUTE ENDOCARDITIS W MCC                                  |  4.331623e+06| 6.549270e+05|          0.1511967|\n",
       "|232 - CORONARY BYPASS W PTCA W/O MCC                                       |  4.259833e+06| 1.026154e+06|          0.2408907|\n",
       "|081 - NONTRAUMATIC STUPOR & COMA W/O MCC                                   |  4.249947e+06| 8.914937e+05|          0.2097658|\n",
       "|950 - AFTERCARE W/O CC/MCC                                                 |  4.085578e+06| 3.539595e+06|          0.8663633|\n",
       "|349 - ANAL & STOMAL PROCEDURES W/O CC/MCC                                  |  4.061875e+06| 7.292520e+05|          0.1795358|\n",
       "|887 - OTHER MENTAL DISORDER DIAGNOSES                                      |  4.004653e+06| 2.969911e+05|          0.0741615|\n",
       "|726 - BENIGN PROSTATIC HYPERTROPHY W/O MCC                                 |  3.910982e+06| 6.933499e+05|          0.1772828|\n",
       "|876 - O.R. PROCEDURE W PRINCIPAL DIAGNOSES OF MENTAL ILLNESS               |  3.891360e+06| 7.271520e+05|          0.1868632|\n",
       "|058 - MULTIPLE SCLEROSIS & CEREBELLAR ATAXIA W MCC                         |  3.752096e+06| 3.831250e+05|          0.1021096|\n",
       "|339 - APPENDECTOMY W COMPLICATED PRINCIPAL DIAG W CC                       |  3.730693e+06| 7.060849e+05|          0.1892637|\n",
       "|923 - OTHER INJURY, POISONING & TOXIC EFFECT DIAG W/O MCC                  |  3.376232e+06| 8.860062e+05|          0.2624246|\n",
       "|513 - HAND OR WRIST PROC, EXCEPT MAJOR THUMB OR JOINT PROC W CC/MCC        |  3.344838e+06| 6.341640e+05|          0.1895949|\n",
       "|951 - OTHER FACTORS INFLUENCING HEALTH STATUS                              |  3.253951e+06| 2.160332e+06|          0.6639104|\n",
       "|154 - OTHER EAR, NOSE, MOUTH & THROAT DIAGNOSES W MCC                      |  3.223926e+06| 5.925750e+05|          0.1838054|\n",
       "|597 - MALIGNANT BREAST DISORDERS W MCC                                     |  3.206960e+06| 3.837160e+05|          0.1196510|\n",
       "|034 - CAROTID ARTERY STENT PROCEDURE W MCC                                 |  3.155312e+06| 6.538600e+05|          0.2072251|\n",
       "|102 - HEADACHES W MCC                                                      |  3.067630e+06| 4.388440e+05|          0.1430564|\n",
       "|256 - UPPER LIMB & TOE AMPUTATION FOR CIRC SYSTEM DISORDERS W CC           |  2.779623e+06| 1.005617e+06|          0.3617818|\n",
       "|113 - ORBITAL PROCEDURES W CC/MCC                                          |  2.778558e+06| 5.008381e+05|          0.1802511|\n",
       "|687 - KIDNEY & URINARY TRACT NEOPLASMS W CC                                |  2.767373e+06| 6.229520e+05|          0.2251059|\n",
       "|231 - CORONARY BYPASS W PTCA W MCC                                         |  2.718774e+06| 5.373090e+05|          0.1976292|\n",
       "|814 - RETICULOENDOTHELIAL & IMMUNITY DISORDERS W MCC                       |  2.351905e+06| 5.087370e+05|          0.2163085|\n",
       "|582 - MASTECTOMY FOR MALIGNANCY W CC/MCC                                   |  2.296577e+06| 3.037859e+05|          0.1322777|\n",
       "|624 - SKIN GRAFTS & WOUND DEBRID FOR ENDOC, NUTRIT & METAB DIS W/O CC/MCC  |  2.233896e+06| 3.183890e+05|          0.1425263|\n",
       "|585 - BREAST BIOPSY, LOCAL EXCISION & OTHER BREAST PROCEDURES W/O CC/MCC   |  2.230818e+06| 4.594700e+05|          0.2059648|\n",
       "|727 - INFLAMMATION OF THE MALE REPRODUCTIVE SYSTEM W MCC                   |  2.086303e+06| 1.884071e+05|          0.0903067|\n",
       "|088 - CONCUSSION W MCC                                                     |  2.085010e+06| 3.766929e+05|          0.1806672|\n",
       "|547 - CONNECTIVE TISSUE DISORDERS W/O CC/MCC                               |  2.070989e+06| 4.085121e+05|          0.1972546|\n",
       "|691 - URINARY STONES W ESW LITHOTRIPSY W CC/MCC                            |  2.048352e+06| 3.849730e+05|          0.1879428|\n",
       "|625 - THYROID, PARATHYROID & THYROGLOSSAL PROCEDURES W MCC                 |  1.995368e+06| 4.888770e+05|          0.2450059|\n",
       "|416 - CHOLECYSTECTOMY EXCEPT BY LAPAROSCOPE W/O C.D.E. W/O CC/MCC          |  1.877120e+06| 8.055031e+05|          0.4291165|\n",
       "|358 - OTHER DIGESTIVE SYSTEM O.R. PROCEDURES W/O CC/MCC                    |  1.842542e+06| 3.055600e+05|          0.1658361|\n",
       "|760 - MENSTRUAL & OTHER FEMALE REPRODUCTIVE SYSTEM DISORDERS W CC/MCC      |  1.784206e+06| 2.284081e+05|          0.1280166|\n",
       "|514 - HAND OR WRIST PROC, EXCEPT MAJOR THUMB OR JOINT PROC W/O CC/MCC      |  1.767823e+06| 2.060821e+05|          0.1165739|\n",
       "|510 - SHOULDER,ELBOW OR FOREARM PROC,EXC MAJOR JOINT PROC W MCC            |  1.744977e+06| 3.020880e+05|          0.1731186|\n",
       "|754 - MALIGNANCY, FEMALE REPRODUCTIVE SYSTEM W MCC                         |  1.737467e+06| 3.341830e+05|          0.1923392|\n",
       "|139 - SALIVARY GLAND PROCEDURES                                            |  1.692389e+06| 4.635261e+05|          0.2738886|\n",
       "|666 - PROSTATECTOMY W CC                                                   |  1.548356e+06| 2.331580e+05|          0.1505843|\n",
       "|693 - URINARY STONES W/O ESW LITHOTRIPSY W MCC                             |  1.509581e+06| 3.565320e+05|          0.2361795|\n",
       "|147 - EAR, NOSE, MOUTH & THROAT MALIGNANCY W CC                            |  1.509416e+06| 3.302461e+05|          0.2187906|\n",
       "|939 - O.R. PROC W DIAGNOSES OF OTHER CONTACT W HEALTH SERVICES W MCC       |  1.470143e+06| 4.380451e+05|          0.2979609|\n",
       "|340 - APPENDECTOMY W COMPLICATED PRINCIPAL DIAG W/O CC/MCC                 |  1.413131e+06| 3.545160e+05|          0.2508727|\n",
       "|836 - ACUTE LEUKEMIA W/O MAJOR O.R. PROCEDURE W/O CC/MCC                   |  1.360732e+06| 1.167650e+05|          0.0858104|\n",
       "|766 - CESAREAN SECTION W/O CC/MCC                                          |  1.359640e+06| 5.044451e+05|          0.3710137|\n",
       "|848 - CHEMOTHERAPY W/O ACUTE LEUKEMIA AS SECONDARY DIAGNOSIS W/O CC/MCC    |  1.345573e+06| 4.281179e+05|          0.3181677|\n",
       "|114 - ORBITAL PROCEDURES W/O CC/MCC                                        |  1.300656e+06| 4.879270e+05|          0.3751392|\n",
       "|437 - MALIGNANCY OF HEPATOBILIARY SYSTEM OR PANCREAS W/O CC/MCC            |  1.295434e+06| 2.591631e+05|          0.2000589|\n",
       "|598 - MALIGNANT BREAST DISORDERS W CC                                      |  1.268472e+06| 1.817360e+05|          0.1432716|\n",
       "|503 - FOOT PROCEDURES W MCC                                                |  1.133067e+06| 1.610530e+05|          0.1421390|\n",
       "|052 - SPINAL DISORDERS & INJURIES W CC/MCC                                 |  1.131781e+06| 5.325751e+05|          0.4705637|\n",
       "|825 - LYMPHOMA & NON-ACUTE LEUKEMIA W OTHER O.R. PROC W/O CC/MCC           |  1.087449e+06| 1.475860e+05|          0.1357176|\n",
       "|810 - MAJOR HEMATOL/IMMUN DIAG EXC SICKLE CELL CRISIS & COAGUL W/O CC/MCC  |  1.057144e+06| 1.620260e+05|          0.1532677|\n",
       "|098 - NON-BACTERIAL INFECT OF NERVOUS SYS EXC VIRAL MENINGITIS W CC        |  9.895390e+05| 5.091060e+05|          0.5144881|\n",
       "|622 - SKIN GRAFTS & WOUND DEBRID FOR ENDOC, NUTRIT & METAB DIS W MCC       |  9.741150e+05| 2.322670e+05|          0.2384390|\n",
       "|915 - ALLERGIC REACTIONS W MCC                                             |  9.734340e+05| 3.392320e+05|          0.3484900|\n",
       "|198 - INTERSTITIAL LUNG DISEASE W/O CC/MCC                                 |  9.724641e+05| 2.254980e+05|          0.2318831|\n",
       "|901 - WOUND DEBRIDEMENTS FOR INJURIES W MCC                                |  9.625480e+05| 3.658650e+05|          0.3801005|\n",
       "|188 - PLEURAL EFFUSION W/O CC/MCC                                          |  9.476689e+05| 1.559221e+05|          0.1645322|\n",
       "|156 - OTHER EAR, NOSE, MOUTH & THROAT DIAGNOSES W/O CC/MCC                 |  9.326569e+05| 2.043060e+05|          0.2190580|\n",
       "|718 - OTHER MALE REPRODUCTIVE SYSTEM O.R. PROC EXC MALIGNANCY W/O CC/MCC   |  9.136080e+05| 8.885600e+04|          0.0972583|\n",
       "|461 - BILATERAL OR MULTIPLE MAJOR JOINT PROCS OF LOWER EXTREMITY W MCC     |  8.848669e+05| 2.646760e+05|          0.2991138|\n",
       "|886 - BEHAVIORAL & DEVELOPMENTAL DISORDERS                                 |  8.621798e+05| 3.510539e+05|          0.4071702|\n",
       "|094 - BACTERIAL & TUBERCULOUS INFECTIONS OF NERVOUS SYSTEM W MCC           |  8.512680e+05| 3.936270e+05|          0.4624008|\n",
       "|941 - O.R. PROC W DIAGNOSES OF OTHER CONTACT W HEALTH SERVICES W/O CC/MCC  |  8.440430e+05| 2.473560e+05|          0.2930609|\n",
       "|265 - AICD LEAD PROCEDURES                                                 |  8.127970e+05| 1.863130e+05|          0.2292246|\n",
       "|716 - OTHER MALE REPRODUCTIVE SYSTEM O.R. PROC FOR MALIGNANCY W/O CC/MCC   |  8.101930e+05| 8.536296e+04|          0.1053613|\n",
       "|757 - INFECTIONS, FEMALE REPRODUCTIVE SYSTEM W MCC                         |  7.604670e+05| 1.109580e+05|          0.1459077|\n",
       "|150 - EPISTAXIS W MCC                                                      |  7.289730e+05| 1.264350e+05|          0.1734426|\n",
       "|816 - RETICULOENDOTHELIAL & IMMUNITY DISORDERS W/O CC/MCC                  |  7.116210e+05| 5.269100e+04|          0.0740436|\n",
       "|294 - DEEP VEIN THROMBOPHLEBITIS W CC/MCC                                  |  6.410940e+05| 8.515696e+04|          0.1328307|\n",
       "|906 - HAND PROCEDURES FOR INJURIES                                         |  6.116861e+05| 1.601410e+05|          0.2618027|\n",
       "|383 - UNCOMPLICATED PEPTIC ULCER W MCC                                     |  5.804490e+05| 9.921405e+04|          0.1709264|\n",
       "|498 - LOCAL EXCISION & REMOVAL INT FIX DEVICES OF HIP & FEMUR W CC/MCC     |  5.755560e+05| 1.703610e+05|          0.2959938|\n",
       "|146 - EAR, NOSE, MOUTH & THROAT MALIGNANCY W MCC                           |  5.689220e+05| 1.749890e+05|          0.3075799|\n",
       "|595 - MAJOR SKIN DISORDERS W MCC                                           |  5.492440e+05| 1.637630e+05|          0.2981607|\n",
       "|117 - INTRAOCULAR PROCEDURES W/O CC/MCC                                    |  5.281000e+05| 1.695060e+05|          0.3209732|\n",
       "|686 - KIDNEY & URINARY TRACT NEOPLASMS W MCC                               |  5.212440e+05| 1.278840e+05|          0.2453438|\n",
       "|137 - MOUTH PROCEDURES W CC/MCC                                            |  5.208910e+05| 1.245740e+05|          0.2391556|\n",
       "|410 - BILIARY TRACT PROC EXCEPT ONLY CHOLECYST W OR W/O C.D.E. W/O CC/MCC  |  4.938550e+05| 1.466701e+05|          0.2969901|\n",
       "|600 - NON-MALIGNANT BREAST DISORDERS W CC/MCC                              |  4.907910e+05| 5.995000e+04|          0.1221498|\n",
       "|672 - URETHRAL PROCEDURES W/O CC/MCC                                       |  4.855150e+05| 6.801396e+04|          0.1400862|\n",
       "|758 - INFECTIONS, FEMALE REPRODUCTIVE SYSTEM W CC                          |  4.465270e+05| 6.573402e+04|          0.1472118|\n",
       "|976 - HIV W MAJOR RELATED CONDITION W/O CC/MCC                             |  3.540930e+05| 1.380010e+05|          0.3897311|\n",
       "|241 - AMPUTATION FOR CIRC SYS DISORDERS EXC UPPER LIMB & TOE W/O CC/MCC    |  3.245950e+05| 1.343259e+05|          0.4138262|\n",
       "|534 - FRACTURES OF FEMUR W/O MCC                                           |  2.972659e+05| 1.076239e+05|          0.3620459|\n",
       "|869 - OTHER INFECTIOUS & PARASITIC DISEASES DIAGNOSES W/O CC/MCC           |  2.429400e+05| 5.122900e+04|          0.2108710|\n",
       "|201 - PNEUMOTHORAX W/O CC/MCC                                              |  2.098960e+05| 5.612500e+04|          0.2673943|\n",
       "|572 - SKIN DEBRIDEMENT W/O CC/MCC                                          |  1.675390e+05| 1.405340e+05|          0.8388137|\n",
       "|376 - DIGESTIVE MALIGNANCY W/O CC/MCC                                      |  1.622430e+05| 4.859195e+04|          0.2995011|\n",
       "|053 - SPINAL DISORDERS & INJURIES W/O CC/MCC                               |  8.000700e+04| 5.702000e+04|          0.7126876|"
      ]
     },
     "metadata": {},
     "output_type": "display_data"
    }
   ],
   "source": [
    "df_top <- payment %>% mutate(total_c = Average.Covered.Charges*Total.Discharges,\n",
    "                        total_p = Average.Medicare.Payments*Total.Discharges) %>% \n",
    "  group_by(DRG.Definition) %>%\n",
    "  summarise(total_charges=sum(total_c), total_paid = sum(total_p),\n",
    "            ratio_paid_charged = sum(total_p)/sum(total_c)) %>%\n",
    "  arrange(desc(total_charges))\n",
    "\n",
    "knitr::kable(df_top)"
   ]
  },
  {
   "cell_type": "code",
   "execution_count": 11,
   "metadata": {},
   "outputs": [
    {
     "data": {
      "text/html": [
       "<ol class=list-inline>\n",
       "\t<li>46356</li>\n",
       "\t<li>8</li>\n",
       "</ol>\n"
      ],
      "text/latex": [
       "\\begin{enumerate*}\n",
       "\\item 46356\n",
       "\\item 8\n",
       "\\end{enumerate*}\n"
      ],
      "text/markdown": [
       "1. 46356\n",
       "2. 8\n",
       "\n",
       "\n"
      ],
      "text/plain": [
       "[1] 46356     8"
      ]
     },
     "metadata": {},
     "output_type": "display_data"
    }
   ],
   "source": [
    "drg.by.state <- payment %>% group_by(DRG.Definition, Provider.State, Year) %>%\n",
    "        summarise(count =n(),\n",
    "                  State.mean.total.discharges          = mean(Total.Discharges),\n",
    "                  State.mean.average.covered.charges   = mean(Average.Covered.Charges),\n",
    "                  State.mean.average.total.payments    = mean(Average.Total.Payments),\n",
    "                  State.mean.average.medicare.payments = mean(Average.Medicare.Payments))\n",
    "                 \n",
    "dim(drg.by.state); "
   ]
  },
  {
   "cell_type": "code",
   "execution_count": 155,
   "metadata": {},
   "outputs": [],
   "source": [
    "#head(drg.by.state)"
   ]
  },
  {
   "cell_type": "code",
   "execution_count": 12,
   "metadata": {
    "scrolled": true
   },
   "outputs": [
    {
     "data": {
      "text/html": [
       "<table>\n",
       "<thead><tr><th scope=col>Provider.State</th><th scope=col>totalcost</th><th scope=col>percent</th></tr></thead>\n",
       "<tbody>\n",
       "\t<tr><td>CA        </td><td>1476417090</td><td>13.295152 </td></tr>\n",
       "\t<tr><td>FL        </td><td>1043924734</td><td> 9.400554 </td></tr>\n",
       "\t<tr><td>TX        </td><td> 903280136</td><td> 8.134048 </td></tr>\n",
       "\t<tr><td>NY        </td><td> 622842762</td><td> 5.608706 </td></tr>\n",
       "\t<tr><td>PA        </td><td> 607312763</td><td> 5.468858 </td></tr>\n",
       "\t<tr><td>NJ        </td><td> 588864040</td><td> 5.302727 </td></tr>\n",
       "\t<tr><td>IL        </td><td> 468739789</td><td> 4.221007 </td></tr>\n",
       "\t<tr><td>OH        </td><td> 347818153</td><td> 3.132106 </td></tr>\n",
       "\t<tr><td>GA        </td><td> 275049708</td><td> 2.476826 </td></tr>\n",
       "\t<tr><td>MI        </td><td> 270847939</td><td> 2.438989 </td></tr>\n",
       "</tbody>\n",
       "</table>\n"
      ],
      "text/latex": [
       "\\begin{tabular}{r|lll}\n",
       " Provider.State & totalcost & percent\\\\\n",
       "\\hline\n",
       "\t CA         & 1476417090 & 13.295152 \\\\\n",
       "\t FL         & 1043924734 &  9.400554 \\\\\n",
       "\t TX         &  903280136 &  8.134048 \\\\\n",
       "\t NY         &  622842762 &  5.608706 \\\\\n",
       "\t PA         &  607312763 &  5.468858 \\\\\n",
       "\t NJ         &  588864040 &  5.302727 \\\\\n",
       "\t IL         &  468739789 &  4.221007 \\\\\n",
       "\t OH         &  347818153 &  3.132106 \\\\\n",
       "\t GA         &  275049708 &  2.476826 \\\\\n",
       "\t MI         &  270847939 &  2.438989 \\\\\n",
       "\\end{tabular}\n"
      ],
      "text/markdown": [
       "\n",
       "| Provider.State | totalcost | percent |\n",
       "|---|---|---|\n",
       "| CA         | 1476417090 | 13.295152  |\n",
       "| FL         | 1043924734 |  9.400554  |\n",
       "| TX         |  903280136 |  8.134048  |\n",
       "| NY         |  622842762 |  5.608706  |\n",
       "| PA         |  607312763 |  5.468858  |\n",
       "| NJ         |  588864040 |  5.302727  |\n",
       "| IL         |  468739789 |  4.221007  |\n",
       "| OH         |  347818153 |  3.132106  |\n",
       "| GA         |  275049708 |  2.476826  |\n",
       "| MI         |  270847939 |  2.438989  |\n",
       "\n"
      ],
      "text/plain": [
       "   Provider.State totalcost  percent  \n",
       "1  CA             1476417090 13.295152\n",
       "2  FL             1043924734  9.400554\n",
       "3  TX              903280136  8.134048\n",
       "4  NY              622842762  5.608706\n",
       "5  PA              607312763  5.468858\n",
       "6  NJ              588864040  5.302727\n",
       "7  IL              468739789  4.221007\n",
       "8  OH              347818153  3.132106\n",
       "9  GA              275049708  2.476826\n",
       "10 MI              270847939  2.438989"
      ]
     },
     "metadata": {},
     "output_type": "display_data"
    },
    {
     "data": {
      "text/html": [
       "<table>\n",
       "<thead><tr><th scope=col>Provider.State</th><th scope=col>totalcost</th><th scope=col>percent</th></tr></thead>\n",
       "<tbody>\n",
       "\t<tr><td>CA        </td><td>1543588503</td><td>13.436414 </td></tr>\n",
       "\t<tr><td>FL        </td><td>1085126069</td><td> 9.445654 </td></tr>\n",
       "\t<tr><td>TX        </td><td> 946373103</td><td> 8.237857 </td></tr>\n",
       "\t<tr><td>NY        </td><td> 662826978</td><td> 5.769684 </td></tr>\n",
       "\t<tr><td>PA        </td><td> 616029882</td><td> 5.362331 </td></tr>\n",
       "\t<tr><td>NJ        </td><td> 585908481</td><td> 5.100135 </td></tr>\n",
       "\t<tr><td>IL        </td><td> 474406700</td><td> 4.129549 </td></tr>\n",
       "\t<tr><td>OH        </td><td> 369976137</td><td> 3.220517 </td></tr>\n",
       "\t<tr><td>GA        </td><td> 284286871</td><td> 2.474621 </td></tr>\n",
       "\t<tr><td>VA        </td><td> 277670938</td><td> 2.417031 </td></tr>\n",
       "</tbody>\n",
       "</table>\n"
      ],
      "text/latex": [
       "\\begin{tabular}{r|lll}\n",
       " Provider.State & totalcost & percent\\\\\n",
       "\\hline\n",
       "\t CA         & 1543588503 & 13.436414 \\\\\n",
       "\t FL         & 1085126069 &  9.445654 \\\\\n",
       "\t TX         &  946373103 &  8.237857 \\\\\n",
       "\t NY         &  662826978 &  5.769684 \\\\\n",
       "\t PA         &  616029882 &  5.362331 \\\\\n",
       "\t NJ         &  585908481 &  5.100135 \\\\\n",
       "\t IL         &  474406700 &  4.129549 \\\\\n",
       "\t OH         &  369976137 &  3.220517 \\\\\n",
       "\t GA         &  284286871 &  2.474621 \\\\\n",
       "\t VA         &  277670938 &  2.417031 \\\\\n",
       "\\end{tabular}\n"
      ],
      "text/markdown": [
       "\n",
       "| Provider.State | totalcost | percent |\n",
       "|---|---|---|\n",
       "| CA         | 1543588503 | 13.436414  |\n",
       "| FL         | 1085126069 |  9.445654  |\n",
       "| TX         |  946373103 |  8.237857  |\n",
       "| NY         |  662826978 |  5.769684  |\n",
       "| PA         |  616029882 |  5.362331  |\n",
       "| NJ         |  585908481 |  5.100135  |\n",
       "| IL         |  474406700 |  4.129549  |\n",
       "| OH         |  369976137 |  3.220517  |\n",
       "| GA         |  284286871 |  2.474621  |\n",
       "| VA         |  277670938 |  2.417031  |\n",
       "\n"
      ],
      "text/plain": [
       "   Provider.State totalcost  percent  \n",
       "1  CA             1543588503 13.436414\n",
       "2  FL             1085126069  9.445654\n",
       "3  TX              946373103  8.237857\n",
       "4  NY              662826978  5.769684\n",
       "5  PA              616029882  5.362331\n",
       "6  NJ              585908481  5.100135\n",
       "7  IL              474406700  4.129549\n",
       "8  OH              369976137  3.220517\n",
       "9  GA              284286871  2.474621\n",
       "10 VA              277670938  2.417031"
      ]
     },
     "metadata": {},
     "output_type": "display_data"
    },
    {
     "data": {
      "text/html": [
       "<table>\n",
       "<thead><tr><th scope=col>Provider.State</th><th scope=col>totalcost</th><th scope=col>percent</th></tr></thead>\n",
       "<tbody>\n",
       "\t<tr><td>CA        </td><td>1619088701</td><td>13.482918 </td></tr>\n",
       "\t<tr><td>FL        </td><td>1137603834</td><td> 9.473365 </td></tr>\n",
       "\t<tr><td>TX        </td><td> 989987617</td><td> 8.244095 </td></tr>\n",
       "\t<tr><td>NY        </td><td> 693400053</td><td> 5.774270 </td></tr>\n",
       "\t<tr><td>PA        </td><td> 642160074</td><td> 5.347571 </td></tr>\n",
       "\t<tr><td>NJ        </td><td> 569842839</td><td> 4.745351 </td></tr>\n",
       "\t<tr><td>IL        </td><td> 493844773</td><td> 4.112479 </td></tr>\n",
       "\t<tr><td>OH        </td><td> 387530017</td><td> 3.227146 </td></tr>\n",
       "\t<tr><td>GA        </td><td> 302108690</td><td> 2.515802 </td></tr>\n",
       "\t<tr><td>VA        </td><td> 297896863</td><td> 2.480728 </td></tr>\n",
       "</tbody>\n",
       "</table>\n"
      ],
      "text/latex": [
       "\\begin{tabular}{r|lll}\n",
       " Provider.State & totalcost & percent\\\\\n",
       "\\hline\n",
       "\t CA         & 1619088701 & 13.482918 \\\\\n",
       "\t FL         & 1137603834 &  9.473365 \\\\\n",
       "\t TX         &  989987617 &  8.244095 \\\\\n",
       "\t NY         &  693400053 &  5.774270 \\\\\n",
       "\t PA         &  642160074 &  5.347571 \\\\\n",
       "\t NJ         &  569842839 &  4.745351 \\\\\n",
       "\t IL         &  493844773 &  4.112479 \\\\\n",
       "\t OH         &  387530017 &  3.227146 \\\\\n",
       "\t GA         &  302108690 &  2.515802 \\\\\n",
       "\t VA         &  297896863 &  2.480728 \\\\\n",
       "\\end{tabular}\n"
      ],
      "text/markdown": [
       "\n",
       "| Provider.State | totalcost | percent |\n",
       "|---|---|---|\n",
       "| CA         | 1619088701 | 13.482918  |\n",
       "| FL         | 1137603834 |  9.473365  |\n",
       "| TX         |  989987617 |  8.244095  |\n",
       "| NY         |  693400053 |  5.774270  |\n",
       "| PA         |  642160074 |  5.347571  |\n",
       "| NJ         |  569842839 |  4.745351  |\n",
       "| IL         |  493844773 |  4.112479  |\n",
       "| OH         |  387530017 |  3.227146  |\n",
       "| GA         |  302108690 |  2.515802  |\n",
       "| VA         |  297896863 |  2.480728  |\n",
       "\n"
      ],
      "text/plain": [
       "   Provider.State totalcost  percent  \n",
       "1  CA             1619088701 13.482918\n",
       "2  FL             1137603834  9.473365\n",
       "3  TX              989987617  8.244095\n",
       "4  NY              693400053  5.774270\n",
       "5  PA              642160074  5.347571\n",
       "6  NJ              569842839  4.745351\n",
       "7  IL              493844773  4.112479\n",
       "8  OH              387530017  3.227146\n",
       "9  GA              302108690  2.515802\n",
       "10 VA              297896863  2.480728"
      ]
     },
     "metadata": {},
     "output_type": "display_data"
    }
   ],
   "source": [
    "usstates1 <- payment %>%\n",
    "  group_by(Provider.State) %>% filter(Year == 2015) %>%\n",
    "  summarize(totalcost = sum(Average.Covered.Charges, na.rm =TRUE))%>%\n",
    "  mutate(percent = (totalcost/sum(totalcost))*100)%>%\n",
    "  arrange(desc(totalcost))\n",
    "\n",
    "head(usstates1, 10)\n",
    "usstates1 <- payment %>%\n",
    "  group_by(Provider.State) %>% filter(Year == 2016) %>%\n",
    "  summarize(totalcost = sum(Average.Covered.Charges, na.rm =TRUE))%>%\n",
    "  mutate(percent = (totalcost/sum(totalcost))*100)%>%\n",
    "  arrange(desc(totalcost))\n",
    "\n",
    "head(usstates1, 10)\n",
    "\n",
    "usstates1 <- payment %>%\n",
    "  group_by(Provider.State) %>% filter(Year == 2017) %>%\n",
    "  summarize(totalcost = sum(Average.Covered.Charges, na.rm =TRUE))%>%\n",
    "  mutate(percent = (totalcost/sum(totalcost))*100)%>%\n",
    "  arrange(desc(totalcost))\n",
    "\n",
    "head(usstates1, 10)"
   ]
  },
  {
   "cell_type": "code",
   "execution_count": 183,
   "metadata": {},
   "outputs": [],
   "source": [
    "my.bloody.theme <- within(trellis.par.get(), {    # Initialize theme with default value\n",
    "  axis.line$col <- NA                             # Remove axes\n",
    "  plot.polygon <- within(plot.polygon, {\n",
    "    col <- \"#8A0606\"                              # Set bar colors to a nice bloody red\n",
    "    border <- NA                                  # Remove bars' outline\n",
    "  })\n",
    "  axis.text$cex <- 1                              # Default axis text size is a bit small. Make it bigger\n",
    "  layout.heights <- within(layout.heights, {\n",
    "    bottom.padding <- 0                           # Remove bottom padding\n",
    "    axis.bottom <- 0                              # Remove axis padding at the bottom of the graph\n",
    "    axis.top <- 0                                 # Remove axis padding at the top of the graph\n",
    "  })\n",
    "})"
   ]
  },
  {
   "cell_type": "code",
   "execution_count": 196,
   "metadata": {},
   "outputs": [
    {
     "data": {
      "image/png": "[encoded data removed]",
      "text/plain": [
       "plot without title"
      ]
     },
     "metadata": {},
     "output_type": "display_data"
    }
   ],
   "source": [
    "par(mar = c(5, 8, 4, 2) + 0.2)\n",
    "\n",
    "# Specify colours for the bars and bar borders\n",
    "border.vec <- color.vec <- rep(\"grey\", 53)\n",
    "# Specify colours of text labels for the bars\n",
    "country.vec <- rep(\"black\", 53) \n",
    "\n",
    "# Change bar and text colour to red for United Kingdom\n",
    "index <- which(usstates1$Provider.State == \"NY\")\n",
    "border.vec[index] <- \n",
    "  color.vec[index] <- \n",
    "  country.vec[index] <- \"red\"\n",
    "\n",
    "# leave out x-axis labelling in the main barplot...\n",
    "bp <- barplot(usstates1$percent, \n",
    "        las = 1,\n",
    "        xlab=\"Gini coefficient\",\n",
    "        horiz = TRUE,\n",
    "        border = border.vec,\n",
    "        col = color.vec,\n",
    "        xlim = c(0, 0.5),\n",
    "        xaxp = c(0, 0.5, 5))\n",
    "abline(v=seq(0, 0.4, by=0.1), col='white', lwd=2)\n",
    "\n",
    "#... and add it in manually at the end\n",
    "text(y = bp, x = -0.01, \n",
    "     labels = usstates1$Provider.State ,\n",
    "      xpd = TRUE, col = country.vec, adj = 1)"
   ]
  },
  {
   "cell_type": "code",
   "execution_count": 187,
   "metadata": {},
   "outputs": [
    {
     "name": "stderr",
     "output_type": "stream",
     "text": [
      "The following objects are masked from usstates1 (pos = 3):\n",
      "\n",
      "    percent, Provider.State, totalcost\n",
      "\n"
     ]
    },
    {
     "data": {
      "image/png": "[encoded data removed]",
      "text/plain": [
       "plot without title"
      ]
     },
     "metadata": {},
     "output_type": "display_data"
    }
   ],
   "source": [
    "attach(usstates1)\n",
    "       par(mar = c(5, 8, 4, 2) + 0.1)\n",
    "barplot(percent, \n",
    "        names.arg = Provider.State,\n",
    "        xlab=\"States\",\n",
    "        horiz = TRUE,\n",
    "        las = 1)"
   ]
  },
  {
   "cell_type": "code",
   "execution_count": 182,
   "metadata": {},
   "outputs": [
    {
     "data": {
      "image/png": "[encoded data removed]",
      "text/plain": [
       "plot without title"
      ]
     },
     "metadata": {},
     "output_type": "display_data"
    }
   ],
   "source": [
    "graph <- barchart(Provider.State ~ percent, data = usstates1, \n",
    "                   decreasing = TRUE, box.width=0.75, main='Total Cost By State in 2017')\n",
    "print(graph)"
   ]
  },
  {
   "cell_type": "code",
   "execution_count": 184,
   "metadata": {},
   "outputs": [
    {
     "data": {
      "image/png": "[encoded data removed]",
      "text/plain": [
       "plot without title"
      ]
     },
     "metadata": {},
     "output_type": "display_data"
    }
   ],
   "source": [
    "graph <- update(\n",
    "  graph,\n",
    "  main='25 most violence packed films by deaths per minute',    # Title of the barchart\n",
    "  par.settings = my.bloody.theme,                               # Use custom theme\n",
    "  xlab = NULL,                                                  # Remove label of x axis\n",
    "  scales=list(x=list(at=NULL)),                                 # Remove rest of x axis\n",
    "  xlim = c(0, 6.7),                                             # Set graph limits along x axis to accomodate the additional text (requires some trial and error)\n",
    "  box.width=0.75)                                               # Default bar width is a bit small. Make it bigger)\n",
    "\n",
    "print(graph)"
   ]
  },
  {
   "cell_type": "code",
   "execution_count": 158,
   "metadata": {},
   "outputs": [
    {
     "data": {
      "text/html": [
       "<ol class=list-inline>\n",
       "\t<li>51</li>\n",
       "\t<li>3</li>\n",
       "</ol>\n"
      ],
      "text/latex": [
       "\\begin{enumerate*}\n",
       "\\item 51\n",
       "\\item 3\n",
       "\\end{enumerate*}\n"
      ],
      "text/markdown": [
       "1. 51\n",
       "2. 3\n",
       "\n",
       "\n"
      ],
      "text/plain": [
       "[1] 51  3"
      ]
     },
     "metadata": {},
     "output_type": "display_data"
    }
   ],
   "source": [
    "nata <- ggplot(usstates1, aes(percent, Provider.State)) +\n",
    "        geom_segment(aes(x = 0, y = Provider.State, xend = percent, yend = Provider.State), color = \"grey50\") +\n",
    "        geom_point()\n",
    "nata"
   ]
  },
  {
   "cell_type": "code",
   "execution_count": 128,
   "metadata": {},
   "outputs": [
    {
     "data": {
      "image/png": "[encoded data removed]",
      "text/plain": [
       "plot without title"
      ]
     },
     "metadata": {},
     "output_type": "display_data"
    }
   ],
   "source": [
    "nata <- ggplot(usstates1, aes(percent, Provider.State)) +\n",
    "        geom_segment(aes(x = 0, y = Provider.State, xend = percent, yend = Provider.State), color = \"grey50\") +\n",
    "        geom_point()\n",
    "nata"
   ]
  },
  {
   "cell_type": "code",
   "execution_count": 129,
   "metadata": {},
   "outputs": [
    {
     "data": {
      "text/html": [
       "<table>\n",
       "<thead><tr><th scope=col>Provider.State</th><th scope=col>totalc</th><th scope=col>Avg</th><th scope=col>Above</th><th scope=col>county</th></tr></thead>\n",
       "<tbody>\n",
       "\t<tr><td>AK        </td><td>  64999896</td><td>678460220 </td><td>FALSE     </td><td>AK        </td></tr>\n",
       "\t<tr><td>AL        </td><td> 644582325</td><td>678460220 </td><td>FALSE     </td><td>AL        </td></tr>\n",
       "\t<tr><td>AR        </td><td> 304387603</td><td>678460220 </td><td>FALSE     </td><td>AR        </td></tr>\n",
       "\t<tr><td>AZ        </td><td> 691051363</td><td>678460220 </td><td> TRUE     </td><td>AZ        </td></tr>\n",
       "\t<tr><td>CA        </td><td>4639094294</td><td>678460220 </td><td> TRUE     </td><td>CA        </td></tr>\n",
       "\t<tr><td>CO        </td><td> 502649368</td><td>678460220 </td><td>FALSE     </td><td>CO        </td></tr>\n",
       "</tbody>\n",
       "</table>\n"
      ],
      "text/latex": [
       "\\begin{tabular}{r|lllll}\n",
       " Provider.State & totalc & Avg & Above & county\\\\\n",
       "\\hline\n",
       "\t AK         &   64999896 & 678460220  & FALSE      & AK        \\\\\n",
       "\t AL         &  644582325 & 678460220  & FALSE      & AL        \\\\\n",
       "\t AR         &  304387603 & 678460220  & FALSE      & AR        \\\\\n",
       "\t AZ         &  691051363 & 678460220  &  TRUE      & AZ        \\\\\n",
       "\t CA         & 4639094294 & 678460220  &  TRUE      & CA        \\\\\n",
       "\t CO         &  502649368 & 678460220  & FALSE      & CO        \\\\\n",
       "\\end{tabular}\n"
      ],
      "text/markdown": [
       "\n",
       "| Provider.State | totalc | Avg | Above | county |\n",
       "|---|---|---|---|---|\n",
       "| AK         |   64999896 | 678460220  | FALSE      | AK         |\n",
       "| AL         |  644582325 | 678460220  | FALSE      | AL         |\n",
       "| AR         |  304387603 | 678460220  | FALSE      | AR         |\n",
       "| AZ         |  691051363 | 678460220  |  TRUE      | AZ         |\n",
       "| CA         | 4639094294 | 678460220  |  TRUE      | CA         |\n",
       "| CO         |  502649368 | 678460220  | FALSE      | CO         |\n",
       "\n"
      ],
      "text/plain": [
       "  Provider.State totalc     Avg       Above county\n",
       "1 AK               64999896 678460220 FALSE AK    \n",
       "2 AL              644582325 678460220 FALSE AL    \n",
       "3 AR              304387603 678460220 FALSE AR    \n",
       "4 AZ              691051363 678460220  TRUE AZ    \n",
       "5 CA             4639094294 678460220  TRUE CA    \n",
       "6 CO              502649368 678460220 FALSE CO    "
      ]
     },
     "metadata": {},
     "output_type": "display_data"
    }
   ],
   "source": [
    "mapk <- usstates1 %>%\n",
    "        select(Provider.State, totalc) %>%\n",
    "        arrange(Provider.State) %>%\n",
    "        mutate(Avg = mean(totalc, na.rm = TRUE),\n",
    "               Above = ifelse(totalc - Avg > 0, TRUE, FALSE),\n",
    "               county = factor(Provider.State, levels = .$Provider.State))\n",
    "\n",
    "head(mapk)"
   ]
  },
  {
   "cell_type": "code",
   "execution_count": 130,
   "metadata": {},
   "outputs": [
    {
     "data": {
      "image/png": "[encoded data removed]",
      "text/plain": [
       "plot without title"
      ]
     },
     "metadata": {},
     "output_type": "display_data"
    }
   ],
   "source": [
    "ggplot(mapk, aes(totalc, Provider.State, color = Above)) +\n",
    "        geom_segment(aes(x = Avg, y = Provider.State, xend = totalc, yend = Provider.State), color = \"grey50\") +\n",
    "        geom_point()"
   ]
  },
  {
   "cell_type": "markdown",
   "metadata": {},
   "source": [
    "Most common hospital discharges within 3 years, and how it changed over time. \"871 - SEPTICEMIA OR SEVERE SEPSIS W/O MV 96+ HOURS W MCC\t\" is leading"
   ]
  },
  {
   "cell_type": "code",
   "execution_count": 162,
   "metadata": {},
   "outputs": [],
   "source": [
    "library(lattice)        # Very versatile graphics package\n",
    "library(latticeExtra)"
   ]
  },
  {
   "cell_type": "code",
   "execution_count": 170,
   "metadata": {},
   "outputs": [
    {
     "data": {
      "text/html": [
       "<table>\n",
       "<thead><tr><th scope=col>DRG.Definition</th><th scope=col>total.discharges</th><th scope=col>percent</th></tr></thead>\n",
       "<tbody>\n",
       "\t<tr><td><span style=white-space:pre-wrap>871 - SEPTICEMIA OR SEVERE SEPSIS W/O MV &gt;96 HOURS W MCC                </span></td><td>597736                                                                                                             </td><td>0.08096455                                                                                                         </td></tr>\n",
       "\t<tr><td>470 - MAJOR JOINT REPLACEMENT OR REATTACHMENT OF LOWER EXTREMITY W/O MCC</td><td>510632                                                                  </td><td>0.06916614                                                              </td></tr>\n",
       "\t<tr><td><span style=white-space:pre-wrap>291 - HEART FAILURE &amp; SHOCK W MCC                                       </span></td><td>359442                                                                                                              </td><td>0.04868714                                                                                                          </td></tr>\n",
       "\t<tr><td>190 - CHRONIC OBSTRUCTIVE PULMONARY DISEASE W MCC                       </td><td>215525                                                                  </td><td>0.02919330                                                              </td></tr>\n",
       "\t<tr><td><span style=white-space:pre-wrap>189 - PULMONARY EDEMA &amp; RESPIRATORY FAILURE                             </span></td><td>165613                                                                                                              </td><td>0.02243262                                                                                                          </td></tr>\n",
       "\t<tr><td><span style=white-space:pre-wrap>872 - SEPTICEMIA OR SEVERE SEPSIS W/O MV &gt;96 HOURS W/O MCC              </span></td><td>157851                                                                                                             </td><td>0.02138124                                                                                                         </td></tr>\n",
       "</tbody>\n",
       "</table>\n"
      ],
      "text/latex": [
       "\\begin{tabular}{r|lll}\n",
       " DRG.Definition & total.discharges & percent\\\\\n",
       "\\hline\n",
       "\t 871 - SEPTICEMIA OR SEVERE SEPSIS W/O MV >96 HOURS W MCC                 & 597736                                                                   & 0.08096455                                                              \\\\\n",
       "\t 470 - MAJOR JOINT REPLACEMENT OR REATTACHMENT OF LOWER EXTREMITY W/O MCC & 510632                                                                   & 0.06916614                                                              \\\\\n",
       "\t 291 - HEART FAILURE \\& SHOCK W MCC                                        & 359442                                                                     & 0.04868714                                                                \\\\\n",
       "\t 190 - CHRONIC OBSTRUCTIVE PULMONARY DISEASE W MCC                        & 215525                                                                   & 0.02919330                                                              \\\\\n",
       "\t 189 - PULMONARY EDEMA \\& RESPIRATORY FAILURE                              & 165613                                                                     & 0.02243262                                                                \\\\\n",
       "\t 872 - SEPTICEMIA OR SEVERE SEPSIS W/O MV >96 HOURS W/O MCC               & 157851                                                                   & 0.02138124                                                              \\\\\n",
       "\\end{tabular}\n"
      ],
      "text/markdown": [
       "\n",
       "| DRG.Definition | total.discharges | percent |\n",
       "|---|---|---|\n",
       "| 871 - SEPTICEMIA OR SEVERE SEPSIS W/O MV >96 HOURS W MCC                 | 597736                                                                   | 0.08096455                                                               |\n",
       "| 470 - MAJOR JOINT REPLACEMENT OR REATTACHMENT OF LOWER EXTREMITY W/O MCC | 510632                                                                   | 0.06916614                                                               |\n",
       "| 291 - HEART FAILURE & SHOCK W MCC                                        | 359442                                                                   | 0.04868714                                                               |\n",
       "| 190 - CHRONIC OBSTRUCTIVE PULMONARY DISEASE W MCC                        | 215525                                                                   | 0.02919330                                                               |\n",
       "| 189 - PULMONARY EDEMA & RESPIRATORY FAILURE                              | 165613                                                                   | 0.02243262                                                               |\n",
       "| 872 - SEPTICEMIA OR SEVERE SEPSIS W/O MV >96 HOURS W/O MCC               | 157851                                                                   | 0.02138124                                                               |\n",
       "\n"
      ],
      "text/plain": [
       "  DRG.Definition                                                          \n",
       "1 871 - SEPTICEMIA OR SEVERE SEPSIS W/O MV >96 HOURS W MCC                \n",
       "2 470 - MAJOR JOINT REPLACEMENT OR REATTACHMENT OF LOWER EXTREMITY W/O MCC\n",
       "3 291 - HEART FAILURE & SHOCK W MCC                                       \n",
       "4 190 - CHRONIC OBSTRUCTIVE PULMONARY DISEASE W MCC                       \n",
       "5 189 - PULMONARY EDEMA & RESPIRATORY FAILURE                             \n",
       "6 872 - SEPTICEMIA OR SEVERE SEPSIS W/O MV >96 HOURS W/O MCC              \n",
       "  total.discharges percent   \n",
       "1 597736           0.08096455\n",
       "2 510632           0.06916614\n",
       "3 359442           0.04868714\n",
       "4 215525           0.02919330\n",
       "5 165613           0.02243262\n",
       "6 157851           0.02138124"
      ]
     },
     "metadata": {},
     "output_type": "display_data"
    }
   ],
   "source": [
    "head(kak)"
   ]
  },
  {
   "cell_type": "code",
   "execution_count": 171,
   "metadata": {},
   "outputs": [
    {
     "data": {
      "image/png": "[encoded data removed]",
      "text/plain": [
       "plot without title"
      ]
     },
     "metadata": {},
     "output_type": "display_data"
    }
   ],
   "source": [
    "graph <- barchart(DRG.Definition ~ total.discharges, data = kak)\n",
    "print(graph)"
   ]
  },
  {
   "cell_type": "code",
   "execution_count": 168,
   "metadata": {},
   "outputs": [],
   "source": [
    "kak <- head(top10totaldischarges17, 10)"
   ]
  },
  {
   "cell_type": "code",
   "execution_count": 164,
   "metadata": {},
   "outputs": [
    {
     "data": {
      "text/html": [
       "<table>\n",
       "<thead><tr><th scope=col>DRG.Definition</th><th scope=col>total.discharges</th><th scope=col>percent</th></tr></thead>\n",
       "<tbody>\n",
       "\t<tr><td>871 - SEPTICEMIA OR SEVERE SEPSIS W/O MV 96+ HOURS W MCC                </td><td>521358                                                                  </td><td>0.07013846                                                              </td></tr>\n",
       "\t<tr><td>470 - MAJOR JOINT REPLACEMENT OR REATTACHMENT OF LOWER EXTREMITY W/O MCC</td><td>463930                                                                  </td><td>0.06241266                                                              </td></tr>\n",
       "\t<tr><td><span style=white-space:pre-wrap>291 - HEART FAILURE &amp; SHOCK W MCC                                       </span></td><td>221654                                                                                                              </td><td>0.02981919                                                                                                          </td></tr>\n",
       "\t<tr><td><span style=white-space:pre-wrap>292 - HEART FAILURE &amp; SHOCK W CC                                        </span></td><td>192975                                                                                                              </td><td>0.02596099                                                                                                          </td></tr>\n",
       "\t<tr><td><span style=white-space:pre-wrap>392 - ESOPHAGITIS, GASTROENT &amp; MISC DIGEST DISORDERS W/O MCC            </span></td><td>182443                                                                                                              </td><td>0.02454412                                                                                                          </td></tr>\n",
       "\t<tr><td><span style=white-space:pre-wrap>690 - KIDNEY &amp; URINARY TRACT INFECTIONS W/O MCC                         </span></td><td>150680                                                                                                              </td><td>0.02027103                                                                                                          </td></tr>\n",
       "\t<tr><td><span style=white-space:pre-wrap>872 - SEPTICEMIA OR SEVERE SEPSIS W/O MV &gt;96 HOURS W/O MCC              </span></td><td>150151                                                                                                             </td><td>0.02019986                                                                                                         </td></tr>\n",
       "\t<tr><td><span style=white-space:pre-wrap>194 - SIMPLE PNEUMONIA &amp; PLEURISY W CC                                  </span></td><td>148886                                                                                                              </td><td>0.02002968                                                                                                          </td></tr>\n",
       "\t<tr><td>683 - RENAL FAILURE W CC                                                </td><td>147311                                                                  </td><td>0.01981780                                                              </td></tr>\n",
       "\t<tr><td><span style=white-space:pre-wrap>193 - SIMPLE PNEUMONIA &amp; PLEURISY W MCC                                 </span></td><td>144595                                                                                                              </td><td>0.01945241                                                                                                          </td></tr>\n",
       "</tbody>\n",
       "</table>\n"
      ],
      "text/latex": [
       "\\begin{tabular}{r|lll}\n",
       " DRG.Definition & total.discharges & percent\\\\\n",
       "\\hline\n",
       "\t 871 - SEPTICEMIA OR SEVERE SEPSIS W/O MV 96+ HOURS W MCC                 & 521358                                                                   & 0.07013846                                                              \\\\\n",
       "\t 470 - MAJOR JOINT REPLACEMENT OR REATTACHMENT OF LOWER EXTREMITY W/O MCC & 463930                                                                   & 0.06241266                                                              \\\\\n",
       "\t 291 - HEART FAILURE \\& SHOCK W MCC                                        & 221654                                                                     & 0.02981919                                                                \\\\\n",
       "\t 292 - HEART FAILURE \\& SHOCK W CC                                         & 192975                                                                     & 0.02596099                                                                \\\\\n",
       "\t 392 - ESOPHAGITIS, GASTROENT \\& MISC DIGEST DISORDERS W/O MCC             & 182443                                                                     & 0.02454412                                                                \\\\\n",
       "\t 690 - KIDNEY \\& URINARY TRACT INFECTIONS W/O MCC                          & 150680                                                                     & 0.02027103                                                                \\\\\n",
       "\t 872 - SEPTICEMIA OR SEVERE SEPSIS W/O MV >96 HOURS W/O MCC               & 150151                                                                   & 0.02019986                                                              \\\\\n",
       "\t 194 - SIMPLE PNEUMONIA \\& PLEURISY W CC                                   & 148886                                                                     & 0.02002968                                                                \\\\\n",
       "\t 683 - RENAL FAILURE W CC                                                 & 147311                                                                   & 0.01981780                                                              \\\\\n",
       "\t 193 - SIMPLE PNEUMONIA \\& PLEURISY W MCC                                  & 144595                                                                     & 0.01945241                                                                \\\\\n",
       "\\end{tabular}\n"
      ],
      "text/markdown": [
       "\n",
       "| DRG.Definition | total.discharges | percent |\n",
       "|---|---|---|\n",
       "| 871 - SEPTICEMIA OR SEVERE SEPSIS W/O MV 96+ HOURS W MCC                 | 521358                                                                   | 0.07013846                                                               |\n",
       "| 470 - MAJOR JOINT REPLACEMENT OR REATTACHMENT OF LOWER EXTREMITY W/O MCC | 463930                                                                   | 0.06241266                                                               |\n",
       "| 291 - HEART FAILURE & SHOCK W MCC                                        | 221654                                                                   | 0.02981919                                                               |\n",
       "| 292 - HEART FAILURE & SHOCK W CC                                         | 192975                                                                   | 0.02596099                                                               |\n",
       "| 392 - ESOPHAGITIS, GASTROENT & MISC DIGEST DISORDERS W/O MCC             | 182443                                                                   | 0.02454412                                                               |\n",
       "| 690 - KIDNEY & URINARY TRACT INFECTIONS W/O MCC                          | 150680                                                                   | 0.02027103                                                               |\n",
       "| 872 - SEPTICEMIA OR SEVERE SEPSIS W/O MV >96 HOURS W/O MCC               | 150151                                                                   | 0.02019986                                                               |\n",
       "| 194 - SIMPLE PNEUMONIA & PLEURISY W CC                                   | 148886                                                                   | 0.02002968                                                               |\n",
       "| 683 - RENAL FAILURE W CC                                                 | 147311                                                                   | 0.01981780                                                               |\n",
       "| 193 - SIMPLE PNEUMONIA & PLEURISY W MCC                                  | 144595                                                                   | 0.01945241                                                               |\n",
       "\n"
      ],
      "text/plain": [
       "   DRG.Definition                                                          \n",
       "1  871 - SEPTICEMIA OR SEVERE SEPSIS W/O MV 96+ HOURS W MCC                \n",
       "2  470 - MAJOR JOINT REPLACEMENT OR REATTACHMENT OF LOWER EXTREMITY W/O MCC\n",
       "3  291 - HEART FAILURE & SHOCK W MCC                                       \n",
       "4  292 - HEART FAILURE & SHOCK W CC                                        \n",
       "5  392 - ESOPHAGITIS, GASTROENT & MISC DIGEST DISORDERS W/O MCC            \n",
       "6  690 - KIDNEY & URINARY TRACT INFECTIONS W/O MCC                         \n",
       "7  872 - SEPTICEMIA OR SEVERE SEPSIS W/O MV >96 HOURS W/O MCC              \n",
       "8  194 - SIMPLE PNEUMONIA & PLEURISY W CC                                  \n",
       "9  683 - RENAL FAILURE W CC                                                \n",
       "10 193 - SIMPLE PNEUMONIA & PLEURISY W MCC                                 \n",
       "   total.discharges percent   \n",
       "1  521358           0.07013846\n",
       "2  463930           0.06241266\n",
       "3  221654           0.02981919\n",
       "4  192975           0.02596099\n",
       "5  182443           0.02454412\n",
       "6  150680           0.02027103\n",
       "7  150151           0.02019986\n",
       "8  148886           0.02002968\n",
       "9  147311           0.01981780\n",
       "10 144595           0.01945241"
      ]
     },
     "metadata": {},
     "output_type": "display_data"
    },
    {
     "data": {
      "text/html": [
       "<table>\n",
       "<thead><tr><th scope=col>DRG.Definition</th><th scope=col>total.discharges</th><th scope=col>percent</th></tr></thead>\n",
       "<tbody>\n",
       "\t<tr><td><span style=white-space:pre-wrap>871 - SEPTICEMIA OR SEVERE SEPSIS W/O MV &gt;96 HOURS W MCC                </span></td><td>530050.4                                                                                                           </td><td>0.07332161                                                                                                         </td></tr>\n",
       "\t<tr><td>470 - MAJOR JOINT REPLACEMENT OR REATTACHMENT OF LOWER EXTREMITY W/O MCC</td><td>462864.6                                                                </td><td>0.06402783                                                              </td></tr>\n",
       "\t<tr><td><span style=white-space:pre-wrap>291 - HEART FAILURE &amp; SHOCK W MCC                                       </span></td><td>233015.0                                                                                                            </td><td>0.03223285                                                                                                          </td></tr>\n",
       "\t<tr><td><span style=white-space:pre-wrap>292 - HEART FAILURE &amp; SHOCK W CC                                        </span></td><td>181587.0                                                                                                            </td><td>0.02511884                                                                                                          </td></tr>\n",
       "\t<tr><td><span style=white-space:pre-wrap>392 - ESOPHAGITIS, GASTROENT &amp; MISC DIGEST DISORDERS W/O MCC            </span></td><td>165909.1                                                                                                            </td><td>0.02295013                                                                                                          </td></tr>\n",
       "\t<tr><td><span style=white-space:pre-wrap>872 - SEPTICEMIA OR SEVERE SEPSIS W/O MV &gt;96 HOURS W/O MCC              </span></td><td>151092.0                                                                                                           </td><td>0.02090048                                                                                                         </td></tr>\n",
       "\t<tr><td><span style=white-space:pre-wrap>690 - KIDNEY &amp; URINARY TRACT INFECTIONS W/O MCC                         </span></td><td>144212.0                                                                                                            </td><td>0.01994877                                                                                                          </td></tr>\n",
       "\t<tr><td><span style=white-space:pre-wrap>189 - PULMONARY EDEMA &amp; RESPIRATORY FAILURE                             </span></td><td>142982.0                                                                                                            </td><td>0.01977863                                                                                                          </td></tr>\n",
       "\t<tr><td>683 - RENAL FAILURE W CC                                                </td><td>141759.0                                                                </td><td>0.01960945                                                              </td></tr>\n",
       "\t<tr><td><span style=white-space:pre-wrap>193 - SIMPLE PNEUMONIA &amp; PLEURISY W MCC                                 </span></td><td>137674.0                                                                                                            </td><td>0.01904438                                                                                                          </td></tr>\n",
       "</tbody>\n",
       "</table>\n"
      ],
      "text/latex": [
       "\\begin{tabular}{r|lll}\n",
       " DRG.Definition & total.discharges & percent\\\\\n",
       "\\hline\n",
       "\t 871 - SEPTICEMIA OR SEVERE SEPSIS W/O MV >96 HOURS W MCC                 & 530050.4                                                                 & 0.07332161                                                              \\\\\n",
       "\t 470 - MAJOR JOINT REPLACEMENT OR REATTACHMENT OF LOWER EXTREMITY W/O MCC & 462864.6                                                                 & 0.06402783                                                              \\\\\n",
       "\t 291 - HEART FAILURE \\& SHOCK W MCC                                        & 233015.0                                                                   & 0.03223285                                                                \\\\\n",
       "\t 292 - HEART FAILURE \\& SHOCK W CC                                         & 181587.0                                                                   & 0.02511884                                                                \\\\\n",
       "\t 392 - ESOPHAGITIS, GASTROENT \\& MISC DIGEST DISORDERS W/O MCC             & 165909.1                                                                   & 0.02295013                                                                \\\\\n",
       "\t 872 - SEPTICEMIA OR SEVERE SEPSIS W/O MV >96 HOURS W/O MCC               & 151092.0                                                                 & 0.02090048                                                              \\\\\n",
       "\t 690 - KIDNEY \\& URINARY TRACT INFECTIONS W/O MCC                          & 144212.0                                                                   & 0.01994877                                                                \\\\\n",
       "\t 189 - PULMONARY EDEMA \\& RESPIRATORY FAILURE                              & 142982.0                                                                   & 0.01977863                                                                \\\\\n",
       "\t 683 - RENAL FAILURE W CC                                                 & 141759.0                                                                 & 0.01960945                                                              \\\\\n",
       "\t 193 - SIMPLE PNEUMONIA \\& PLEURISY W MCC                                  & 137674.0                                                                   & 0.01904438                                                                \\\\\n",
       "\\end{tabular}\n"
      ],
      "text/markdown": [
       "\n",
       "| DRG.Definition | total.discharges | percent |\n",
       "|---|---|---|\n",
       "| 871 - SEPTICEMIA OR SEVERE SEPSIS W/O MV >96 HOURS W MCC                 | 530050.4                                                                 | 0.07332161                                                               |\n",
       "| 470 - MAJOR JOINT REPLACEMENT OR REATTACHMENT OF LOWER EXTREMITY W/O MCC | 462864.6                                                                 | 0.06402783                                                               |\n",
       "| 291 - HEART FAILURE & SHOCK W MCC                                        | 233015.0                                                                 | 0.03223285                                                               |\n",
       "| 292 - HEART FAILURE & SHOCK W CC                                         | 181587.0                                                                 | 0.02511884                                                               |\n",
       "| 392 - ESOPHAGITIS, GASTROENT & MISC DIGEST DISORDERS W/O MCC             | 165909.1                                                                 | 0.02295013                                                               |\n",
       "| 872 - SEPTICEMIA OR SEVERE SEPSIS W/O MV >96 HOURS W/O MCC               | 151092.0                                                                 | 0.02090048                                                               |\n",
       "| 690 - KIDNEY & URINARY TRACT INFECTIONS W/O MCC                          | 144212.0                                                                 | 0.01994877                                                               |\n",
       "| 189 - PULMONARY EDEMA & RESPIRATORY FAILURE                              | 142982.0                                                                 | 0.01977863                                                               |\n",
       "| 683 - RENAL FAILURE W CC                                                 | 141759.0                                                                 | 0.01960945                                                               |\n",
       "| 193 - SIMPLE PNEUMONIA & PLEURISY W MCC                                  | 137674.0                                                                 | 0.01904438                                                               |\n",
       "\n"
      ],
      "text/plain": [
       "   DRG.Definition                                                          \n",
       "1  871 - SEPTICEMIA OR SEVERE SEPSIS W/O MV >96 HOURS W MCC                \n",
       "2  470 - MAJOR JOINT REPLACEMENT OR REATTACHMENT OF LOWER EXTREMITY W/O MCC\n",
       "3  291 - HEART FAILURE & SHOCK W MCC                                       \n",
       "4  292 - HEART FAILURE & SHOCK W CC                                        \n",
       "5  392 - ESOPHAGITIS, GASTROENT & MISC DIGEST DISORDERS W/O MCC            \n",
       "6  872 - SEPTICEMIA OR SEVERE SEPSIS W/O MV >96 HOURS W/O MCC              \n",
       "7  690 - KIDNEY & URINARY TRACT INFECTIONS W/O MCC                         \n",
       "8  189 - PULMONARY EDEMA & RESPIRATORY FAILURE                             \n",
       "9  683 - RENAL FAILURE W CC                                                \n",
       "10 193 - SIMPLE PNEUMONIA & PLEURISY W MCC                                 \n",
       "   total.discharges percent   \n",
       "1  530050.4         0.07332161\n",
       "2  462864.6         0.06402783\n",
       "3  233015.0         0.03223285\n",
       "4  181587.0         0.02511884\n",
       "5  165909.1         0.02295013\n",
       "6  151092.0         0.02090048\n",
       "7  144212.0         0.01994877\n",
       "8  142982.0         0.01977863\n",
       "9  141759.0         0.01960945\n",
       "10 137674.0         0.01904438"
      ]
     },
     "metadata": {},
     "output_type": "display_data"
    },
    {
     "data": {
      "text/html": [
       "<table>\n",
       "<thead><tr><th scope=col>DRG.Definition</th><th scope=col>total.discharges</th><th scope=col>percent</th></tr></thead>\n",
       "<tbody>\n",
       "\t<tr><td><span style=white-space:pre-wrap>871 - SEPTICEMIA OR SEVERE SEPSIS W/O MV &gt;96 HOURS W MCC                </span></td><td>597736                                                                                                             </td><td>0.08096455                                                                                                         </td></tr>\n",
       "\t<tr><td>470 - MAJOR JOINT REPLACEMENT OR REATTACHMENT OF LOWER EXTREMITY W/O MCC</td><td>510632                                                                  </td><td>0.06916614                                                              </td></tr>\n",
       "\t<tr><td><span style=white-space:pre-wrap>291 - HEART FAILURE &amp; SHOCK W MCC                                       </span></td><td>359442                                                                                                              </td><td>0.04868714                                                                                                          </td></tr>\n",
       "\t<tr><td>190 - CHRONIC OBSTRUCTIVE PULMONARY DISEASE W MCC                       </td><td>215525                                                                  </td><td>0.02919330                                                              </td></tr>\n",
       "\t<tr><td><span style=white-space:pre-wrap>189 - PULMONARY EDEMA &amp; RESPIRATORY FAILURE                             </span></td><td>165613                                                                                                              </td><td>0.02243262                                                                                                          </td></tr>\n",
       "\t<tr><td><span style=white-space:pre-wrap>872 - SEPTICEMIA OR SEVERE SEPSIS W/O MV &gt;96 HOURS W/O MCC              </span></td><td>157851                                                                                                             </td><td>0.02138124                                                                                                         </td></tr>\n",
       "\t<tr><td><span style=white-space:pre-wrap>392 - ESOPHAGITIS, GASTROENT &amp; MISC DIGEST DISORDERS W/O MCC            </span></td><td>155843                                                                                                              </td><td>0.02110925                                                                                                          </td></tr>\n",
       "\t<tr><td><span style=white-space:pre-wrap>690 - KIDNEY &amp; URINARY TRACT INFECTIONS W/O MCC                         </span></td><td>138497                                                                                                              </td><td>0.01875970                                                                                                          </td></tr>\n",
       "\t<tr><td>683 - RENAL FAILURE W CC                                                </td><td>134011                                                                  </td><td>0.01815206                                                              </td></tr>\n",
       "\t<tr><td>378 - G.I. HEMORRHAGE W CC                                              </td><td>131163                                                                  </td><td>0.01776629                                                              </td></tr>\n",
       "</tbody>\n",
       "</table>\n"
      ],
      "text/latex": [
       "\\begin{tabular}{r|lll}\n",
       " DRG.Definition & total.discharges & percent\\\\\n",
       "\\hline\n",
       "\t 871 - SEPTICEMIA OR SEVERE SEPSIS W/O MV >96 HOURS W MCC                 & 597736                                                                   & 0.08096455                                                              \\\\\n",
       "\t 470 - MAJOR JOINT REPLACEMENT OR REATTACHMENT OF LOWER EXTREMITY W/O MCC & 510632                                                                   & 0.06916614                                                              \\\\\n",
       "\t 291 - HEART FAILURE \\& SHOCK W MCC                                        & 359442                                                                     & 0.04868714                                                                \\\\\n",
       "\t 190 - CHRONIC OBSTRUCTIVE PULMONARY DISEASE W MCC                        & 215525                                                                   & 0.02919330                                                              \\\\\n",
       "\t 189 - PULMONARY EDEMA \\& RESPIRATORY FAILURE                              & 165613                                                                     & 0.02243262                                                                \\\\\n",
       "\t 872 - SEPTICEMIA OR SEVERE SEPSIS W/O MV >96 HOURS W/O MCC               & 157851                                                                   & 0.02138124                                                              \\\\\n",
       "\t 392 - ESOPHAGITIS, GASTROENT \\& MISC DIGEST DISORDERS W/O MCC             & 155843                                                                     & 0.02110925                                                                \\\\\n",
       "\t 690 - KIDNEY \\& URINARY TRACT INFECTIONS W/O MCC                          & 138497                                                                     & 0.01875970                                                                \\\\\n",
       "\t 683 - RENAL FAILURE W CC                                                 & 134011                                                                   & 0.01815206                                                              \\\\\n",
       "\t 378 - G.I. HEMORRHAGE W CC                                               & 131163                                                                   & 0.01776629                                                              \\\\\n",
       "\\end{tabular}\n"
      ],
      "text/markdown": [
       "\n",
       "| DRG.Definition | total.discharges | percent |\n",
       "|---|---|---|\n",
       "| 871 - SEPTICEMIA OR SEVERE SEPSIS W/O MV >96 HOURS W MCC                 | 597736                                                                   | 0.08096455                                                               |\n",
       "| 470 - MAJOR JOINT REPLACEMENT OR REATTACHMENT OF LOWER EXTREMITY W/O MCC | 510632                                                                   | 0.06916614                                                               |\n",
       "| 291 - HEART FAILURE & SHOCK W MCC                                        | 359442                                                                   | 0.04868714                                                               |\n",
       "| 190 - CHRONIC OBSTRUCTIVE PULMONARY DISEASE W MCC                        | 215525                                                                   | 0.02919330                                                               |\n",
       "| 189 - PULMONARY EDEMA & RESPIRATORY FAILURE                              | 165613                                                                   | 0.02243262                                                               |\n",
       "| 872 - SEPTICEMIA OR SEVERE SEPSIS W/O MV >96 HOURS W/O MCC               | 157851                                                                   | 0.02138124                                                               |\n",
       "| 392 - ESOPHAGITIS, GASTROENT & MISC DIGEST DISORDERS W/O MCC             | 155843                                                                   | 0.02110925                                                               |\n",
       "| 690 - KIDNEY & URINARY TRACT INFECTIONS W/O MCC                          | 138497                                                                   | 0.01875970                                                               |\n",
       "| 683 - RENAL FAILURE W CC                                                 | 134011                                                                   | 0.01815206                                                               |\n",
       "| 378 - G.I. HEMORRHAGE W CC                                               | 131163                                                                   | 0.01776629                                                               |\n",
       "\n"
      ],
      "text/plain": [
       "   DRG.Definition                                                          \n",
       "1  871 - SEPTICEMIA OR SEVERE SEPSIS W/O MV >96 HOURS W MCC                \n",
       "2  470 - MAJOR JOINT REPLACEMENT OR REATTACHMENT OF LOWER EXTREMITY W/O MCC\n",
       "3  291 - HEART FAILURE & SHOCK W MCC                                       \n",
       "4  190 - CHRONIC OBSTRUCTIVE PULMONARY DISEASE W MCC                       \n",
       "5  189 - PULMONARY EDEMA & RESPIRATORY FAILURE                             \n",
       "6  872 - SEPTICEMIA OR SEVERE SEPSIS W/O MV >96 HOURS W/O MCC              \n",
       "7  392 - ESOPHAGITIS, GASTROENT & MISC DIGEST DISORDERS W/O MCC            \n",
       "8  690 - KIDNEY & URINARY TRACT INFECTIONS W/O MCC                         \n",
       "9  683 - RENAL FAILURE W CC                                                \n",
       "10 378 - G.I. HEMORRHAGE W CC                                              \n",
       "   total.discharges percent   \n",
       "1  597736           0.08096455\n",
       "2  510632           0.06916614\n",
       "3  359442           0.04868714\n",
       "4  215525           0.02919330\n",
       "5  165613           0.02243262\n",
       "6  157851           0.02138124\n",
       "7  155843           0.02110925\n",
       "8  138497           0.01875970\n",
       "9  134011           0.01815206\n",
       "10 131163           0.01776629"
      ]
     },
     "metadata": {},
     "output_type": "display_data"
    }
   ],
   "source": [
    "top10totaldischarges15 <- payment %>% filter(Year == 2015) %>% select(DRG.Definition, Total.Discharges) %>%\n",
    "group_by(DRG.Definition) %>% \n",
    "summarise(total.discharges = sum(Total.Discharges)) %>%\n",
    "mutate(percent = total.discharges/sum(total.discharges))%>%\n",
    "arrange(desc(total.discharges))\n",
    "head(top10totaldischarges15, 10)\n",
    "\n",
    "top10totaldischarges16 <- payment %>% filter(Year == 2016) %>% select(DRG.Definition, Total.Discharges) %>%\n",
    "group_by(DRG.Definition) %>% \n",
    "summarise(total.discharges = sum(Total.Discharges)) %>%\n",
    "mutate(percent = total.discharges/sum(total.discharges))%>%\n",
    "arrange(desc(total.discharges))\n",
    "head(top10totaldischarges16, 10)\n",
    "\n",
    "top10totaldischarges17 <- payment %>% filter(Year == 2017) %>% select(DRG.Definition, Total.Discharges) %>%\n",
    "group_by(DRG.Definition) %>% \n",
    "summarise(total.discharges = sum(Total.Discharges)) %>%\n",
    "mutate(percent = total.discharges/sum(total.discharges))%>%\n",
    "arrange(desc(total.discharges))\n",
    "head(top10totaldischarges17, 10)"
   ]
  },
  {
   "cell_type": "markdown",
   "metadata": {},
   "source": [
    "Most common hospital discharges\n",
    "Ten most common inpatient diagnoses\n",
    "Most expensive inpatient diagnoses\n",
    "\n",
    " Variation of hospital charges for heart implant or implant of heart assist system surgery"
   ]
  }
 ],
 "metadata": {
  "kernelspec": {
   "display_name": "R",
   "language": "R",
   "name": "ir"
  },
  "language_info": {
   "codemirror_mode": "r",
   "file_extension": ".r",
   "mimetype": "text/x-r-source",
   "name": "R",
   "pygments_lexer": "r",
   "version": "3.6.1"
  }
 },
 "nbformat": 4,
 "nbformat_minor": 2
}
