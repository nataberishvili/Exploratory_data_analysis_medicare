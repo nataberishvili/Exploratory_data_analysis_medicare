{
 "cells": [
  {
   "cell_type": "markdown",
   "metadata": {},
   "source": [
    "The data is obtained from the Centers of Medicare and Medicaid Services https://www.cms.gov/Research-Statistics-Data-and-Systems/Statistics-Trends-and-Reports/Medicare-Provider-Charge-Data/Inpatient to add the time component to the analysis I combined 3 datasets from 2015, 2016, and 2017 years. Some of the questions I want to answer:\n",
    "- What are the total charges, Medicare payments and total payments in the USA and each state (2015, 2016, 2017)\n",
    "- Which Diagnostic Related Groups cost Medicare the most?\n",
    "- What are the most commong hospital discharges? \n",
    "- What is the trend in last 3 years?\n",
    "- Which States and Hospitals charge the most? etc.\n",
    "\n",
    "Some of the variables:\n",
    "\n",
    "* DRG Definition - Medicare Severity Diagnosis Related Group\n",
    "* Total Discharges - The total discharges indicate the number of beneficiaries who were released from the inpatient hospital after receiving care.\n",
    "* Average Covered Charges -  refers to what the provider bills to Medicare (Hospitals determine what they will charge for items and services provided to patients and these charges are the amount the hospital bills for an item or service) \n",
    "* Average Total Payments - refers to what Medicare actually pays to the provider as well as co-payment and deductible amounts that the beneficiary is responsible for and payments by third parties for coordination of benefits\n",
    "* Average Medicare Payments - The average amount that Medicare pays to the provider for Medicare's share of the MS-DRG. (Medicare payments DO NOT include beneficiary co-payments and deductible amounts nor any additional payments from third parties for coordination of benefits)"
   ]
  },
  {
   "cell_type": "code",
   "execution_count": 2,
   "metadata": {},
   "outputs": [],
   "source": [
    "library(tidyverse)\n",
    "library(lubridate)"
   ]
  },
  {
   "cell_type": "code",
   "execution_count": 3,
   "metadata": {},
   "outputs": [],
   "source": [
    "data1 <- read.csv(\"2015.csv\", stringsAsFactors = FALSE, dec=\",\")\n",
    "data2 <- read.csv(\"2016.csv\", stringsAsFactors = FALSE, dec=\",\")\n",
    "data3 <- read.csv(\"2017.csv\", stringsAsFactors = FALSE, dec=\",\")"
   ]
  },
  {
   "cell_type": "code",
   "execution_count": 203,
   "metadata": {},
   "outputs": [
    {
     "data": {
      "text/html": [
       "<table>\n",
       "<thead><tr><th scope=col>DRG.Definition</th><th scope=col>Provider.Id</th><th scope=col>Provider.Name</th><th scope=col>Provider.Street.Address</th><th scope=col>Provider.City</th><th scope=col>...</th><th scope=col>Total.Discharges</th><th scope=col>Average.Covered.Charges</th><th scope=col>Average.Total.Payments</th><th scope=col>Average.Medicare.Payments</th><th scope=col>Year</th></tr></thead>\n",
       "<tbody>\n",
       "\t<tr><td>023 - CRANIOTOMY W MAJOR DEVICE IMPLANT OR ACUTE CNS PDX W MCC OR CHEMOTHE</td><td>10001                                                                     </td><td>SOUTHEAST ALABAMA MEDICAL CENTER                                          </td><td>1108 ROSS CLARK CIRCLE                                                    </td><td>DOTHAN                                                                    </td><td>...                                                                       </td><td>28                                                                        </td><td>117117.7857                                                               </td><td>25823.71429                                                               </td><td>24057.39286                                                               </td><td>2017                                                                      </td></tr>\n",
       "\t<tr><td><span style=white-space:pre-wrap>025 - CRANIOTOMY &amp; ENDOVASCULAR INTRACRANIAL PROCEDURES W MCC             </span></td><td>10001                                                                                                                 </td><td>SOUTHEAST ALABAMA MEDICAL CENTER                                                                                      </td><td>1108 ROSS CLARK CIRCLE                                                                                                </td><td>DOTHAN                                                                                                                </td><td>...                                                                                                                   </td><td>32                                                                                                                    </td><td>98357.5625                                                                                                            </td><td>20688.34375                                                                                                           </td><td>19791.40625                                                                                                           </td><td>2017                                                                                                                  </td></tr>\n",
       "\t<tr><td><span style=white-space:pre-wrap>027 - CRANIOTOMY &amp; ENDOVASCULAR INTRACRANIAL PROCEDURES W/O CC/MCC        </span></td><td>10001                                                                                                                 </td><td>SOUTHEAST ALABAMA MEDICAL CENTER                                                                                      </td><td>1108 ROSS CLARK CIRCLE                                                                                                </td><td>DOTHAN                                                                                                                </td><td>...                                                                                                                   </td><td>11                                                                                                                    </td><td>69153.54546                                                                                                           </td><td>11811.18182                                                                                                           </td><td>8194.363636                                                                                                           </td><td>2017                                                                                                                  </td></tr>\n",
       "\t<tr><td>037 - EXTRACRANIAL PROCEDURES W MCC                                       </td><td>10001                                                                     </td><td>SOUTHEAST ALABAMA MEDICAL CENTER                                          </td><td>1108 ROSS CLARK CIRCLE                                                    </td><td>DOTHAN                                                                    </td><td>...                                                                       </td><td>12                                                                        </td><td>100427.3333                                                               </td><td>19134                                                                     </td><td>18154                                                                     </td><td>2017                                                                      </td></tr>\n",
       "\t<tr><td>038 - EXTRACRANIAL PROCEDURES W CC                                        </td><td>10001                                                                     </td><td>SOUTHEAST ALABAMA MEDICAL CENTER                                          </td><td>1108 ROSS CLARK CIRCLE                                                    </td><td>DOTHAN                                                                    </td><td>...                                                                       </td><td>17                                                                        </td><td>58199.47059                                                               </td><td>8519.470588                                                               </td><td>6714.882353                                                               </td><td>2017                                                                      </td></tr>\n",
       "\t<tr><td>039 - EXTRACRANIAL PROCEDURES W/O CC/MCC                                  </td><td>10001                                                                     </td><td>SOUTHEAST ALABAMA MEDICAL CENTER                                          </td><td>1108 ROSS CLARK CIRCLE                                                    </td><td>DOTHAN                                                                    </td><td>...                                                                       </td><td>41                                                                        </td><td>41130.56098                                                               </td><td>5925.95122                                                                </td><td>4808                                                                      </td><td>2017                                                                      </td></tr>\n",
       "</tbody>\n",
       "</table>\n"
      ],
      "text/latex": [
       "\\begin{tabular}{r|lllllllllllll}\n",
       " DRG.Definition & Provider.Id & Provider.Name & Provider.Street.Address & Provider.City & ... & Total.Discharges & Average.Covered.Charges & Average.Total.Payments & Average.Medicare.Payments & Year\\\\\n",
       "\\hline\n",
       "\t 023 - CRANIOTOMY W MAJOR DEVICE IMPLANT OR ACUTE CNS PDX W MCC OR CHEMOTHE & 10001                                                                      & SOUTHEAST ALABAMA MEDICAL CENTER                                           & 1108 ROSS CLARK CIRCLE                                                     & DOTHAN                                                                     & ...                                                                        & 28                                                                         & 117117.7857                                                                & 25823.71429                                                                & 24057.39286                                                                & 2017                                                                      \\\\\n",
       "\t 025 - CRANIOTOMY \\& ENDOVASCULAR INTRACRANIAL PROCEDURES W MCC              & 10001                                                                        & SOUTHEAST ALABAMA MEDICAL CENTER                                             & 1108 ROSS CLARK CIRCLE                                                       & DOTHAN                                                                       & ...                                                                          & 32                                                                           & 98357.5625                                                                   & 20688.34375                                                                  & 19791.40625                                                                  & 2017                                                                        \\\\\n",
       "\t 027 - CRANIOTOMY \\& ENDOVASCULAR INTRACRANIAL PROCEDURES W/O CC/MCC         & 10001                                                                        & SOUTHEAST ALABAMA MEDICAL CENTER                                             & 1108 ROSS CLARK CIRCLE                                                       & DOTHAN                                                                       & ...                                                                          & 11                                                                           & 69153.54546                                                                  & 11811.18182                                                                  & 8194.363636                                                                  & 2017                                                                        \\\\\n",
       "\t 037 - EXTRACRANIAL PROCEDURES W MCC                                        & 10001                                                                      & SOUTHEAST ALABAMA MEDICAL CENTER                                           & 1108 ROSS CLARK CIRCLE                                                     & DOTHAN                                                                     & ...                                                                        & 12                                                                         & 100427.3333                                                                & 19134                                                                      & 18154                                                                      & 2017                                                                      \\\\\n",
       "\t 038 - EXTRACRANIAL PROCEDURES W CC                                         & 10001                                                                      & SOUTHEAST ALABAMA MEDICAL CENTER                                           & 1108 ROSS CLARK CIRCLE                                                     & DOTHAN                                                                     & ...                                                                        & 17                                                                         & 58199.47059                                                                & 8519.470588                                                                & 6714.882353                                                                & 2017                                                                      \\\\\n",
       "\t 039 - EXTRACRANIAL PROCEDURES W/O CC/MCC                                   & 10001                                                                      & SOUTHEAST ALABAMA MEDICAL CENTER                                           & 1108 ROSS CLARK CIRCLE                                                     & DOTHAN                                                                     & ...                                                                        & 41                                                                         & 41130.56098                                                                & 5925.95122                                                                 & 4808                                                                       & 2017                                                                      \\\\\n",
       "\\end{tabular}\n"
      ],
      "text/markdown": [
       "\n",
       "| DRG.Definition | Provider.Id | Provider.Name | Provider.Street.Address | Provider.City | ... | Total.Discharges | Average.Covered.Charges | Average.Total.Payments | Average.Medicare.Payments | Year |\n",
       "|---|---|---|---|---|---|---|---|---|---|---|\n",
       "| 023 - CRANIOTOMY W MAJOR DEVICE IMPLANT OR ACUTE CNS PDX W MCC OR CHEMOTHE | 10001                                                                      | SOUTHEAST ALABAMA MEDICAL CENTER                                           | 1108 ROSS CLARK CIRCLE                                                     | DOTHAN                                                                     | ...                                                                        | 28                                                                         | 117117.7857                                                                | 25823.71429                                                                | 24057.39286                                                                | 2017                                                                       |\n",
       "| 025 - CRANIOTOMY & ENDOVASCULAR INTRACRANIAL PROCEDURES W MCC              | 10001                                                                      | SOUTHEAST ALABAMA MEDICAL CENTER                                           | 1108 ROSS CLARK CIRCLE                                                     | DOTHAN                                                                     | ...                                                                        | 32                                                                         | 98357.5625                                                                 | 20688.34375                                                                | 19791.40625                                                                | 2017                                                                       |\n",
       "| 027 - CRANIOTOMY & ENDOVASCULAR INTRACRANIAL PROCEDURES W/O CC/MCC         | 10001                                                                      | SOUTHEAST ALABAMA MEDICAL CENTER                                           | 1108 ROSS CLARK CIRCLE                                                     | DOTHAN                                                                     | ...                                                                        | 11                                                                         | 69153.54546                                                                | 11811.18182                                                                | 8194.363636                                                                | 2017                                                                       |\n",
       "| 037 - EXTRACRANIAL PROCEDURES W MCC                                        | 10001                                                                      | SOUTHEAST ALABAMA MEDICAL CENTER                                           | 1108 ROSS CLARK CIRCLE                                                     | DOTHAN                                                                     | ...                                                                        | 12                                                                         | 100427.3333                                                                | 19134                                                                      | 18154                                                                      | 2017                                                                       |\n",
       "| 038 - EXTRACRANIAL PROCEDURES W CC                                         | 10001                                                                      | SOUTHEAST ALABAMA MEDICAL CENTER                                           | 1108 ROSS CLARK CIRCLE                                                     | DOTHAN                                                                     | ...                                                                        | 17                                                                         | 58199.47059                                                                | 8519.470588                                                                | 6714.882353                                                                | 2017                                                                       |\n",
       "| 039 - EXTRACRANIAL PROCEDURES W/O CC/MCC                                   | 10001                                                                      | SOUTHEAST ALABAMA MEDICAL CENTER                                           | 1108 ROSS CLARK CIRCLE                                                     | DOTHAN                                                                     | ...                                                                        | 41                                                                         | 41130.56098                                                                | 5925.95122                                                                 | 4808                                                                       | 2017                                                                       |\n",
       "\n"
      ],
      "text/plain": [
       "  DRG.Definition                                                            \n",
       "1 023 - CRANIOTOMY W MAJOR DEVICE IMPLANT OR ACUTE CNS PDX W MCC OR CHEMOTHE\n",
       "2 025 - CRANIOTOMY & ENDOVASCULAR INTRACRANIAL PROCEDURES W MCC             \n",
       "3 027 - CRANIOTOMY & ENDOVASCULAR INTRACRANIAL PROCEDURES W/O CC/MCC        \n",
       "4 037 - EXTRACRANIAL PROCEDURES W MCC                                       \n",
       "5 038 - EXTRACRANIAL PROCEDURES W CC                                        \n",
       "6 039 - EXTRACRANIAL PROCEDURES W/O CC/MCC                                  \n",
       "  Provider.Id Provider.Name                    Provider.Street.Address\n",
       "1 10001       SOUTHEAST ALABAMA MEDICAL CENTER 1108 ROSS CLARK CIRCLE \n",
       "2 10001       SOUTHEAST ALABAMA MEDICAL CENTER 1108 ROSS CLARK CIRCLE \n",
       "3 10001       SOUTHEAST ALABAMA MEDICAL CENTER 1108 ROSS CLARK CIRCLE \n",
       "4 10001       SOUTHEAST ALABAMA MEDICAL CENTER 1108 ROSS CLARK CIRCLE \n",
       "5 10001       SOUTHEAST ALABAMA MEDICAL CENTER 1108 ROSS CLARK CIRCLE \n",
       "6 10001       SOUTHEAST ALABAMA MEDICAL CENTER 1108 ROSS CLARK CIRCLE \n",
       "  Provider.City ... Total.Discharges Average.Covered.Charges\n",
       "1 DOTHAN        ... 28               117117.7857            \n",
       "2 DOTHAN        ... 32               98357.5625             \n",
       "3 DOTHAN        ... 11               69153.54546            \n",
       "4 DOTHAN        ... 12               100427.3333            \n",
       "5 DOTHAN        ... 17               58199.47059            \n",
       "6 DOTHAN        ... 41               41130.56098            \n",
       "  Average.Total.Payments Average.Medicare.Payments Year\n",
       "1 25823.71429            24057.39286               2017\n",
       "2 20688.34375            19791.40625               2017\n",
       "3 11811.18182            8194.363636               2017\n",
       "4 19134                  18154                     2017\n",
       "5 8519.470588            6714.882353               2017\n",
       "6 5925.95122             4808                      2017"
      ]
     },
     "metadata": {},
     "output_type": "display_data"
    }
   ],
   "source": [
    "head(data3)"
   ]
  },
  {
   "cell_type": "markdown",
   "metadata": {},
   "source": [
    "#####Adding Year variable to the datasets"
   ]
  },
  {
   "cell_type": "code",
   "execution_count": 204,
   "metadata": {},
   "outputs": [],
   "source": [
    "data1$Year <- 2015\n",
    "data2$Year <- 2016\n",
    "data3$Year <- 2017"
   ]
  },
  {
   "cell_type": "markdown",
   "metadata": {},
   "source": [
    "#####I will combine the datasets with rbind. rbind combines datasets by rows. (In order to combine the datasets, the number and the names of the columns must be the same in the datasets)"
   ]
  },
  {
   "cell_type": "code",
   "execution_count": 205,
   "metadata": {},
   "outputs": [
    {
     "data": {
      "text/html": [
       "<ol class=list-inline>\n",
       "\t<li>595484</li>\n",
       "\t<li>13</li>\n",
       "</ol>\n"
      ],
      "text/latex": [
       "\\begin{enumerate*}\n",
       "\\item 595484\n",
       "\\item 13\n",
       "\\end{enumerate*}\n"
      ],
      "text/markdown": [
       "1. 595484\n",
       "2. 13\n",
       "\n",
       "\n"
      ],
      "text/plain": [
       "[1] 595484     13"
      ]
     },
     "metadata": {},
     "output_type": "display_data"
    }
   ],
   "source": [
    "payment <- rbind(data1, data2, data3)\n",
    "dim(payment)"
   ]
  },
  {
   "cell_type": "markdown",
   "metadata": {},
   "source": [
    "#####Covered charges, medicare payments and total payments contain both $ dollar signs and commas, in order to do data manipulation/aggregation I will convert those variables into numeric values and remove  dollar signs and commas."
   ]
  },
  {
   "cell_type": "code",
   "execution_count": 206,
   "metadata": {},
   "outputs": [],
   "source": [
    "payment$Average.Covered.Charges <- as.numeric(gsub(\"[\\\\$,]\",\"\", payment$Average.Covered.Charges))\n",
    "payment$Average.Medicare.Payments <- as.numeric(gsub(\"[\\\\$,]\",\"\", payment$Average.Medicare.Payments))\n",
    "payment$Average.Total.Payments <- as.numeric(gsub(\"[\\\\$,]\",\"\", payment$Average.Total.Payments))"
   ]
  },
  {
   "cell_type": "markdown",
   "metadata": {},
   "source": [
    "#####Check for NA values"
   ]
  },
  {
   "cell_type": "code",
   "execution_count": 207,
   "metadata": {},
   "outputs": [
    {
     "data": {
      "text/html": [
       "0"
      ],
      "text/latex": [
       "0"
      ],
      "text/markdown": [
       "0"
      ],
      "text/plain": [
       "[1] 0"
      ]
     },
     "metadata": {},
     "output_type": "display_data"
    }
   ],
   "source": [
    "sum(is.na(payment))"
   ]
  },
  {
   "cell_type": "code",
   "execution_count": 208,
   "metadata": {},
   "outputs": [
    {
     "data": {
      "text/plain": [
       "\n",
       "\n",
       "|Provider.State | total_charges| total_paid| ratio_paid_charged| country_medicare_charges| charges_proportion|\n",
       "|:--------------|-------------:|----------:|------------------:|------------------------:|------------------:|\n",
       "|CA             |   54238882335| 8130260062|          0.1498973|             422690500183|          0.1283182|\n",
       "|FL             |   40512981303| 5361111801|          0.1323307|             422690500183|          0.0958455|\n",
       "|TX             |   33869714703| 4981748301|          0.1470856|             422690500183|          0.0801289|\n",
       "|NY             |   27648180203| 6201262986|          0.2242919|             422690500183|          0.0654100|\n",
       "|PA             |   21342203052| 3384679967|          0.1585909|             422690500183|          0.0504913|\n",
       "|NJ             |   20787093641| 2897560398|          0.1393923|             422690500183|          0.0491780|\n",
       "|IL             |   16964249266| 3320097855|          0.1957115|             422690500183|          0.0401340|\n",
       "|OH             |   13474219554| 2872030687|          0.2131501|             422690500183|          0.0318773|\n",
       "|NC             |   11231226395| 2724293456|          0.2425642|             422690500183|          0.0265708|\n",
       "|VA             |   11055572324| 2197226825|          0.1987438|             422690500183|          0.0261552|\n",
       "|MI             |   10713233059| 3168772293|          0.2957811|             422690500183|          0.0253453|\n",
       "|GA             |   10198122374| 2011006046|          0.1971938|             422690500183|          0.0241267|\n",
       "|TN             |    9813610985| 1867370793|          0.1902838|             422690500183|          0.0232170|\n",
       "|IN             |    8810255675| 1781842175|          0.2022464|             422690500183|          0.0208433|\n",
       "|MO             |    8491383336| 1812173956|          0.2134133|             422690500183|          0.0200889|"
      ]
     },
     "metadata": {},
     "output_type": "display_data"
    }
   ],
   "source": [
    "df_top17 <- payment %>% filter(Year == 2017) %>% mutate(total_c = Average.Covered.Charges*Total.Discharges,\n",
    "                        total_p = Average.Medicare.Payments*Total.Discharges) %>% \n",
    "  group_by(Provider.State) %>%\n",
    "  summarise(total_charges=sum(total_c), total_paid = sum(total_p),\n",
    "            ratio_paid_charged = sum(total_p)/sum(total_c)) \n",
    "df_top17 <- df_top17 %>% top_n(15, wt = total_charges) %>%  mutate(country_medicare_charges = sum(df_top17$total_charges), charges_proportion = total_charges/country_medicare_charges) %>%\n",
    "  arrange(desc(total_charges))\n",
    "knitr::kable(df_top17)"
   ]
  },
  {
   "cell_type": "markdown",
   "metadata": {},
   "source": [
    "#####( USA ) Total Covered Charges, Medicared Payments and Total Payments in 2015, 2016 and 2017."
   ]
  },
  {
   "cell_type": "code",
   "execution_count": 224,
   "metadata": {},
   "outputs": [
    {
     "data": {
      "text/plain": [
       "\n",
       "\n",
       "| Year| total_charges|  total_paid| total_medicare| total_discharges|\n",
       "|----:|-------------:|-----------:|--------------:|----------------:|\n",
       "| 2015|  379483326433| 92819287590|    78179954887|          7433268|\n",
       "| 2016|  394925854654| 94095505341|    79406055620|          7229116|\n",
       "| 2017|  422690500183| 97831407052|    82167894430|          7382688|"
      ]
     },
     "metadata": {},
     "output_type": "display_data"
    }
   ],
   "source": [
    "us.total <- payment %>%  mutate(total_c = Average.Covered.Charges*Total.Discharges,\n",
    "                                                          total_m = Average.Medicare.Payments*Total.Discharges,\n",
    "                                                            total_p = Average.Total.Payments*Total.Discharges) %>%\n",
    "group_by(Year)%>%\n",
    "summarise(total_charges=sum(total_c), total_paid = sum(total_p), total_medicare = sum(total_m), total_discharges = sum(Total.Discharges))\n",
    "knitr::kable(us.total)"
   ]
  },
  {
   "cell_type": "markdown",
   "metadata": {},
   "source": [
    "#####( Top 10 US States ) Total Covered Charges, Medicared Payments and Total Payments with proportions in 2017."
   ]
  },
  {
   "cell_type": "code",
   "execution_count": 225,
   "metadata": {},
   "outputs": [
    {
     "data": {
      "text/html": [
       "<table>\n",
       "<thead><tr><th scope=col>Provider.State</th><th scope=col>total_charges</th><th scope=col>total_paid</th><th scope=col>total_medicare</th><th scope=col>charges_proportion</th><th scope=col>paid_proportion</th><th scope=col>medicare_proportion</th></tr></thead>\n",
       "<tbody>\n",
       "\t<tr><td>CA         </td><td>54238882335</td><td>280247151  </td><td>8130260062 </td><td>0.128      </td><td>0.102      </td><td>0.099      </td></tr>\n",
       "\t<tr><td>FL         </td><td>40512981303</td><td>176459678  </td><td>5361111801 </td><td>0.096      </td><td>0.064      </td><td>0.065      </td></tr>\n",
       "\t<tr><td>TX         </td><td>33869714703</td><td>177373756  </td><td>4981748301 </td><td>0.080      </td><td>0.065      </td><td>0.061      </td></tr>\n",
       "\t<tr><td>NY         </td><td>27648180203</td><td>190110150  </td><td>6201262986 </td><td>0.065      </td><td>0.069      </td><td>0.075      </td></tr>\n",
       "\t<tr><td>PA         </td><td>21342203052</td><td>127327429  </td><td>3384679967 </td><td>0.050      </td><td>0.046      </td><td>0.041      </td></tr>\n",
       "\t<tr><td>NJ         </td><td>20787093641</td><td> 93552550  </td><td>2897560398 </td><td>0.049      </td><td>0.034      </td><td>0.035      </td></tr>\n",
       "\t<tr><td>IL         </td><td>16964249266</td><td>118485915  </td><td>3320097855 </td><td>0.040      </td><td>0.043      </td><td>0.040      </td></tr>\n",
       "\t<tr><td>OH         </td><td>13474219554</td><td>100758789  </td><td>2872030687 </td><td>0.032      </td><td>0.037      </td><td>0.035      </td></tr>\n",
       "\t<tr><td>NC         </td><td>11231226395</td><td> 84285551  </td><td>2724293456 </td><td>0.027      </td><td>0.031      </td><td>0.033      </td></tr>\n",
       "\t<tr><td>VA         </td><td>11055572324</td><td> 73563037  </td><td>2197226825 </td><td>0.026      </td><td>0.027      </td><td>0.027      </td></tr>\n",
       "</tbody>\n",
       "</table>\n"
      ],
      "text/latex": [
       "\\begin{tabular}{r|lllllll}\n",
       " Provider.State & total\\_charges & total\\_paid & total\\_medicare & charges\\_proportion & paid\\_proportion & medicare\\_proportion\\\\\n",
       "\\hline\n",
       "\t CA          & 54238882335 & 280247151   & 8130260062  & 0.128       & 0.102       & 0.099      \\\\\n",
       "\t FL          & 40512981303 & 176459678   & 5361111801  & 0.096       & 0.064       & 0.065      \\\\\n",
       "\t TX          & 33869714703 & 177373756   & 4981748301  & 0.080       & 0.065       & 0.061      \\\\\n",
       "\t NY          & 27648180203 & 190110150   & 6201262986  & 0.065       & 0.069       & 0.075      \\\\\n",
       "\t PA          & 21342203052 & 127327429   & 3384679967  & 0.050       & 0.046       & 0.041      \\\\\n",
       "\t NJ          & 20787093641 &  93552550   & 2897560398  & 0.049       & 0.034       & 0.035      \\\\\n",
       "\t IL          & 16964249266 & 118485915   & 3320097855  & 0.040       & 0.043       & 0.040      \\\\\n",
       "\t OH          & 13474219554 & 100758789   & 2872030687  & 0.032       & 0.037       & 0.035      \\\\\n",
       "\t NC          & 11231226395 &  84285551   & 2724293456  & 0.027       & 0.031       & 0.033      \\\\\n",
       "\t VA          & 11055572324 &  73563037   & 2197226825  & 0.026       & 0.027       & 0.027      \\\\\n",
       "\\end{tabular}\n"
      ],
      "text/markdown": [
       "\n",
       "| Provider.State | total_charges | total_paid | total_medicare | charges_proportion | paid_proportion | medicare_proportion |\n",
       "|---|---|---|---|---|---|---|\n",
       "| CA          | 54238882335 | 280247151   | 8130260062  | 0.128       | 0.102       | 0.099       |\n",
       "| FL          | 40512981303 | 176459678   | 5361111801  | 0.096       | 0.064       | 0.065       |\n",
       "| TX          | 33869714703 | 177373756   | 4981748301  | 0.080       | 0.065       | 0.061       |\n",
       "| NY          | 27648180203 | 190110150   | 6201262986  | 0.065       | 0.069       | 0.075       |\n",
       "| PA          | 21342203052 | 127327429   | 3384679967  | 0.050       | 0.046       | 0.041       |\n",
       "| NJ          | 20787093641 |  93552550   | 2897560398  | 0.049       | 0.034       | 0.035       |\n",
       "| IL          | 16964249266 | 118485915   | 3320097855  | 0.040       | 0.043       | 0.040       |\n",
       "| OH          | 13474219554 | 100758789   | 2872030687  | 0.032       | 0.037       | 0.035       |\n",
       "| NC          | 11231226395 |  84285551   | 2724293456  | 0.027       | 0.031       | 0.033       |\n",
       "| VA          | 11055572324 |  73563037   | 2197226825  | 0.026       | 0.027       | 0.027       |\n",
       "\n"
      ],
      "text/plain": [
       "   Provider.State total_charges total_paid total_medicare charges_proportion\n",
       "1  CA             54238882335   280247151  8130260062     0.128             \n",
       "2  FL             40512981303   176459678  5361111801     0.096             \n",
       "3  TX             33869714703   177373756  4981748301     0.080             \n",
       "4  NY             27648180203   190110150  6201262986     0.065             \n",
       "5  PA             21342203052   127327429  3384679967     0.050             \n",
       "6  NJ             20787093641    93552550  2897560398     0.049             \n",
       "7  IL             16964249266   118485915  3320097855     0.040             \n",
       "8  OH             13474219554   100758789  2872030687     0.032             \n",
       "9  NC             11231226395    84285551  2724293456     0.027             \n",
       "10 VA             11055572324    73563037  2197226825     0.026             \n",
       "   paid_proportion medicare_proportion\n",
       "1  0.102           0.099              \n",
       "2  0.064           0.065              \n",
       "3  0.065           0.061              \n",
       "4  0.069           0.075              \n",
       "5  0.046           0.041              \n",
       "6  0.034           0.035              \n",
       "7  0.043           0.040              \n",
       "8  0.037           0.035              \n",
       "9  0.031           0.033              \n",
       "10 0.027           0.027              "
      ]
     },
     "metadata": {},
     "output_type": "display_data"
    }
   ],
   "source": [
    "df_top17 <- payment %>% filter(Year == 2017) %>% mutate(total_c = Average.Covered.Charges*Total.Discharges,\n",
    "                        total_m = Average.Medicare.Payments*Total.Discharges,\n",
    "                        total_p = Average.Total.Payments) %>% \n",
    "  group_by(Provider.State) %>%\n",
    "  summarise(total_charges=sum(total_c), total_paid = sum(total_p), total_medicare = sum(total_m))\n",
    "\n",
    "df_top17 <- df_top17  %>% top_n(10, wt = total_charges) %>% mutate(us_total_charges = sum(df_top17$total_charges),\n",
    "                                                                  charges_proportion = round(total_charges/us_total_charges,3),\n",
    "                                                                  us_total_paid = sum(df_top17$total_paid),\n",
    "                                                                  paid_proportion = round(total_paid / us_total_paid,3),\n",
    "                                                                  us_medicare_charges = sum(df_top17$total_medicare),\n",
    "                                                                  medicare_proportion = round(total_medicare / us_medicare_charges,3),\n",
    "                                                                  ) %>%\n",
    "select(-us_total_charges, -us_medicare_charges, -us_total_paid)%>% \n",
    "arrange(desc(total_charges))\n",
    "head(df_top17, 10)"
   ]
  },
  {
   "cell_type": "code",
   "execution_count": 232,
   "metadata": {},
   "outputs": [],
   "source": [
    "options(repr.plot.width=4, repr.plot.height=4)"
   ]
  },
  {
   "cell_type": "code",
   "execution_count": 234,
   "metadata": {},
   "outputs": [
    {
     "data": {
      "image/png": "[encoded data removed]",
      "text/plain": [
       "plot without title"
      ]
     },
     "metadata": {},
     "output_type": "display_data"
    }
   ],
   "source": [
    "nata <-  ggplot(df_top17, aes(x = reorder(Provider.State, charges_proportion), y=charges_proportion)) +\n",
    "  geom_bar(stat=\"identity\", position=\"identity\", fill=ifelse(df_top17$Provider.State == \"NY\", \"black\", \"lightgrey\")) +\n",
    "            geom_hline(yintercept = 0, size = 1, colour=\"#333333\") +\n",
    "  coord_flip() + theme_minimal() +\n",
    "  theme( axis.text.x = element_text(face=\"bold\", color='black', \n",
    "                           size=8),\n",
    "          axis.text.y = element_text(face=\"bold\", color='black', \n",
    "                           size=8, hjust = 0))+\n",
    "      xlab(\"\") + ylab(\"\")+ labs(title = \"   Top 10 Total Charges By State In 2017\", subtitle = \"      NY State has the forth largest total hospital charges 6.5% in USA\")+\n",
    "theme(plot.title = element_text(hjust = 0.1, color='black', size=12, face=\"bold.italic\"), plot.subtitle = element_text(hjust = 0.1, size=7, color = 'darkgrey', face = \"bold.italic\"))\n",
    "\n",
    "nata + geom_text(aes(Provider.State, charges_proportion + 0.005, label = format(round(charges_proportion, 3), nsmall = 3), fill = NULL),\n",
    "             size = 2, data = df_top17, color='black')"
   ]
  },
  {
   "cell_type": "code",
   "execution_count": 215,
   "metadata": {},
   "outputs": [],
   "source": [
    "library(ggpubr)\n",
    "theme_set(theme_pubr())"
   ]
  },
  {
   "cell_type": "code",
   "execution_count": 227,
   "metadata": {},
   "outputs": [],
   "source": [
    "total.mediare.payments <- payment %>% group_by(Provider.State) %>% \n",
    "mutate(total.medicare.payments = sum(Average.Medicare.Payments))\n",
    "\n",
    "#head(total.mediare.payments)"
   ]
  },
  {
   "cell_type": "markdown",
   "metadata": {},
   "source": [
    "#####First I will calculate the U.S average total discharges, covered charges, total payments and medicare payments for years 2015, 2016 and 2017."
   ]
  },
  {
   "cell_type": "code",
   "execution_count": 229,
   "metadata": {},
   "outputs": [
    {
     "data": {
      "text/html": [
       "<ol class=list-inline>\n",
       "\t<li>3</li>\n",
       "\t<li>5</li>\n",
       "</ol>\n"
      ],
      "text/latex": [
       "\\begin{enumerate*}\n",
       "\\item 3\n",
       "\\item 5\n",
       "\\end{enumerate*}\n"
      ],
      "text/markdown": [
       "1. 3\n",
       "2. 5\n",
       "\n",
       "\n"
      ],
      "text/plain": [
       "[1] 3 5"
      ]
     },
     "metadata": {},
     "output_type": "display_data"
    },
    {
     "data": {
      "text/html": [
       "<table>\n",
       "<thead><tr><th scope=col>Year</th><th scope=col>us.mean.total.discharges</th><th scope=col>us.mean.average.covered.charges</th><th scope=col>us.mean.average.total.payments</th><th scope=col>us.mean.average.medicare.payments</th></tr></thead>\n",
       "<tbody>\n",
       "\t<tr><td>2015    </td><td>36.82096</td><td>55008.66</td><td>13219.57</td><td>11213.91</td></tr>\n",
       "\t<tr><td>2016    </td><td>36.64338</td><td>58231.57</td><td>13728.46</td><td>11656.63</td></tr>\n",
       "\t<tr><td>2017    </td><td>37.60442</td><td>61166.15</td><td>13978.19</td><td>11816.24</td></tr>\n",
       "</tbody>\n",
       "</table>\n"
      ],
      "text/latex": [
       "\\begin{tabular}{r|lllll}\n",
       " Year & us.mean.total.discharges & us.mean.average.covered.charges & us.mean.average.total.payments & us.mean.average.medicare.payments\\\\\n",
       "\\hline\n",
       "\t 2015     & 36.82096 & 55008.66 & 13219.57 & 11213.91\\\\\n",
       "\t 2016     & 36.64338 & 58231.57 & 13728.46 & 11656.63\\\\\n",
       "\t 2017     & 37.60442 & 61166.15 & 13978.19 & 11816.24\\\\\n",
       "\\end{tabular}\n"
      ],
      "text/markdown": [
       "\n",
       "| Year | us.mean.total.discharges | us.mean.average.covered.charges | us.mean.average.total.payments | us.mean.average.medicare.payments |\n",
       "|---|---|---|---|---|\n",
       "| 2015     | 36.82096 | 55008.66 | 13219.57 | 11213.91 |\n",
       "| 2016     | 36.64338 | 58231.57 | 13728.46 | 11656.63 |\n",
       "| 2017     | 37.60442 | 61166.15 | 13978.19 | 11816.24 |\n",
       "\n"
      ],
      "text/plain": [
       "  Year us.mean.total.discharges us.mean.average.covered.charges\n",
       "1 2015 36.82096                 55008.66                       \n",
       "2 2016 36.64338                 58231.57                       \n",
       "3 2017 37.60442                 61166.15                       \n",
       "  us.mean.average.total.payments us.mean.average.medicare.payments\n",
       "1 13219.57                       11213.91                         \n",
       "2 13728.46                       11656.63                         \n",
       "3 13978.19                       11816.24                         "
      ]
     },
     "metadata": {},
     "output_type": "display_data"
    }
   ],
   "source": [
    "us.total <- payment %>% group_by(Year) %>%\n",
    "        summarise(\n",
    "                  us.mean.total.discharges          = mean(Total.Discharges),\n",
    "                  us.mean.average.covered.charges   = mean(Average.Covered.Charges),\n",
    "                  us.mean.average.total.payments    = mean(Average.Total.Payments),\n",
    "                  us.mean.average.medicare.payments = mean(Average.Medicare.Payments))\n",
    "                  \n",
    "dim(us.total); head(us.total)"
   ]
  },
  {
   "cell_type": "markdown",
   "metadata": {},
   "source": [
    "#####What is the average total discharges, covered charges, total payments and medicare payments for each State in 2017"
   ]
  },
  {
   "cell_type": "code",
   "execution_count": 235,
   "metadata": {},
   "outputs": [
    {
     "data": {
      "text/html": [
       "<ol class=list-inline>\n",
       "\t<li>51</li>\n",
       "\t<li>6</li>\n",
       "</ol>\n"
      ],
      "text/latex": [
       "\\begin{enumerate*}\n",
       "\\item 51\n",
       "\\item 6\n",
       "\\end{enumerate*}\n"
      ],
      "text/markdown": [
       "1. 51\n",
       "2. 6\n",
       "\n",
       "\n"
      ],
      "text/plain": [
       "[1] 51  6"
      ]
     },
     "metadata": {},
     "output_type": "display_data"
    },
    {
     "data": {
      "text/html": [
       "<table>\n",
       "<thead><tr><th scope=col>Provider.State</th><th scope=col>count</th><th scope=col>state.mean.total.discharges</th><th scope=col>state.mean.average.covered.charges</th><th scope=col>state.mean.average.total.payments</th><th scope=col>state.mean.average.medicare.payments</th></tr></thead>\n",
       "<tbody>\n",
       "\t<tr><td>AK       </td><td>  267    </td><td>28.76779 </td><td> 87564.27</td><td>21367.49 </td><td>18712.589</td></tr>\n",
       "\t<tr><td>AL       </td><td> 3916    </td><td>36.27681 </td><td> 54725.17</td><td>10519.97 </td><td> 8706.915</td></tr>\n",
       "\t<tr><td>AR       </td><td> 2488    </td><td>36.83883 </td><td> 42548.17</td><td>10883.90 </td><td> 9332.545</td></tr>\n",
       "\t<tr><td>AZ       </td><td> 3407    </td><td>33.76548 </td><td> 71446.32</td><td>14886.30 </td><td>12908.001</td></tr>\n",
       "\t<tr><td>CA       </td><td>15216    </td><td>34.90628 </td><td>106406.99</td><td>18417.93 </td><td>16207.739</td></tr>\n",
       "\t<tr><td>CO       </td><td> 2208    </td><td>33.28986 </td><td> 81883.65</td><td>14994.47 </td><td>12584.929</td></tr>\n",
       "</tbody>\n",
       "</table>\n"
      ],
      "text/latex": [
       "\\begin{tabular}{r|llllll}\n",
       " Provider.State & count & state.mean.total.discharges & state.mean.average.covered.charges & state.mean.average.total.payments & state.mean.average.medicare.payments\\\\\n",
       "\\hline\n",
       "\t AK        &   267     & 28.76779  &  87564.27 & 21367.49  & 18712.589\\\\\n",
       "\t AL        &  3916     & 36.27681  &  54725.17 & 10519.97  &  8706.915\\\\\n",
       "\t AR        &  2488     & 36.83883  &  42548.17 & 10883.90  &  9332.545\\\\\n",
       "\t AZ        &  3407     & 33.76548  &  71446.32 & 14886.30  & 12908.001\\\\\n",
       "\t CA        & 15216     & 34.90628  & 106406.99 & 18417.93  & 16207.739\\\\\n",
       "\t CO        &  2208     & 33.28986  &  81883.65 & 14994.47  & 12584.929\\\\\n",
       "\\end{tabular}\n"
      ],
      "text/markdown": [
       "\n",
       "| Provider.State | count | state.mean.total.discharges | state.mean.average.covered.charges | state.mean.average.total.payments | state.mean.average.medicare.payments |\n",
       "|---|---|---|---|---|---|\n",
       "| AK        |   267     | 28.76779  |  87564.27 | 21367.49  | 18712.589 |\n",
       "| AL        |  3916     | 36.27681  |  54725.17 | 10519.97  |  8706.915 |\n",
       "| AR        |  2488     | 36.83883  |  42548.17 | 10883.90  |  9332.545 |\n",
       "| AZ        |  3407     | 33.76548  |  71446.32 | 14886.30  | 12908.001 |\n",
       "| CA        | 15216     | 34.90628  | 106406.99 | 18417.93  | 16207.739 |\n",
       "| CO        |  2208     | 33.28986  |  81883.65 | 14994.47  | 12584.929 |\n",
       "\n"
      ],
      "text/plain": [
       "  Provider.State count state.mean.total.discharges\n",
       "1 AK               267 28.76779                   \n",
       "2 AL              3916 36.27681                   \n",
       "3 AR              2488 36.83883                   \n",
       "4 AZ              3407 33.76548                   \n",
       "5 CA             15216 34.90628                   \n",
       "6 CO              2208 33.28986                   \n",
       "  state.mean.average.covered.charges state.mean.average.total.payments\n",
       "1  87564.27                          21367.49                         \n",
       "2  54725.17                          10519.97                         \n",
       "3  42548.17                          10883.90                         \n",
       "4  71446.32                          14886.30                         \n",
       "5 106406.99                          18417.93                         \n",
       "6  81883.65                          14994.47                         \n",
       "  state.mean.average.medicare.payments\n",
       "1 18712.589                           \n",
       "2  8706.915                           \n",
       "3  9332.545                           \n",
       "4 12908.001                           \n",
       "5 16207.739                           \n",
       "6 12584.929                           "
      ]
     },
     "metadata": {},
     "output_type": "display_data"
    }
   ],
   "source": [
    "by.state <- payment %>% group_by(Provider.State) %>% filter(Year == 2017) %>%\n",
    "        summarise(count =n(),\n",
    "                  state.mean.total.discharges          = mean(Total.Discharges),\n",
    "                  state.mean.average.covered.charges   = mean(Average.Covered.Charges),\n",
    "                  state.mean.average.total.payments    = mean(Average.Total.Payments),\n",
    "                  state.mean.average.medicare.payments = mean(Average.Medicare.Payments))\n",
    "                  \n",
    "                                            \n",
    "dim(by.state); head(by.state)"
   ]
  },
  {
   "cell_type": "markdown",
   "metadata": {},
   "source": [
    "#####I will include countrie's average variables to the dataset."
   ]
  },
  {
   "cell_type": "code",
   "execution_count": 236,
   "metadata": {},
   "outputs": [],
   "source": [
    "by.state$us.mean.total.discharges <- us.total$us.mean.total.discharges\n",
    "by.state$us.mean.average.covered.charges <- us.total$us.mean.average.covered.charges\n",
    "by.state$us.mean.average.total.payments <- us.total$us.mean.average.total.payments\n",
    "by.state$us.mean.average.medicare.payments <- us.total$us.mean.average.medicare.payments"
   ]
  },
  {
   "cell_type": "markdown",
   "metadata": {},
   "source": [
    "#####RATIOS - state average metrics / Country average metrics"
   ]
  },
  {
   "cell_type": "code",
   "execution_count": 237,
   "metadata": {},
   "outputs": [
    {
     "data": {
      "text/html": [
       "<table>\n",
       "<thead><tr><th scope=col>Provider.State</th><th scope=col>count</th><th scope=col>state.mean.total.discharges</th><th scope=col>state.mean.average.covered.charges</th><th scope=col>state.mean.average.total.payments</th><th scope=col>state.mean.average.medicare.payments</th><th scope=col>us.mean.total.discharges</th><th scope=col>us.mean.average.covered.charges</th><th scope=col>us.mean.average.total.payments</th><th scope=col>us.mean.average.medicare.payments</th></tr></thead>\n",
       "<tbody>\n",
       "\t<tr><td>AK       </td><td>  267    </td><td>28.76779 </td><td> 87564.27</td><td>21367.49 </td><td>18712.589</td><td>36.82096 </td><td>55008.66 </td><td>13219.57 </td><td>11213.91 </td></tr>\n",
       "\t<tr><td>AL       </td><td> 3916    </td><td>36.27681 </td><td> 54725.17</td><td>10519.97 </td><td> 8706.915</td><td>36.64338 </td><td>58231.57 </td><td>13728.46 </td><td>11656.63 </td></tr>\n",
       "\t<tr><td>AR       </td><td> 2488    </td><td>36.83883 </td><td> 42548.17</td><td>10883.90 </td><td> 9332.545</td><td>37.60442 </td><td>61166.15 </td><td>13978.19 </td><td>11816.24 </td></tr>\n",
       "\t<tr><td>AZ       </td><td> 3407    </td><td>33.76548 </td><td> 71446.32</td><td>14886.30 </td><td>12908.001</td><td>36.82096 </td><td>55008.66 </td><td>13219.57 </td><td>11213.91 </td></tr>\n",
       "\t<tr><td>CA       </td><td>15216    </td><td>34.90628 </td><td>106406.99</td><td>18417.93 </td><td>16207.739</td><td>36.64338 </td><td>58231.57 </td><td>13728.46 </td><td>11656.63 </td></tr>\n",
       "\t<tr><td>CO       </td><td> 2208    </td><td>33.28986 </td><td> 81883.65</td><td>14994.47 </td><td>12584.929</td><td>37.60442 </td><td>61166.15 </td><td>13978.19 </td><td>11816.24 </td></tr>\n",
       "</tbody>\n",
       "</table>\n"
      ],
      "text/latex": [
       "\\begin{tabular}{r|llllllllll}\n",
       " Provider.State & count & state.mean.total.discharges & state.mean.average.covered.charges & state.mean.average.total.payments & state.mean.average.medicare.payments & us.mean.total.discharges & us.mean.average.covered.charges & us.mean.average.total.payments & us.mean.average.medicare.payments\\\\\n",
       "\\hline\n",
       "\t AK        &   267     & 28.76779  &  87564.27 & 21367.49  & 18712.589 & 36.82096  & 55008.66  & 13219.57  & 11213.91 \\\\\n",
       "\t AL        &  3916     & 36.27681  &  54725.17 & 10519.97  &  8706.915 & 36.64338  & 58231.57  & 13728.46  & 11656.63 \\\\\n",
       "\t AR        &  2488     & 36.83883  &  42548.17 & 10883.90  &  9332.545 & 37.60442  & 61166.15  & 13978.19  & 11816.24 \\\\\n",
       "\t AZ        &  3407     & 33.76548  &  71446.32 & 14886.30  & 12908.001 & 36.82096  & 55008.66  & 13219.57  & 11213.91 \\\\\n",
       "\t CA        & 15216     & 34.90628  & 106406.99 & 18417.93  & 16207.739 & 36.64338  & 58231.57  & 13728.46  & 11656.63 \\\\\n",
       "\t CO        &  2208     & 33.28986  &  81883.65 & 14994.47  & 12584.929 & 37.60442  & 61166.15  & 13978.19  & 11816.24 \\\\\n",
       "\\end{tabular}\n"
      ],
      "text/markdown": [
       "\n",
       "| Provider.State | count | state.mean.total.discharges | state.mean.average.covered.charges | state.mean.average.total.payments | state.mean.average.medicare.payments | us.mean.total.discharges | us.mean.average.covered.charges | us.mean.average.total.payments | us.mean.average.medicare.payments |\n",
       "|---|---|---|---|---|---|---|---|---|---|\n",
       "| AK        |   267     | 28.76779  |  87564.27 | 21367.49  | 18712.589 | 36.82096  | 55008.66  | 13219.57  | 11213.91  |\n",
       "| AL        |  3916     | 36.27681  |  54725.17 | 10519.97  |  8706.915 | 36.64338  | 58231.57  | 13728.46  | 11656.63  |\n",
       "| AR        |  2488     | 36.83883  |  42548.17 | 10883.90  |  9332.545 | 37.60442  | 61166.15  | 13978.19  | 11816.24  |\n",
       "| AZ        |  3407     | 33.76548  |  71446.32 | 14886.30  | 12908.001 | 36.82096  | 55008.66  | 13219.57  | 11213.91  |\n",
       "| CA        | 15216     | 34.90628  | 106406.99 | 18417.93  | 16207.739 | 36.64338  | 58231.57  | 13728.46  | 11656.63  |\n",
       "| CO        |  2208     | 33.28986  |  81883.65 | 14994.47  | 12584.929 | 37.60442  | 61166.15  | 13978.19  | 11816.24  |\n",
       "\n"
      ],
      "text/plain": [
       "  Provider.State count state.mean.total.discharges\n",
       "1 AK               267 28.76779                   \n",
       "2 AL              3916 36.27681                   \n",
       "3 AR              2488 36.83883                   \n",
       "4 AZ              3407 33.76548                   \n",
       "5 CA             15216 34.90628                   \n",
       "6 CO              2208 33.28986                   \n",
       "  state.mean.average.covered.charges state.mean.average.total.payments\n",
       "1  87564.27                          21367.49                         \n",
       "2  54725.17                          10519.97                         \n",
       "3  42548.17                          10883.90                         \n",
       "4  71446.32                          14886.30                         \n",
       "5 106406.99                          18417.93                         \n",
       "6  81883.65                          14994.47                         \n",
       "  state.mean.average.medicare.payments us.mean.total.discharges\n",
       "1 18712.589                            36.82096                \n",
       "2  8706.915                            36.64338                \n",
       "3  9332.545                            37.60442                \n",
       "4 12908.001                            36.82096                \n",
       "5 16207.739                            36.64338                \n",
       "6 12584.929                            37.60442                \n",
       "  us.mean.average.covered.charges us.mean.average.total.payments\n",
       "1 55008.66                        13219.57                      \n",
       "2 58231.57                        13728.46                      \n",
       "3 61166.15                        13978.19                      \n",
       "4 55008.66                        13219.57                      \n",
       "5 58231.57                        13728.46                      \n",
       "6 61166.15                        13978.19                      \n",
       "  us.mean.average.medicare.payments\n",
       "1 11213.91                         \n",
       "2 11656.63                         \n",
       "3 11816.24                         \n",
       "4 11213.91                         \n",
       "5 11656.63                         \n",
       "6 11816.24                         "
      ]
     },
     "metadata": {},
     "output_type": "display_data"
    }
   ],
   "source": [
    "state.average.ratios <- by.state %>% group_by(Provider.State) %>%\n",
    " mutate(ratio.state.discharges = state.mean.total.discharges/us.mean.total.discharges,\n",
    "       ratio.covered.charges = state.mean.average.covered.charges/us.mean.average.covered.charges,\n",
    "       ratio.total.payments = state.mean.average.total.payments /us.mean.average.total.payments,\n",
    "       ratio.medicare.payments = state.mean.average.medicare.payments/us.mean.average.medicare.payments)\n",
    "\n",
    "head(by.state)"
   ]
  },
  {
   "cell_type": "markdown",
   "metadata": {},
   "source": [
    "#####Average Covered Charges"
   ]
  },
  {
   "cell_type": "code",
   "execution_count": 280,
   "metadata": {},
   "outputs": [
    {
     "data": {
      "text/html": [
       "<ol class=list-inline>\n",
       "\t<li>51</li>\n",
       "\t<li>4</li>\n",
       "</ol>\n"
      ],
      "text/latex": [
       "\\begin{enumerate*}\n",
       "\\item 51\n",
       "\\item 4\n",
       "\\end{enumerate*}\n"
      ],
      "text/markdown": [
       "1. 51\n",
       "2. 4\n",
       "\n",
       "\n"
      ],
      "text/plain": [
       "[1] 51  4"
      ]
     },
     "metadata": {},
     "output_type": "display_data"
    },
    {
     "data": {
      "text/html": [
       "<table>\n",
       "<thead><tr><th scope=col>Provider.State</th><th scope=col>ratio.covered.charges</th><th scope=col>Avg</th><th scope=col>Ratio</th></tr></thead>\n",
       "<tbody>\n",
       "\t<tr><td>CA                          </td><td>1.827308                    </td><td>1                           </td><td>Above the Countrie's Average</td></tr>\n",
       "\t<tr><td>NV                          </td><td>1.818242                    </td><td>1                           </td><td>Above the Countrie's Average</td></tr>\n",
       "\t<tr><td>AK                          </td><td>1.591827                    </td><td>1                           </td><td>Above the Countrie's Average</td></tr>\n",
       "\t<tr><td>NJ                          </td><td>1.538649                    </td><td>1                           </td><td>Above the Countrie's Average</td></tr>\n",
       "\t<tr><td>DC                          </td><td>1.410994                    </td><td>1                           </td><td>Above the Countrie's Average</td></tr>\n",
       "\t<tr><td>...</td><td>...</td><td>...</td><td>...</td></tr>\n",
       "\t<tr><td>NY                          </td><td>1.0854723                   </td><td>1                           </td><td>Above the Countrie's Average</td></tr>\n",
       "\t<tr><td>OK                          </td><td>1.0429060                   </td><td>1                           </td><td>Above the Countrie's Average</td></tr>\n",
       "\t<tr><td>SC                          </td><td>1.0421232                   </td><td>1                           </td><td>Above the Countrie's Average</td></tr>\n",
       "\t<tr><td>WA                          </td><td>1.0374409                   </td><td>1                           </td><td>Above the Countrie's Average</td></tr>\n",
       "\t<tr><td>TN                          </td><td>0.9971539                   </td><td>1                           </td><td>Below the Countrie's Average</td></tr>\n",
       "</tbody>\n",
       "</table>\n"
      ],
      "text/latex": [
       "\\begin{tabular}{r|llll}\n",
       " Provider.State & ratio.covered.charges & Avg & Ratio\\\\\n",
       "\\hline\n",
       "\t CA                           & 1.827308                     & 1                            & Above the Countrie's Average\\\\\n",
       "\t NV                           & 1.818242                     & 1                            & Above the Countrie's Average\\\\\n",
       "\t AK                           & 1.591827                     & 1                            & Above the Countrie's Average\\\\\n",
       "\t NJ                           & 1.538649                     & 1                            & Above the Countrie's Average\\\\\n",
       "\t DC                           & 1.410994                     & 1                            & Above the Countrie's Average\\\\\n",
       "\t ... & ... & ... & ...\\\\\n",
       "\t NY                           & 1.0854723                    & 1                            & Above the Countrie's Average\\\\\n",
       "\t OK                           & 1.0429060                    & 1                            & Above the Countrie's Average\\\\\n",
       "\t SC                           & 1.0421232                    & 1                            & Above the Countrie's Average\\\\\n",
       "\t WA                           & 1.0374409                    & 1                            & Above the Countrie's Average\\\\\n",
       "\t TN                           & 0.9971539                    & 1                            & Below the Countrie's Average\\\\\n",
       "\\end{tabular}\n"
      ],
      "text/markdown": [
       "\n",
       "| Provider.State | ratio.covered.charges | Avg | Ratio |\n",
       "|---|---|---|---|\n",
       "| CA                           | 1.827308                     | 1                            | Above the Countrie's Average |\n",
       "| NV                           | 1.818242                     | 1                            | Above the Countrie's Average |\n",
       "| AK                           | 1.591827                     | 1                            | Above the Countrie's Average |\n",
       "| NJ                           | 1.538649                     | 1                            | Above the Countrie's Average |\n",
       "| DC                           | 1.410994                     | 1                            | Above the Countrie's Average |\n",
       "| ... | ... | ... | ... |\n",
       "| NY                           | 1.0854723                    | 1                            | Above the Countrie's Average |\n",
       "| OK                           | 1.0429060                    | 1                            | Above the Countrie's Average |\n",
       "| SC                           | 1.0421232                    | 1                            | Above the Countrie's Average |\n",
       "| WA                           | 1.0374409                    | 1                            | Above the Countrie's Average |\n",
       "| TN                           | 0.9971539                    | 1                            | Below the Countrie's Average |\n",
       "\n"
      ],
      "text/plain": [
       "    Provider.State ratio.covered.charges Avg Ratio                       \n",
       "1   CA             1.827308              1   Above the Countrie's Average\n",
       "2   NV             1.818242              1   Above the Countrie's Average\n",
       "3   AK             1.591827              1   Above the Countrie's Average\n",
       "4   NJ             1.538649              1   Above the Countrie's Average\n",
       "5   DC             1.410994              1   Above the Countrie's Average\n",
       "... ...            ...                   ... ...                         \n",
       "11  NY             1.0854723             1   Above the Countrie's Average\n",
       "12  OK             1.0429060             1   Above the Countrie's Average\n",
       "13  SC             1.0421232             1   Above the Countrie's Average\n",
       "14  WA             1.0374409             1   Above the Countrie's Average\n",
       "15  TN             0.9971539             1   Below the Countrie's Average"
      ]
     },
     "metadata": {},
     "output_type": "display_data"
    }
   ],
   "source": [
    "us.states <- state.average.ratios %>%\n",
    "        select(Provider.State, ratio.covered.charges) %>%\n",
    "        arrange(ratio.covered.charges) %>%\n",
    "        mutate(Avg = mean(1, na.rm = TRUE),\n",
    "               Ratio = ifelse(ratio.covered.charges - Avg > 0, \"Above the Countrie's Average\", \"Below the Countrie's Average\")) %>%\n",
    "arrange(desc(ratio.covered.charges))\n",
    "dim(us.states)\n",
    "head(us.states, 15)"
   ]
  },
  {
   "cell_type": "code",
   "execution_count": 281,
   "metadata": {},
   "outputs": [],
   "source": [
    "covered.charges <- ggplot(us.states, aes(ratio.covered.charges, Provider.State, color = Ratio)) +\n",
    "        geom_segment(aes(x = Avg, y = Provider.State, xend = ratio.covered.charges, yend = Provider.State), color = \"grey50\") +\n",
    "        geom_point()+ \n",
    "        \n",
    "        labs(title = \"Total Covered Charges by State\")+\n",
    "        theme_minimal() +\n",
    "        theme(axis.title = element_blank())"
   ]
  },
  {
   "cell_type": "code",
   "execution_count": 273,
   "metadata": {},
   "outputs": [],
   "source": [
    "options(repr.plot.width=4, repr.plot.height=6)"
   ]
  },
  {
   "cell_type": "markdown",
   "metadata": {},
   "source": [
    "#####Average Medicare payment"
   ]
  },
  {
   "cell_type": "code",
   "execution_count": 282,
   "metadata": {},
   "outputs": [
    {
     "data": {
      "text/html": [
       "<table>\n",
       "<thead><tr><th scope=col>Provider.State</th><th scope=col>ratio.medicare.payments</th><th scope=col>Avg2</th><th scope=col>Ratio</th></tr></thead>\n",
       "<tbody>\n",
       "\t<tr><td>AK                          </td><td>1.668694                    </td><td>1                           </td><td>Above the Countrie's Average</td></tr>\n",
       "\t<tr><td>CA                          </td><td>1.390431                    </td><td>1                           </td><td>Above the Countrie's Average</td></tr>\n",
       "\t<tr><td>DC                          </td><td>1.383337                    </td><td>1                           </td><td>Above the Countrie's Average</td></tr>\n",
       "\t<tr><td>MD                          </td><td>1.352735                    </td><td>1                           </td><td>Above the Countrie's Average</td></tr>\n",
       "\t<tr><td>HI                          </td><td>1.308609                    </td><td>1                           </td><td>Above the Countrie's Average</td></tr>\n",
       "\t<tr><td>...</td><td>...</td><td>...</td><td>...</td></tr>\n",
       "\t<tr><td>AZ                          </td><td>1.151071                    </td><td>1                           </td><td>Above the Countrie's Average</td></tr>\n",
       "\t<tr><td>WA                          </td><td>1.135675                    </td><td>1                           </td><td>Above the Countrie's Average</td></tr>\n",
       "\t<tr><td>VT                          </td><td>1.112734                    </td><td>1                           </td><td>Above the Countrie's Average</td></tr>\n",
       "\t<tr><td>NV                          </td><td>1.103954                    </td><td>1                           </td><td>Above the Countrie's Average</td></tr>\n",
       "\t<tr><td>NJ                          </td><td>1.079166                    </td><td>1                           </td><td>Above the Countrie's Average</td></tr>\n",
       "</tbody>\n",
       "</table>\n"
      ],
      "text/latex": [
       "\\begin{tabular}{r|llll}\n",
       " Provider.State & ratio.medicare.payments & Avg2 & Ratio\\\\\n",
       "\\hline\n",
       "\t AK                           & 1.668694                     & 1                            & Above the Countrie's Average\\\\\n",
       "\t CA                           & 1.390431                     & 1                            & Above the Countrie's Average\\\\\n",
       "\t DC                           & 1.383337                     & 1                            & Above the Countrie's Average\\\\\n",
       "\t MD                           & 1.352735                     & 1                            & Above the Countrie's Average\\\\\n",
       "\t HI                           & 1.308609                     & 1                            & Above the Countrie's Average\\\\\n",
       "\t ... & ... & ... & ...\\\\\n",
       "\t AZ                           & 1.151071                     & 1                            & Above the Countrie's Average\\\\\n",
       "\t WA                           & 1.135675                     & 1                            & Above the Countrie's Average\\\\\n",
       "\t VT                           & 1.112734                     & 1                            & Above the Countrie's Average\\\\\n",
       "\t NV                           & 1.103954                     & 1                            & Above the Countrie's Average\\\\\n",
       "\t NJ                           & 1.079166                     & 1                            & Above the Countrie's Average\\\\\n",
       "\\end{tabular}\n"
      ],
      "text/markdown": [
       "\n",
       "| Provider.State | ratio.medicare.payments | Avg2 | Ratio |\n",
       "|---|---|---|---|\n",
       "| AK                           | 1.668694                     | 1                            | Above the Countrie's Average |\n",
       "| CA                           | 1.390431                     | 1                            | Above the Countrie's Average |\n",
       "| DC                           | 1.383337                     | 1                            | Above the Countrie's Average |\n",
       "| MD                           | 1.352735                     | 1                            | Above the Countrie's Average |\n",
       "| HI                           | 1.308609                     | 1                            | Above the Countrie's Average |\n",
       "| ... | ... | ... | ... |\n",
       "| AZ                           | 1.151071                     | 1                            | Above the Countrie's Average |\n",
       "| WA                           | 1.135675                     | 1                            | Above the Countrie's Average |\n",
       "| VT                           | 1.112734                     | 1                            | Above the Countrie's Average |\n",
       "| NV                           | 1.103954                     | 1                            | Above the Countrie's Average |\n",
       "| NJ                           | 1.079166                     | 1                            | Above the Countrie's Average |\n",
       "\n"
      ],
      "text/plain": [
       "    Provider.State ratio.medicare.payments Avg2 Ratio                       \n",
       "1   AK             1.668694                1    Above the Countrie's Average\n",
       "2   CA             1.390431                1    Above the Countrie's Average\n",
       "3   DC             1.383337                1    Above the Countrie's Average\n",
       "4   MD             1.352735                1    Above the Countrie's Average\n",
       "5   HI             1.308609                1    Above the Countrie's Average\n",
       "... ...            ...                     ...  ...                         \n",
       "11  AZ             1.151071                1    Above the Countrie's Average\n",
       "12  WA             1.135675                1    Above the Countrie's Average\n",
       "13  VT             1.112734                1    Above the Countrie's Average\n",
       "14  NV             1.103954                1    Above the Countrie's Average\n",
       "15  NJ             1.079166                1    Above the Countrie's Average"
      ]
     },
     "metadata": {},
     "output_type": "display_data"
    }
   ],
   "source": [
    "us.states <- state.average.ratios %>%\n",
    "        select(Provider.State, ratio.medicare.payments) %>%\n",
    "        arrange(ratio.medicare.payments) %>%\n",
    "        mutate(Avg2 = mean(1, na.rm = TRUE),\n",
    "               Ratio = ifelse(ratio.medicare.payments - Avg2 > 0, \"Above the Countrie's Average\", \"Below the Countrie's Average\"))%>%\n",
    "             arrange(desc(ratio.medicare.payments))\n",
    "head(us.states, 15)"
   ]
  },
  {
   "cell_type": "code",
   "execution_count": 283,
   "metadata": {},
   "outputs": [],
   "source": [
    "medicare.payments <- ggplot(us.states, aes(ratio.medicare.payments, Provider.State, color = Ratio)) +\n",
    "        geom_segment(aes(x = Avg2, y = Provider.State, xend = ratio.medicare.payments, yend = Provider.State), color = \"grey50\") +\n",
    "        geom_point()+ \n",
    "        labs(title = \"Medicare Payments by State\")+\n",
    "        theme_minimal() +\n",
    "        theme(axis.title = element_blank()) \n",
    "#medicare.payments"
   ]
  },
  {
   "cell_type": "code",
   "execution_count": 284,
   "metadata": {},
   "outputs": [],
   "source": [
    "require(gridExtra)"
   ]
  },
  {
   "cell_type": "code",
   "execution_count": 285,
   "metadata": {},
   "outputs": [],
   "source": [
    "options(repr.plot.width=9, repr.plot.height=8)"
   ]
  },
  {
   "cell_type": "code",
   "execution_count": 286,
   "metadata": {},
   "outputs": [
    {
     "data": {
      "image/png": "[encoded data removed]",
      "text/plain": [
       "plot without title"
      ]
     },
     "metadata": {},
     "output_type": "display_data"
    }
   ],
   "source": [
    "grid.arrange(medicare.payments, covered.charges, ncol=2)\n"
   ]
  },
  {
   "cell_type": "markdown",
   "metadata": {},
   "source": [
    "Analyzing Average Provider Charges and Medicare Payments"
   ]
  },
  {
   "cell_type": "markdown",
   "metadata": {},
   "source": [
    "#####which hospitals charged the most"
   ]
  },
  {
   "cell_type": "code",
   "execution_count": 339,
   "metadata": {},
   "outputs": [
    {
     "data": {
      "text/plain": [
       "\n",
       "\n",
       "|Provider.Name                    | total_charges|\n",
       "|:--------------------------------|-------------:|\n",
       "|CEDARS-SINAI MEDICAL CENTER      |   10891534772|\n",
       "|FLORIDA HOSPITAL                 |    8269513404|\n",
       "|NEW YORK-PRESBYTERIAN HOSPITAL   |    7797460777|\n",
       "|STANFORD HEALTH CARE             |    6384629917|\n",
       "|UPMC PRESBYTERIAN SHADYSIDE      |    5833721453|\n",
       "|METHODIST HOSPITAL               |    5432957684|\n",
       "|MASSACHUSETTS GENERAL HOSPITAL   |    4334294154|\n",
       "|UCSF MEDICAL CENTER              |    4087111977|\n",
       "|HOSPITAL OF UNIV OF PENNSYLVANIA |    4080280869|\n",
       "|GOOD SAMARITAN HOSPITAL          |    3991707913|"
      ]
     },
     "metadata": {},
     "output_type": "display_data"
    }
   ],
   "source": [
    "df_top_charges <- payment %>% mutate(total_c = Average.Covered.Charges*Total.Discharges,\n",
    "                        total_m = Average.Medicare.Payments*Total.Discharges) %>% \n",
    "  group_by(Provider.Name) %>%\n",
    "  summarise(total_charges=sum(total_c), total_medicare_paid = sum(total_m),\n",
    "            ratio_paid_charged = sum(total_m)/sum(total_c)) %>% \n",
    "  select(Provider.Name, total_charges)%>%\n",
    "  top_n(10, wt = total_charges) %>%\n",
    "  arrange(desc(total_charges))\n",
    "knitr::kable(df_top_charges)"
   ]
  },
  {
   "cell_type": "markdown",
   "metadata": {},
   "source": [
    "#####Among all hospitals Cedar-Sinai Medical Center had far away the highest total charges, followed by Florida and New York-Presbyterian Hospitals."
   ]
  },
  {
   "cell_type": "markdown",
   "metadata": {},
   "source": [
    "#####Which Hospitals Medicare paid the most"
   ]
  },
  {
   "cell_type": "code",
   "execution_count": 336,
   "metadata": {},
   "outputs": [
    {
     "data": {
      "text/plain": [
       "\n",
       "\n",
       "|Provider.Name                         | total_medicare_paid|\n",
       "|:-------------------------------------|-------------------:|\n",
       "|NEW YORK-PRESBYTERIAN HOSPITAL        |          1766867375|\n",
       "|MAYO CLINIC HOSPITAL ROCHESTER        |          1211878997|\n",
       "|CEDARS-SINAI MEDICAL CENTER           |          1135096549|\n",
       "|FLORIDA HOSPITAL                      |          1111528470|\n",
       "|JOHNS HOPKINS HOSPITAL, THE           |           988861415|\n",
       "|MASSACHUSETTS GENERAL HOSPITAL        |           987901837|\n",
       "|YALE-NEW HAVEN HOSPITAL               |           952685580|\n",
       "|MOUNT SINAI HOSPITAL                  |           873085312|\n",
       "|STANFORD HEALTH CARE                  |           837505387|\n",
       "|UNIVERSITY OF MARYLAND MEDICAL CENTER |           825026221|"
      ]
     },
     "metadata": {},
     "output_type": "display_data"
    }
   ],
   "source": [
    "df_top_medicare <- payment %>% mutate(total_c = Average.Covered.Charges*Total.Discharges,\n",
    "                        total_m = Average.Medicare.Payments*Total.Discharges) %>% \n",
    "  group_by(Provider.Name) %>%\n",
    "  summarise(total_charges=sum(total_c), total_medicare_paid = sum(total_m),\n",
    "            ratio_paid_charged = sum(total_m)/sum(total_c)) %>% \n",
    "  top_n(10, wt = total_medicare_paid) %>%\n",
    "  select(Provider.Name, total_medicare_paid) %>%\n",
    "  arrange(desc(total_medicare_paid))\n",
    "#head(df_top_medicare, 10)\n",
    "knitr::kable(df_top_medicare)"
   ]
  },
  {
   "cell_type": "markdown",
   "metadata": {},
   "source": [
    "#####Among all hospitals NEW YORK-PRESBYTERIAN HOSPITAL had far away the highest total medicare paid, followed by MAYO CLINIC HOSPITAL ROCHESTER and CEDARS-SINAI MEDICAL CENTER."
   ]
  },
  {
   "cell_type": "markdown",
   "metadata": {},
   "source": [
    "#####Which hospitals has the highest number of discharges"
   ]
  },
  {
   "cell_type": "code",
   "execution_count": 335,
   "metadata": {},
   "outputs": [
    {
     "data": {
      "text/plain": [
       "\n",
       "\n",
       "|Provider.Name                          | total_discharges|\n",
       "|:--------------------------------------|----------------:|\n",
       "|FLORIDA HOSPITAL                       |        100914.15|\n",
       "|METHODIST HOSPITAL                     |         76730.00|\n",
       "|NEW YORK-PRESBYTERIAN HOSPITAL         |         72634.00|\n",
       "|CHRISTIANA CARE HEALTH SERVICES, INC.  |         63292.48|\n",
       "|BEAUMONT HOSPITAL, ROYAL OAK           |         58251.41|\n",
       "|MAYO CLINIC HOSPITAL ROCHESTER         |         58034.49|\n",
       "|YALE-NEW HAVEN HOSPITAL                |         56042.10|\n",
       "|GOOD SAMARITAN HOSPITAL                |         52787.00|\n",
       "|METHODIST HEALTHCARE MEMPHIS HOSPITALS |         52630.06|\n",
       "|CEDARS-SINAI MEDICAL CENTER            |         50285.15|"
      ]
     },
     "metadata": {},
     "output_type": "display_data"
    }
   ],
   "source": [
    "df_top_discharges <- payment %>% \n",
    "  group_by(Provider.Name) %>%\n",
    "  summarise(total_discharges = sum(Total.Discharges)) %>%\n",
    "  top_n(10, wt = total_discharges) %>%\n",
    "   arrange(desc(total_discharges))\n",
    "knitr::kable(df_top_discharges)"
   ]
  },
  {
   "cell_type": "markdown",
   "metadata": {},
   "source": [
    "#####The Most Expensive DRG Codes Across Medicare"
   ]
  },
  {
   "cell_type": "code",
   "execution_count": 326,
   "metadata": {},
   "outputs": [
    {
     "data": {
      "text/plain": [
       "\n",
       "\n",
       "|DRG.Definition                                                            | total_charges|  total_paid| ratio_paid_charged|\n",
       "|:-------------------------------------------------------------------------|-------------:|-----------:|------------------:|\n",
       "|470 - MAJOR JOINT REPLACEMENT OR REATTACHMENT OF LOWER EXTREMITY W/O MCC  |   84930404714| 17029623828|          0.2005127|\n",
       "|871 - SEPTICEMIA OR SEVERE SEPSIS W/O MV >96 HOURS W MCC                  |   65230094039| 13057983699|          0.2001834|\n",
       "|853 - INFECTIOUS & PARASITIC DISEASES W O.R. PROCEDURE W MCC              |   36560676172|  7975988638|          0.2181576|\n",
       "|291 - HEART FAILURE & SHOCK W MCC                                         |   35176241332|  7654986024|          0.2176181|\n",
       "|871 - SEPTICEMIA OR SEVERE SEPSIS W/O MV 96+ HOURS W MCC                  |   28299401092|  6088127660|          0.2151327|\n",
       "|460 - SPINAL FUSION EXCEPT CERVICAL W/O MCC                               |   26061078385|  5578328542|          0.2140483|\n",
       "|003 - ECMO OR TRACH W MV >96 HRS OR PDX EXC FACE, MOUTH & NECK W MAJ O.R. |   21821530951|  4797050535|          0.2198311|\n",
       "|247 - PERC CARDIOVASC PROC W DRUG-ELUTING STENT W/O MCC                   |   21450474146|  3260255262|          0.1519899|\n",
       "|190 - CHRONIC OBSTRUCTIVE PULMONARY DISEASE W MCC                         |   17635944406|  3401929169|          0.1928975|\n",
       "|189 - PULMONARY EDEMA & RESPIRATORY FAILURE                               |   16764149226|  3402599695|          0.2029688|"
      ]
     },
     "metadata": {},
     "output_type": "display_data"
    }
   ],
   "source": [
    "df_top <- payment %>% mutate(total_c = Average.Covered.Charges*Total.Discharges,\n",
    "                        total_p = Average.Medicare.Payments*Total.Discharges) %>% \n",
    "  group_by(DRG.Definition) %>%\n",
    "  summarise(total_charges=sum(total_c), total_paid = sum(total_p),\n",
    "            ratio_paid_charged = sum(total_p)/sum(total_c)) %>% \n",
    "  top_n(10, wt = total_charges) %>%\n",
    "  arrange(desc(total_charges))\n",
    "#df_top\n",
    "knitr::kable(df_top)"
   ]
  },
  {
   "cell_type": "markdown",
   "metadata": {},
   "source": [
    "#####Most expensive DRG-S"
   ]
  },
  {
   "cell_type": "code",
   "execution_count": 11,
   "metadata": {},
   "outputs": [
    {
     "data": {
      "text/html": [
       "<ol class=list-inline>\n",
       "\t<li>46356</li>\n",
       "\t<li>8</li>\n",
       "</ol>\n"
      ],
      "text/latex": [
       "\\begin{enumerate*}\n",
       "\\item 46356\n",
       "\\item 8\n",
       "\\end{enumerate*}\n"
      ],
      "text/markdown": [
       "1. 46356\n",
       "2. 8\n",
       "\n",
       "\n"
      ],
      "text/plain": [
       "[1] 46356     8"
      ]
     },
     "metadata": {},
     "output_type": "display_data"
    }
   ],
   "source": [
    "drg.by.state <- payment %>% group_by(DRG.Definition, Provider.State, Year) %>%\n",
    "        summarise(count =n(),\n",
    "                  State.mean.total.discharges          = mean(Total.Discharges),\n",
    "                  State.mean.average.covered.charges   = mean(Average.Covered.Charges),\n",
    "                  State.mean.average.total.payments    = mean(Average.Total.Payments),\n",
    "                  State.mean.average.medicare.payments = mean(Average.Medicare.Payments))\n",
    "                 \n",
    "dim(drg.by.state); "
   ]
  },
  {
   "cell_type": "code",
   "execution_count": 155,
   "metadata": {},
   "outputs": [],
   "source": [
    "#head(drg.by.state)"
   ]
  },
  {
   "cell_type": "code",
   "execution_count": 327,
   "metadata": {
    "scrolled": true
   },
   "outputs": [
    {
     "data": {
      "text/html": [
       "<table>\n",
       "<thead><tr><th scope=col>Provider.State</th><th scope=col>totalcost</th><th scope=col>percent</th></tr></thead>\n",
       "<tbody>\n",
       "\t<tr><td>CA        </td><td>1476417090</td><td>13.295152 </td></tr>\n",
       "\t<tr><td>FL        </td><td>1043924734</td><td> 9.400554 </td></tr>\n",
       "\t<tr><td>TX        </td><td> 903280136</td><td> 8.134048 </td></tr>\n",
       "\t<tr><td>NY        </td><td> 622842762</td><td> 5.608706 </td></tr>\n",
       "\t<tr><td>PA        </td><td> 607312763</td><td> 5.468858 </td></tr>\n",
       "\t<tr><td>NJ        </td><td> 588864040</td><td> 5.302727 </td></tr>\n",
       "\t<tr><td>IL        </td><td> 468739789</td><td> 4.221007 </td></tr>\n",
       "\t<tr><td>OH        </td><td> 347818153</td><td> 3.132106 </td></tr>\n",
       "\t<tr><td>GA        </td><td> 275049708</td><td> 2.476826 </td></tr>\n",
       "\t<tr><td>MI        </td><td> 270847939</td><td> 2.438989 </td></tr>\n",
       "</tbody>\n",
       "</table>\n"
      ],
      "text/latex": [
       "\\begin{tabular}{r|lll}\n",
       " Provider.State & totalcost & percent\\\\\n",
       "\\hline\n",
       "\t CA         & 1476417090 & 13.295152 \\\\\n",
       "\t FL         & 1043924734 &  9.400554 \\\\\n",
       "\t TX         &  903280136 &  8.134048 \\\\\n",
       "\t NY         &  622842762 &  5.608706 \\\\\n",
       "\t PA         &  607312763 &  5.468858 \\\\\n",
       "\t NJ         &  588864040 &  5.302727 \\\\\n",
       "\t IL         &  468739789 &  4.221007 \\\\\n",
       "\t OH         &  347818153 &  3.132106 \\\\\n",
       "\t GA         &  275049708 &  2.476826 \\\\\n",
       "\t MI         &  270847939 &  2.438989 \\\\\n",
       "\\end{tabular}\n"
      ],
      "text/markdown": [
       "\n",
       "| Provider.State | totalcost | percent |\n",
       "|---|---|---|\n",
       "| CA         | 1476417090 | 13.295152  |\n",
       "| FL         | 1043924734 |  9.400554  |\n",
       "| TX         |  903280136 |  8.134048  |\n",
       "| NY         |  622842762 |  5.608706  |\n",
       "| PA         |  607312763 |  5.468858  |\n",
       "| NJ         |  588864040 |  5.302727  |\n",
       "| IL         |  468739789 |  4.221007  |\n",
       "| OH         |  347818153 |  3.132106  |\n",
       "| GA         |  275049708 |  2.476826  |\n",
       "| MI         |  270847939 |  2.438989  |\n",
       "\n"
      ],
      "text/plain": [
       "   Provider.State totalcost  percent  \n",
       "1  CA             1476417090 13.295152\n",
       "2  FL             1043924734  9.400554\n",
       "3  TX              903280136  8.134048\n",
       "4  NY              622842762  5.608706\n",
       "5  PA              607312763  5.468858\n",
       "6  NJ              588864040  5.302727\n",
       "7  IL              468739789  4.221007\n",
       "8  OH              347818153  3.132106\n",
       "9  GA              275049708  2.476826\n",
       "10 MI              270847939  2.438989"
      ]
     },
     "metadata": {},
     "output_type": "display_data"
    },
    {
     "data": {
      "text/html": [
       "<table>\n",
       "<thead><tr><th scope=col>Provider.State</th><th scope=col>totalcost</th><th scope=col>percent</th></tr></thead>\n",
       "<tbody>\n",
       "\t<tr><td>CA        </td><td>1543588503</td><td>13.436414 </td></tr>\n",
       "\t<tr><td>FL        </td><td>1085126069</td><td> 9.445654 </td></tr>\n",
       "\t<tr><td>TX        </td><td> 946373103</td><td> 8.237857 </td></tr>\n",
       "\t<tr><td>NY        </td><td> 662826978</td><td> 5.769684 </td></tr>\n",
       "\t<tr><td>PA        </td><td> 616029882</td><td> 5.362331 </td></tr>\n",
       "\t<tr><td>NJ        </td><td> 585908481</td><td> 5.100135 </td></tr>\n",
       "\t<tr><td>IL        </td><td> 474406700</td><td> 4.129549 </td></tr>\n",
       "\t<tr><td>OH        </td><td> 369976137</td><td> 3.220517 </td></tr>\n",
       "\t<tr><td>GA        </td><td> 284286871</td><td> 2.474621 </td></tr>\n",
       "\t<tr><td>VA        </td><td> 277670938</td><td> 2.417031 </td></tr>\n",
       "</tbody>\n",
       "</table>\n"
      ],
      "text/latex": [
       "\\begin{tabular}{r|lll}\n",
       " Provider.State & totalcost & percent\\\\\n",
       "\\hline\n",
       "\t CA         & 1543588503 & 13.436414 \\\\\n",
       "\t FL         & 1085126069 &  9.445654 \\\\\n",
       "\t TX         &  946373103 &  8.237857 \\\\\n",
       "\t NY         &  662826978 &  5.769684 \\\\\n",
       "\t PA         &  616029882 &  5.362331 \\\\\n",
       "\t NJ         &  585908481 &  5.100135 \\\\\n",
       "\t IL         &  474406700 &  4.129549 \\\\\n",
       "\t OH         &  369976137 &  3.220517 \\\\\n",
       "\t GA         &  284286871 &  2.474621 \\\\\n",
       "\t VA         &  277670938 &  2.417031 \\\\\n",
       "\\end{tabular}\n"
      ],
      "text/markdown": [
       "\n",
       "| Provider.State | totalcost | percent |\n",
       "|---|---|---|\n",
       "| CA         | 1543588503 | 13.436414  |\n",
       "| FL         | 1085126069 |  9.445654  |\n",
       "| TX         |  946373103 |  8.237857  |\n",
       "| NY         |  662826978 |  5.769684  |\n",
       "| PA         |  616029882 |  5.362331  |\n",
       "| NJ         |  585908481 |  5.100135  |\n",
       "| IL         |  474406700 |  4.129549  |\n",
       "| OH         |  369976137 |  3.220517  |\n",
       "| GA         |  284286871 |  2.474621  |\n",
       "| VA         |  277670938 |  2.417031  |\n",
       "\n"
      ],
      "text/plain": [
       "   Provider.State totalcost  percent  \n",
       "1  CA             1543588503 13.436414\n",
       "2  FL             1085126069  9.445654\n",
       "3  TX              946373103  8.237857\n",
       "4  NY              662826978  5.769684\n",
       "5  PA              616029882  5.362331\n",
       "6  NJ              585908481  5.100135\n",
       "7  IL              474406700  4.129549\n",
       "8  OH              369976137  3.220517\n",
       "9  GA              284286871  2.474621\n",
       "10 VA              277670938  2.417031"
      ]
     },
     "metadata": {},
     "output_type": "display_data"
    },
    {
     "data": {
      "text/html": [
       "<table>\n",
       "<thead><tr><th scope=col>Provider.State</th><th scope=col>totalcost</th><th scope=col>percent</th></tr></thead>\n",
       "<tbody>\n",
       "\t<tr><td>CA        </td><td>1619088701</td><td>13.482918 </td></tr>\n",
       "\t<tr><td>FL        </td><td>1137603834</td><td> 9.473365 </td></tr>\n",
       "\t<tr><td>TX        </td><td> 989987617</td><td> 8.244095 </td></tr>\n",
       "\t<tr><td>NY        </td><td> 693400053</td><td> 5.774270 </td></tr>\n",
       "\t<tr><td>PA        </td><td> 642160074</td><td> 5.347571 </td></tr>\n",
       "\t<tr><td>NJ        </td><td> 569842839</td><td> 4.745351 </td></tr>\n",
       "\t<tr><td>IL        </td><td> 493844773</td><td> 4.112479 </td></tr>\n",
       "\t<tr><td>OH        </td><td> 387530017</td><td> 3.227146 </td></tr>\n",
       "\t<tr><td>GA        </td><td> 302108690</td><td> 2.515802 </td></tr>\n",
       "\t<tr><td>VA        </td><td> 297896863</td><td> 2.480728 </td></tr>\n",
       "</tbody>\n",
       "</table>\n"
      ],
      "text/latex": [
       "\\begin{tabular}{r|lll}\n",
       " Provider.State & totalcost & percent\\\\\n",
       "\\hline\n",
       "\t CA         & 1619088701 & 13.482918 \\\\\n",
       "\t FL         & 1137603834 &  9.473365 \\\\\n",
       "\t TX         &  989987617 &  8.244095 \\\\\n",
       "\t NY         &  693400053 &  5.774270 \\\\\n",
       "\t PA         &  642160074 &  5.347571 \\\\\n",
       "\t NJ         &  569842839 &  4.745351 \\\\\n",
       "\t IL         &  493844773 &  4.112479 \\\\\n",
       "\t OH         &  387530017 &  3.227146 \\\\\n",
       "\t GA         &  302108690 &  2.515802 \\\\\n",
       "\t VA         &  297896863 &  2.480728 \\\\\n",
       "\\end{tabular}\n"
      ],
      "text/markdown": [
       "\n",
       "| Provider.State | totalcost | percent |\n",
       "|---|---|---|\n",
       "| CA         | 1619088701 | 13.482918  |\n",
       "| FL         | 1137603834 |  9.473365  |\n",
       "| TX         |  989987617 |  8.244095  |\n",
       "| NY         |  693400053 |  5.774270  |\n",
       "| PA         |  642160074 |  5.347571  |\n",
       "| NJ         |  569842839 |  4.745351  |\n",
       "| IL         |  493844773 |  4.112479  |\n",
       "| OH         |  387530017 |  3.227146  |\n",
       "| GA         |  302108690 |  2.515802  |\n",
       "| VA         |  297896863 |  2.480728  |\n",
       "\n"
      ],
      "text/plain": [
       "   Provider.State totalcost  percent  \n",
       "1  CA             1619088701 13.482918\n",
       "2  FL             1137603834  9.473365\n",
       "3  TX              989987617  8.244095\n",
       "4  NY              693400053  5.774270\n",
       "5  PA              642160074  5.347571\n",
       "6  NJ              569842839  4.745351\n",
       "7  IL              493844773  4.112479\n",
       "8  OH              387530017  3.227146\n",
       "9  GA              302108690  2.515802\n",
       "10 VA              297896863  2.480728"
      ]
     },
     "metadata": {},
     "output_type": "display_data"
    }
   ],
   "source": [
    "usstates1 <- payment %>%\n",
    "  group_by(Provider.State) %>% filter(Year == 2015) %>%\n",
    "  summarize(totalcost = sum(Average.Covered.Charges, na.rm =TRUE))%>%\n",
    "  mutate(percent = (totalcost/sum(totalcost))*100)%>%\n",
    "  arrange(desc(totalcost))\n",
    "\n",
    "head(usstates1, 10)\n",
    "usstates1 <- payment %>%\n",
    "  group_by(Provider.State) %>% filter(Year == 2016) %>%\n",
    "  summarize(totalcost = sum(Average.Covered.Charges, na.rm =TRUE))%>%\n",
    "  mutate(percent = (totalcost/sum(totalcost))*100)%>%\n",
    "  arrange(desc(totalcost))\n",
    "\n",
    "head(usstates1, 10)\n",
    "\n",
    "usstates1 <- payment %>%\n",
    "  group_by(Provider.State) %>% filter(Year == 2017) %>%\n",
    "  summarize(totalcost = sum(Average.Covered.Charges, na.rm =TRUE))%>%\n",
    "  mutate(percent = (totalcost/sum(totalcost))*100)%>%\n",
    "  arrange(desc(totalcost))\n",
    "\n",
    "head(usstates1, 10)"
   ]
  },
  {
   "cell_type": "markdown",
   "metadata": {},
   "source": [
    "#####Most common hospital discharges within 3 years, and how it changed over time. \"871 - SEPTICEMIA OR SEVERE SEPSIS W/O MV 96+ HOURS W MCC\t\" is leading"
   ]
  },
  {
   "cell_type": "code",
   "execution_count": 328,
   "metadata": {},
   "outputs": [
    {
     "data": {
      "text/html": [
       "<table>\n",
       "<thead><tr><th scope=col>DRG.Definition</th><th scope=col>total.discharges</th><th scope=col>percent</th></tr></thead>\n",
       "<tbody>\n",
       "\t<tr><td>871 - SEPTICEMIA OR SEVERE SEPSIS W/O MV 96+ HOURS W MCC                </td><td>521358                                                                  </td><td>0.07013846                                                              </td></tr>\n",
       "\t<tr><td>470 - MAJOR JOINT REPLACEMENT OR REATTACHMENT OF LOWER EXTREMITY W/O MCC</td><td>463930                                                                  </td><td>0.06241266                                                              </td></tr>\n",
       "\t<tr><td><span style=white-space:pre-wrap>291 - HEART FAILURE &amp; SHOCK W MCC                                       </span></td><td>221654                                                                                                              </td><td>0.02981919                                                                                                          </td></tr>\n",
       "\t<tr><td><span style=white-space:pre-wrap>292 - HEART FAILURE &amp; SHOCK W CC                                        </span></td><td>192975                                                                                                              </td><td>0.02596099                                                                                                          </td></tr>\n",
       "\t<tr><td><span style=white-space:pre-wrap>392 - ESOPHAGITIS, GASTROENT &amp; MISC DIGEST DISORDERS W/O MCC            </span></td><td>182443                                                                                                              </td><td>0.02454412                                                                                                          </td></tr>\n",
       "\t<tr><td><span style=white-space:pre-wrap>690 - KIDNEY &amp; URINARY TRACT INFECTIONS W/O MCC                         </span></td><td>150680                                                                                                              </td><td>0.02027103                                                                                                          </td></tr>\n",
       "\t<tr><td><span style=white-space:pre-wrap>872 - SEPTICEMIA OR SEVERE SEPSIS W/O MV &gt;96 HOURS W/O MCC              </span></td><td>150151                                                                                                             </td><td>0.02019986                                                                                                         </td></tr>\n",
       "\t<tr><td><span style=white-space:pre-wrap>194 - SIMPLE PNEUMONIA &amp; PLEURISY W CC                                  </span></td><td>148886                                                                                                              </td><td>0.02002968                                                                                                          </td></tr>\n",
       "\t<tr><td>683 - RENAL FAILURE W CC                                                </td><td>147311                                                                  </td><td>0.01981780                                                              </td></tr>\n",
       "\t<tr><td><span style=white-space:pre-wrap>193 - SIMPLE PNEUMONIA &amp; PLEURISY W MCC                                 </span></td><td>144595                                                                                                              </td><td>0.01945241                                                                                                          </td></tr>\n",
       "</tbody>\n",
       "</table>\n"
      ],
      "text/latex": [
       "\\begin{tabular}{r|lll}\n",
       " DRG.Definition & total.discharges & percent\\\\\n",
       "\\hline\n",
       "\t 871 - SEPTICEMIA OR SEVERE SEPSIS W/O MV 96+ HOURS W MCC                 & 521358                                                                   & 0.07013846                                                              \\\\\n",
       "\t 470 - MAJOR JOINT REPLACEMENT OR REATTACHMENT OF LOWER EXTREMITY W/O MCC & 463930                                                                   & 0.06241266                                                              \\\\\n",
       "\t 291 - HEART FAILURE \\& SHOCK W MCC                                        & 221654                                                                     & 0.02981919                                                                \\\\\n",
       "\t 292 - HEART FAILURE \\& SHOCK W CC                                         & 192975                                                                     & 0.02596099                                                                \\\\\n",
       "\t 392 - ESOPHAGITIS, GASTROENT \\& MISC DIGEST DISORDERS W/O MCC             & 182443                                                                     & 0.02454412                                                                \\\\\n",
       "\t 690 - KIDNEY \\& URINARY TRACT INFECTIONS W/O MCC                          & 150680                                                                     & 0.02027103                                                                \\\\\n",
       "\t 872 - SEPTICEMIA OR SEVERE SEPSIS W/O MV >96 HOURS W/O MCC               & 150151                                                                   & 0.02019986                                                              \\\\\n",
       "\t 194 - SIMPLE PNEUMONIA \\& PLEURISY W CC                                   & 148886                                                                     & 0.02002968                                                                \\\\\n",
       "\t 683 - RENAL FAILURE W CC                                                 & 147311                                                                   & 0.01981780                                                              \\\\\n",
       "\t 193 - SIMPLE PNEUMONIA \\& PLEURISY W MCC                                  & 144595                                                                     & 0.01945241                                                                \\\\\n",
       "\\end{tabular}\n"
      ],
      "text/markdown": [
       "\n",
       "| DRG.Definition | total.discharges | percent |\n",
       "|---|---|---|\n",
       "| 871 - SEPTICEMIA OR SEVERE SEPSIS W/O MV 96+ HOURS W MCC                 | 521358                                                                   | 0.07013846                                                               |\n",
       "| 470 - MAJOR JOINT REPLACEMENT OR REATTACHMENT OF LOWER EXTREMITY W/O MCC | 463930                                                                   | 0.06241266                                                               |\n",
       "| 291 - HEART FAILURE & SHOCK W MCC                                        | 221654                                                                   | 0.02981919                                                               |\n",
       "| 292 - HEART FAILURE & SHOCK W CC                                         | 192975                                                                   | 0.02596099                                                               |\n",
       "| 392 - ESOPHAGITIS, GASTROENT & MISC DIGEST DISORDERS W/O MCC             | 182443                                                                   | 0.02454412                                                               |\n",
       "| 690 - KIDNEY & URINARY TRACT INFECTIONS W/O MCC                          | 150680                                                                   | 0.02027103                                                               |\n",
       "| 872 - SEPTICEMIA OR SEVERE SEPSIS W/O MV >96 HOURS W/O MCC               | 150151                                                                   | 0.02019986                                                               |\n",
       "| 194 - SIMPLE PNEUMONIA & PLEURISY W CC                                   | 148886                                                                   | 0.02002968                                                               |\n",
       "| 683 - RENAL FAILURE W CC                                                 | 147311                                                                   | 0.01981780                                                               |\n",
       "| 193 - SIMPLE PNEUMONIA & PLEURISY W MCC                                  | 144595                                                                   | 0.01945241                                                               |\n",
       "\n"
      ],
      "text/plain": [
       "   DRG.Definition                                                          \n",
       "1  871 - SEPTICEMIA OR SEVERE SEPSIS W/O MV 96+ HOURS W MCC                \n",
       "2  470 - MAJOR JOINT REPLACEMENT OR REATTACHMENT OF LOWER EXTREMITY W/O MCC\n",
       "3  291 - HEART FAILURE & SHOCK W MCC                                       \n",
       "4  292 - HEART FAILURE & SHOCK W CC                                        \n",
       "5  392 - ESOPHAGITIS, GASTROENT & MISC DIGEST DISORDERS W/O MCC            \n",
       "6  690 - KIDNEY & URINARY TRACT INFECTIONS W/O MCC                         \n",
       "7  872 - SEPTICEMIA OR SEVERE SEPSIS W/O MV >96 HOURS W/O MCC              \n",
       "8  194 - SIMPLE PNEUMONIA & PLEURISY W CC                                  \n",
       "9  683 - RENAL FAILURE W CC                                                \n",
       "10 193 - SIMPLE PNEUMONIA & PLEURISY W MCC                                 \n",
       "   total.discharges percent   \n",
       "1  521358           0.07013846\n",
       "2  463930           0.06241266\n",
       "3  221654           0.02981919\n",
       "4  192975           0.02596099\n",
       "5  182443           0.02454412\n",
       "6  150680           0.02027103\n",
       "7  150151           0.02019986\n",
       "8  148886           0.02002968\n",
       "9  147311           0.01981780\n",
       "10 144595           0.01945241"
      ]
     },
     "metadata": {},
     "output_type": "display_data"
    },
    {
     "data": {
      "text/html": [
       "<table>\n",
       "<thead><tr><th scope=col>DRG.Definition</th><th scope=col>total.discharges</th><th scope=col>percent</th></tr></thead>\n",
       "<tbody>\n",
       "\t<tr><td><span style=white-space:pre-wrap>871 - SEPTICEMIA OR SEVERE SEPSIS W/O MV &gt;96 HOURS W MCC                </span></td><td>530050.4                                                                                                           </td><td>0.07332161                                                                                                         </td></tr>\n",
       "\t<tr><td>470 - MAJOR JOINT REPLACEMENT OR REATTACHMENT OF LOWER EXTREMITY W/O MCC</td><td>462864.6                                                                </td><td>0.06402783                                                              </td></tr>\n",
       "\t<tr><td><span style=white-space:pre-wrap>291 - HEART FAILURE &amp; SHOCK W MCC                                       </span></td><td>233015.0                                                                                                            </td><td>0.03223285                                                                                                          </td></tr>\n",
       "\t<tr><td><span style=white-space:pre-wrap>292 - HEART FAILURE &amp; SHOCK W CC                                        </span></td><td>181587.0                                                                                                            </td><td>0.02511884                                                                                                          </td></tr>\n",
       "\t<tr><td><span style=white-space:pre-wrap>392 - ESOPHAGITIS, GASTROENT &amp; MISC DIGEST DISORDERS W/O MCC            </span></td><td>165909.1                                                                                                            </td><td>0.02295013                                                                                                          </td></tr>\n",
       "\t<tr><td><span style=white-space:pre-wrap>872 - SEPTICEMIA OR SEVERE SEPSIS W/O MV &gt;96 HOURS W/O MCC              </span></td><td>151092.0                                                                                                           </td><td>0.02090048                                                                                                         </td></tr>\n",
       "\t<tr><td><span style=white-space:pre-wrap>690 - KIDNEY &amp; URINARY TRACT INFECTIONS W/O MCC                         </span></td><td>144212.0                                                                                                            </td><td>0.01994877                                                                                                          </td></tr>\n",
       "\t<tr><td><span style=white-space:pre-wrap>189 - PULMONARY EDEMA &amp; RESPIRATORY FAILURE                             </span></td><td>142982.0                                                                                                            </td><td>0.01977863                                                                                                          </td></tr>\n",
       "\t<tr><td>683 - RENAL FAILURE W CC                                                </td><td>141759.0                                                                </td><td>0.01960945                                                              </td></tr>\n",
       "\t<tr><td><span style=white-space:pre-wrap>193 - SIMPLE PNEUMONIA &amp; PLEURISY W MCC                                 </span></td><td>137674.0                                                                                                            </td><td>0.01904438                                                                                                          </td></tr>\n",
       "</tbody>\n",
       "</table>\n"
      ],
      "text/latex": [
       "\\begin{tabular}{r|lll}\n",
       " DRG.Definition & total.discharges & percent\\\\\n",
       "\\hline\n",
       "\t 871 - SEPTICEMIA OR SEVERE SEPSIS W/O MV >96 HOURS W MCC                 & 530050.4                                                                 & 0.07332161                                                              \\\\\n",
       "\t 470 - MAJOR JOINT REPLACEMENT OR REATTACHMENT OF LOWER EXTREMITY W/O MCC & 462864.6                                                                 & 0.06402783                                                              \\\\\n",
       "\t 291 - HEART FAILURE \\& SHOCK W MCC                                        & 233015.0                                                                   & 0.03223285                                                                \\\\\n",
       "\t 292 - HEART FAILURE \\& SHOCK W CC                                         & 181587.0                                                                   & 0.02511884                                                                \\\\\n",
       "\t 392 - ESOPHAGITIS, GASTROENT \\& MISC DIGEST DISORDERS W/O MCC             & 165909.1                                                                   & 0.02295013                                                                \\\\\n",
       "\t 872 - SEPTICEMIA OR SEVERE SEPSIS W/O MV >96 HOURS W/O MCC               & 151092.0                                                                 & 0.02090048                                                              \\\\\n",
       "\t 690 - KIDNEY \\& URINARY TRACT INFECTIONS W/O MCC                          & 144212.0                                                                   & 0.01994877                                                                \\\\\n",
       "\t 189 - PULMONARY EDEMA \\& RESPIRATORY FAILURE                              & 142982.0                                                                   & 0.01977863                                                                \\\\\n",
       "\t 683 - RENAL FAILURE W CC                                                 & 141759.0                                                                 & 0.01960945                                                              \\\\\n",
       "\t 193 - SIMPLE PNEUMONIA \\& PLEURISY W MCC                                  & 137674.0                                                                   & 0.01904438                                                                \\\\\n",
       "\\end{tabular}\n"
      ],
      "text/markdown": [
       "\n",
       "| DRG.Definition | total.discharges | percent |\n",
       "|---|---|---|\n",
       "| 871 - SEPTICEMIA OR SEVERE SEPSIS W/O MV >96 HOURS W MCC                 | 530050.4                                                                 | 0.07332161                                                               |\n",
       "| 470 - MAJOR JOINT REPLACEMENT OR REATTACHMENT OF LOWER EXTREMITY W/O MCC | 462864.6                                                                 | 0.06402783                                                               |\n",
       "| 291 - HEART FAILURE & SHOCK W MCC                                        | 233015.0                                                                 | 0.03223285                                                               |\n",
       "| 292 - HEART FAILURE & SHOCK W CC                                         | 181587.0                                                                 | 0.02511884                                                               |\n",
       "| 392 - ESOPHAGITIS, GASTROENT & MISC DIGEST DISORDERS W/O MCC             | 165909.1                                                                 | 0.02295013                                                               |\n",
       "| 872 - SEPTICEMIA OR SEVERE SEPSIS W/O MV >96 HOURS W/O MCC               | 151092.0                                                                 | 0.02090048                                                               |\n",
       "| 690 - KIDNEY & URINARY TRACT INFECTIONS W/O MCC                          | 144212.0                                                                 | 0.01994877                                                               |\n",
       "| 189 - PULMONARY EDEMA & RESPIRATORY FAILURE                              | 142982.0                                                                 | 0.01977863                                                               |\n",
       "| 683 - RENAL FAILURE W CC                                                 | 141759.0                                                                 | 0.01960945                                                               |\n",
       "| 193 - SIMPLE PNEUMONIA & PLEURISY W MCC                                  | 137674.0                                                                 | 0.01904438                                                               |\n",
       "\n"
      ],
      "text/plain": [
       "   DRG.Definition                                                          \n",
       "1  871 - SEPTICEMIA OR SEVERE SEPSIS W/O MV >96 HOURS W MCC                \n",
       "2  470 - MAJOR JOINT REPLACEMENT OR REATTACHMENT OF LOWER EXTREMITY W/O MCC\n",
       "3  291 - HEART FAILURE & SHOCK W MCC                                       \n",
       "4  292 - HEART FAILURE & SHOCK W CC                                        \n",
       "5  392 - ESOPHAGITIS, GASTROENT & MISC DIGEST DISORDERS W/O MCC            \n",
       "6  872 - SEPTICEMIA OR SEVERE SEPSIS W/O MV >96 HOURS W/O MCC              \n",
       "7  690 - KIDNEY & URINARY TRACT INFECTIONS W/O MCC                         \n",
       "8  189 - PULMONARY EDEMA & RESPIRATORY FAILURE                             \n",
       "9  683 - RENAL FAILURE W CC                                                \n",
       "10 193 - SIMPLE PNEUMONIA & PLEURISY W MCC                                 \n",
       "   total.discharges percent   \n",
       "1  530050.4         0.07332161\n",
       "2  462864.6         0.06402783\n",
       "3  233015.0         0.03223285\n",
       "4  181587.0         0.02511884\n",
       "5  165909.1         0.02295013\n",
       "6  151092.0         0.02090048\n",
       "7  144212.0         0.01994877\n",
       "8  142982.0         0.01977863\n",
       "9  141759.0         0.01960945\n",
       "10 137674.0         0.01904438"
      ]
     },
     "metadata": {},
     "output_type": "display_data"
    },
    {
     "data": {
      "text/html": [
       "<table>\n",
       "<thead><tr><th scope=col>DRG.Definition</th><th scope=col>total.discharges</th><th scope=col>percent</th></tr></thead>\n",
       "<tbody>\n",
       "\t<tr><td><span style=white-space:pre-wrap>871 - SEPTICEMIA OR SEVERE SEPSIS W/O MV &gt;96 HOURS W MCC                </span></td><td>597736                                                                                                             </td><td>0.08096455                                                                                                         </td></tr>\n",
       "\t<tr><td>470 - MAJOR JOINT REPLACEMENT OR REATTACHMENT OF LOWER EXTREMITY W/O MCC</td><td>510632                                                                  </td><td>0.06916614                                                              </td></tr>\n",
       "\t<tr><td><span style=white-space:pre-wrap>291 - HEART FAILURE &amp; SHOCK W MCC                                       </span></td><td>359442                                                                                                              </td><td>0.04868714                                                                                                          </td></tr>\n",
       "\t<tr><td>190 - CHRONIC OBSTRUCTIVE PULMONARY DISEASE W MCC                       </td><td>215525                                                                  </td><td>0.02919330                                                              </td></tr>\n",
       "\t<tr><td><span style=white-space:pre-wrap>189 - PULMONARY EDEMA &amp; RESPIRATORY FAILURE                             </span></td><td>165613                                                                                                              </td><td>0.02243262                                                                                                          </td></tr>\n",
       "\t<tr><td><span style=white-space:pre-wrap>872 - SEPTICEMIA OR SEVERE SEPSIS W/O MV &gt;96 HOURS W/O MCC              </span></td><td>157851                                                                                                             </td><td>0.02138124                                                                                                         </td></tr>\n",
       "\t<tr><td><span style=white-space:pre-wrap>392 - ESOPHAGITIS, GASTROENT &amp; MISC DIGEST DISORDERS W/O MCC            </span></td><td>155843                                                                                                              </td><td>0.02110925                                                                                                          </td></tr>\n",
       "\t<tr><td><span style=white-space:pre-wrap>690 - KIDNEY &amp; URINARY TRACT INFECTIONS W/O MCC                         </span></td><td>138497                                                                                                              </td><td>0.01875970                                                                                                          </td></tr>\n",
       "\t<tr><td>683 - RENAL FAILURE W CC                                                </td><td>134011                                                                  </td><td>0.01815206                                                              </td></tr>\n",
       "\t<tr><td>378 - G.I. HEMORRHAGE W CC                                              </td><td>131163                                                                  </td><td>0.01776629                                                              </td></tr>\n",
       "</tbody>\n",
       "</table>\n"
      ],
      "text/latex": [
       "\\begin{tabular}{r|lll}\n",
       " DRG.Definition & total.discharges & percent\\\\\n",
       "\\hline\n",
       "\t 871 - SEPTICEMIA OR SEVERE SEPSIS W/O MV >96 HOURS W MCC                 & 597736                                                                   & 0.08096455                                                              \\\\\n",
       "\t 470 - MAJOR JOINT REPLACEMENT OR REATTACHMENT OF LOWER EXTREMITY W/O MCC & 510632                                                                   & 0.06916614                                                              \\\\\n",
       "\t 291 - HEART FAILURE \\& SHOCK W MCC                                        & 359442                                                                     & 0.04868714                                                                \\\\\n",
       "\t 190 - CHRONIC OBSTRUCTIVE PULMONARY DISEASE W MCC                        & 215525                                                                   & 0.02919330                                                              \\\\\n",
       "\t 189 - PULMONARY EDEMA \\& RESPIRATORY FAILURE                              & 165613                                                                     & 0.02243262                                                                \\\\\n",
       "\t 872 - SEPTICEMIA OR SEVERE SEPSIS W/O MV >96 HOURS W/O MCC               & 157851                                                                   & 0.02138124                                                              \\\\\n",
       "\t 392 - ESOPHAGITIS, GASTROENT \\& MISC DIGEST DISORDERS W/O MCC             & 155843                                                                     & 0.02110925                                                                \\\\\n",
       "\t 690 - KIDNEY \\& URINARY TRACT INFECTIONS W/O MCC                          & 138497                                                                     & 0.01875970                                                                \\\\\n",
       "\t 683 - RENAL FAILURE W CC                                                 & 134011                                                                   & 0.01815206                                                              \\\\\n",
       "\t 378 - G.I. HEMORRHAGE W CC                                               & 131163                                                                   & 0.01776629                                                              \\\\\n",
       "\\end{tabular}\n"
      ],
      "text/markdown": [
       "\n",
       "| DRG.Definition | total.discharges | percent |\n",
       "|---|---|---|\n",
       "| 871 - SEPTICEMIA OR SEVERE SEPSIS W/O MV >96 HOURS W MCC                 | 597736                                                                   | 0.08096455                                                               |\n",
       "| 470 - MAJOR JOINT REPLACEMENT OR REATTACHMENT OF LOWER EXTREMITY W/O MCC | 510632                                                                   | 0.06916614                                                               |\n",
       "| 291 - HEART FAILURE & SHOCK W MCC                                        | 359442                                                                   | 0.04868714                                                               |\n",
       "| 190 - CHRONIC OBSTRUCTIVE PULMONARY DISEASE W MCC                        | 215525                                                                   | 0.02919330                                                               |\n",
       "| 189 - PULMONARY EDEMA & RESPIRATORY FAILURE                              | 165613                                                                   | 0.02243262                                                               |\n",
       "| 872 - SEPTICEMIA OR SEVERE SEPSIS W/O MV >96 HOURS W/O MCC               | 157851                                                                   | 0.02138124                                                               |\n",
       "| 392 - ESOPHAGITIS, GASTROENT & MISC DIGEST DISORDERS W/O MCC             | 155843                                                                   | 0.02110925                                                               |\n",
       "| 690 - KIDNEY & URINARY TRACT INFECTIONS W/O MCC                          | 138497                                                                   | 0.01875970                                                               |\n",
       "| 683 - RENAL FAILURE W CC                                                 | 134011                                                                   | 0.01815206                                                               |\n",
       "| 378 - G.I. HEMORRHAGE W CC                                               | 131163                                                                   | 0.01776629                                                               |\n",
       "\n"
      ],
      "text/plain": [
       "   DRG.Definition                                                          \n",
       "1  871 - SEPTICEMIA OR SEVERE SEPSIS W/O MV >96 HOURS W MCC                \n",
       "2  470 - MAJOR JOINT REPLACEMENT OR REATTACHMENT OF LOWER EXTREMITY W/O MCC\n",
       "3  291 - HEART FAILURE & SHOCK W MCC                                       \n",
       "4  190 - CHRONIC OBSTRUCTIVE PULMONARY DISEASE W MCC                       \n",
       "5  189 - PULMONARY EDEMA & RESPIRATORY FAILURE                             \n",
       "6  872 - SEPTICEMIA OR SEVERE SEPSIS W/O MV >96 HOURS W/O MCC              \n",
       "7  392 - ESOPHAGITIS, GASTROENT & MISC DIGEST DISORDERS W/O MCC            \n",
       "8  690 - KIDNEY & URINARY TRACT INFECTIONS W/O MCC                         \n",
       "9  683 - RENAL FAILURE W CC                                                \n",
       "10 378 - G.I. HEMORRHAGE W CC                                              \n",
       "   total.discharges percent   \n",
       "1  597736           0.08096455\n",
       "2  510632           0.06916614\n",
       "3  359442           0.04868714\n",
       "4  215525           0.02919330\n",
       "5  165613           0.02243262\n",
       "6  157851           0.02138124\n",
       "7  155843           0.02110925\n",
       "8  138497           0.01875970\n",
       "9  134011           0.01815206\n",
       "10 131163           0.01776629"
      ]
     },
     "metadata": {},
     "output_type": "display_data"
    }
   ],
   "source": [
    "top10totaldischarges15 <- payment %>% filter(Year == 2015) %>% select(DRG.Definition, Total.Discharges) %>%\n",
    "group_by(DRG.Definition) %>% \n",
    "summarise(total.discharges = sum(Total.Discharges)) %>%\n",
    "mutate(percent = total.discharges/sum(total.discharges))%>%\n",
    "arrange(desc(total.discharges))\n",
    "head(top10totaldischarges15, 10)\n",
    "\n",
    "top10totaldischarges16 <- payment %>% filter(Year == 2016) %>% select(DRG.Definition, Total.Discharges) %>%\n",
    "group_by(DRG.Definition) %>% \n",
    "summarise(total.discharges = sum(Total.Discharges)) %>%\n",
    "mutate(percent = total.discharges/sum(total.discharges))%>%\n",
    "arrange(desc(total.discharges))\n",
    "head(top10totaldischarges16, 10)\n",
    "\n",
    "top10totaldischarges17 <- payment %>% filter(Year == 2017) %>% select(DRG.Definition, Total.Discharges) %>%\n",
    "group_by(DRG.Definition) %>% \n",
    "summarise(total.discharges = sum(Total.Discharges)) %>%\n",
    "mutate(percent = total.discharges/sum(total.discharges))%>%\n",
    "arrange(desc(total.discharges))\n",
    "head(top10totaldischarges17, 10)"
   ]
  },
  {
   "cell_type": "code",
   "execution_count": 329,
   "metadata": {},
   "outputs": [],
   "source": [
    "kak <- head(top10totaldischarges17, 10)"
   ]
  },
  {
   "cell_type": "code",
   "execution_count": 330,
   "metadata": {},
   "outputs": [
    {
     "data": {
      "text/html": [
       "<table>\n",
       "<thead><tr><th scope=col>DRG.Definition</th><th scope=col>total.discharges</th><th scope=col>percent</th></tr></thead>\n",
       "<tbody>\n",
       "\t<tr><td>871 - SEPTICEMIA OR SEVERE SEPSIS W/O MV 96+ HOURS W MCC                </td><td>521358                                                                  </td><td>0.07013846                                                              </td></tr>\n",
       "\t<tr><td>470 - MAJOR JOINT REPLACEMENT OR REATTACHMENT OF LOWER EXTREMITY W/O MCC</td><td>463930                                                                  </td><td>0.06241266                                                              </td></tr>\n",
       "\t<tr><td><span style=white-space:pre-wrap>291 - HEART FAILURE &amp; SHOCK W MCC                                       </span></td><td>221654                                                                                                              </td><td>0.02981919                                                                                                          </td></tr>\n",
       "\t<tr><td><span style=white-space:pre-wrap>292 - HEART FAILURE &amp; SHOCK W CC                                        </span></td><td>192975                                                                                                              </td><td>0.02596099                                                                                                          </td></tr>\n",
       "\t<tr><td><span style=white-space:pre-wrap>392 - ESOPHAGITIS, GASTROENT &amp; MISC DIGEST DISORDERS W/O MCC            </span></td><td>182443                                                                                                              </td><td>0.02454412                                                                                                          </td></tr>\n",
       "\t<tr><td><span style=white-space:pre-wrap>690 - KIDNEY &amp; URINARY TRACT INFECTIONS W/O MCC                         </span></td><td>150680                                                                                                              </td><td>0.02027103                                                                                                          </td></tr>\n",
       "\t<tr><td><span style=white-space:pre-wrap>872 - SEPTICEMIA OR SEVERE SEPSIS W/O MV &gt;96 HOURS W/O MCC              </span></td><td>150151                                                                                                             </td><td>0.02019986                                                                                                         </td></tr>\n",
       "\t<tr><td><span style=white-space:pre-wrap>194 - SIMPLE PNEUMONIA &amp; PLEURISY W CC                                  </span></td><td>148886                                                                                                              </td><td>0.02002968                                                                                                          </td></tr>\n",
       "\t<tr><td>683 - RENAL FAILURE W CC                                                </td><td>147311                                                                  </td><td>0.01981780                                                              </td></tr>\n",
       "\t<tr><td><span style=white-space:pre-wrap>193 - SIMPLE PNEUMONIA &amp; PLEURISY W MCC                                 </span></td><td>144595                                                                                                              </td><td>0.01945241                                                                                                          </td></tr>\n",
       "</tbody>\n",
       "</table>\n"
      ],
      "text/latex": [
       "\\begin{tabular}{r|lll}\n",
       " DRG.Definition & total.discharges & percent\\\\\n",
       "\\hline\n",
       "\t 871 - SEPTICEMIA OR SEVERE SEPSIS W/O MV 96+ HOURS W MCC                 & 521358                                                                   & 0.07013846                                                              \\\\\n",
       "\t 470 - MAJOR JOINT REPLACEMENT OR REATTACHMENT OF LOWER EXTREMITY W/O MCC & 463930                                                                   & 0.06241266                                                              \\\\\n",
       "\t 291 - HEART FAILURE \\& SHOCK W MCC                                        & 221654                                                                     & 0.02981919                                                                \\\\\n",
       "\t 292 - HEART FAILURE \\& SHOCK W CC                                         & 192975                                                                     & 0.02596099                                                                \\\\\n",
       "\t 392 - ESOPHAGITIS, GASTROENT \\& MISC DIGEST DISORDERS W/O MCC             & 182443                                                                     & 0.02454412                                                                \\\\\n",
       "\t 690 - KIDNEY \\& URINARY TRACT INFECTIONS W/O MCC                          & 150680                                                                     & 0.02027103                                                                \\\\\n",
       "\t 872 - SEPTICEMIA OR SEVERE SEPSIS W/O MV >96 HOURS W/O MCC               & 150151                                                                   & 0.02019986                                                              \\\\\n",
       "\t 194 - SIMPLE PNEUMONIA \\& PLEURISY W CC                                   & 148886                                                                     & 0.02002968                                                                \\\\\n",
       "\t 683 - RENAL FAILURE W CC                                                 & 147311                                                                   & 0.01981780                                                              \\\\\n",
       "\t 193 - SIMPLE PNEUMONIA \\& PLEURISY W MCC                                  & 144595                                                                     & 0.01945241                                                                \\\\\n",
       "\\end{tabular}\n"
      ],
      "text/markdown": [
       "\n",
       "| DRG.Definition | total.discharges | percent |\n",
       "|---|---|---|\n",
       "| 871 - SEPTICEMIA OR SEVERE SEPSIS W/O MV 96+ HOURS W MCC                 | 521358                                                                   | 0.07013846                                                               |\n",
       "| 470 - MAJOR JOINT REPLACEMENT OR REATTACHMENT OF LOWER EXTREMITY W/O MCC | 463930                                                                   | 0.06241266                                                               |\n",
       "| 291 - HEART FAILURE & SHOCK W MCC                                        | 221654                                                                   | 0.02981919                                                               |\n",
       "| 292 - HEART FAILURE & SHOCK W CC                                         | 192975                                                                   | 0.02596099                                                               |\n",
       "| 392 - ESOPHAGITIS, GASTROENT & MISC DIGEST DISORDERS W/O MCC             | 182443                                                                   | 0.02454412                                                               |\n",
       "| 690 - KIDNEY & URINARY TRACT INFECTIONS W/O MCC                          | 150680                                                                   | 0.02027103                                                               |\n",
       "| 872 - SEPTICEMIA OR SEVERE SEPSIS W/O MV >96 HOURS W/O MCC               | 150151                                                                   | 0.02019986                                                               |\n",
       "| 194 - SIMPLE PNEUMONIA & PLEURISY W CC                                   | 148886                                                                   | 0.02002968                                                               |\n",
       "| 683 - RENAL FAILURE W CC                                                 | 147311                                                                   | 0.01981780                                                               |\n",
       "| 193 - SIMPLE PNEUMONIA & PLEURISY W MCC                                  | 144595                                                                   | 0.01945241                                                               |\n",
       "\n"
      ],
      "text/plain": [
       "   DRG.Definition                                                          \n",
       "1  871 - SEPTICEMIA OR SEVERE SEPSIS W/O MV 96+ HOURS W MCC                \n",
       "2  470 - MAJOR JOINT REPLACEMENT OR REATTACHMENT OF LOWER EXTREMITY W/O MCC\n",
       "3  291 - HEART FAILURE & SHOCK W MCC                                       \n",
       "4  292 - HEART FAILURE & SHOCK W CC                                        \n",
       "5  392 - ESOPHAGITIS, GASTROENT & MISC DIGEST DISORDERS W/O MCC            \n",
       "6  690 - KIDNEY & URINARY TRACT INFECTIONS W/O MCC                         \n",
       "7  872 - SEPTICEMIA OR SEVERE SEPSIS W/O MV >96 HOURS W/O MCC              \n",
       "8  194 - SIMPLE PNEUMONIA & PLEURISY W CC                                  \n",
       "9  683 - RENAL FAILURE W CC                                                \n",
       "10 193 - SIMPLE PNEUMONIA & PLEURISY W MCC                                 \n",
       "   total.discharges percent   \n",
       "1  521358           0.07013846\n",
       "2  463930           0.06241266\n",
       "3  221654           0.02981919\n",
       "4  192975           0.02596099\n",
       "5  182443           0.02454412\n",
       "6  150680           0.02027103\n",
       "7  150151           0.02019986\n",
       "8  148886           0.02002968\n",
       "9  147311           0.01981780\n",
       "10 144595           0.01945241"
      ]
     },
     "metadata": {},
     "output_type": "display_data"
    },
    {
     "data": {
      "text/html": [
       "<table>\n",
       "<thead><tr><th scope=col>DRG.Definition</th><th scope=col>total.discharges</th><th scope=col>percent</th></tr></thead>\n",
       "<tbody>\n",
       "\t<tr><td><span style=white-space:pre-wrap>871 - SEPTICEMIA OR SEVERE SEPSIS W/O MV &gt;96 HOURS W MCC                </span></td><td>530050.4                                                                                                           </td><td>0.07332161                                                                                                         </td></tr>\n",
       "\t<tr><td>470 - MAJOR JOINT REPLACEMENT OR REATTACHMENT OF LOWER EXTREMITY W/O MCC</td><td>462864.6                                                                </td><td>0.06402783                                                              </td></tr>\n",
       "\t<tr><td><span style=white-space:pre-wrap>291 - HEART FAILURE &amp; SHOCK W MCC                                       </span></td><td>233015.0                                                                                                            </td><td>0.03223285                                                                                                          </td></tr>\n",
       "\t<tr><td><span style=white-space:pre-wrap>292 - HEART FAILURE &amp; SHOCK W CC                                        </span></td><td>181587.0                                                                                                            </td><td>0.02511884                                                                                                          </td></tr>\n",
       "\t<tr><td><span style=white-space:pre-wrap>392 - ESOPHAGITIS, GASTROENT &amp; MISC DIGEST DISORDERS W/O MCC            </span></td><td>165909.1                                                                                                            </td><td>0.02295013                                                                                                          </td></tr>\n",
       "\t<tr><td><span style=white-space:pre-wrap>872 - SEPTICEMIA OR SEVERE SEPSIS W/O MV &gt;96 HOURS W/O MCC              </span></td><td>151092.0                                                                                                           </td><td>0.02090048                                                                                                         </td></tr>\n",
       "\t<tr><td><span style=white-space:pre-wrap>690 - KIDNEY &amp; URINARY TRACT INFECTIONS W/O MCC                         </span></td><td>144212.0                                                                                                            </td><td>0.01994877                                                                                                          </td></tr>\n",
       "\t<tr><td><span style=white-space:pre-wrap>189 - PULMONARY EDEMA &amp; RESPIRATORY FAILURE                             </span></td><td>142982.0                                                                                                            </td><td>0.01977863                                                                                                          </td></tr>\n",
       "\t<tr><td>683 - RENAL FAILURE W CC                                                </td><td>141759.0                                                                </td><td>0.01960945                                                              </td></tr>\n",
       "\t<tr><td><span style=white-space:pre-wrap>193 - SIMPLE PNEUMONIA &amp; PLEURISY W MCC                                 </span></td><td>137674.0                                                                                                            </td><td>0.01904438                                                                                                          </td></tr>\n",
       "</tbody>\n",
       "</table>\n"
      ],
      "text/latex": [
       "\\begin{tabular}{r|lll}\n",
       " DRG.Definition & total.discharges & percent\\\\\n",
       "\\hline\n",
       "\t 871 - SEPTICEMIA OR SEVERE SEPSIS W/O MV >96 HOURS W MCC                 & 530050.4                                                                 & 0.07332161                                                              \\\\\n",
       "\t 470 - MAJOR JOINT REPLACEMENT OR REATTACHMENT OF LOWER EXTREMITY W/O MCC & 462864.6                                                                 & 0.06402783                                                              \\\\\n",
       "\t 291 - HEART FAILURE \\& SHOCK W MCC                                        & 233015.0                                                                   & 0.03223285                                                                \\\\\n",
       "\t 292 - HEART FAILURE \\& SHOCK W CC                                         & 181587.0                                                                   & 0.02511884                                                                \\\\\n",
       "\t 392 - ESOPHAGITIS, GASTROENT \\& MISC DIGEST DISORDERS W/O MCC             & 165909.1                                                                   & 0.02295013                                                                \\\\\n",
       "\t 872 - SEPTICEMIA OR SEVERE SEPSIS W/O MV >96 HOURS W/O MCC               & 151092.0                                                                 & 0.02090048                                                              \\\\\n",
       "\t 690 - KIDNEY \\& URINARY TRACT INFECTIONS W/O MCC                          & 144212.0                                                                   & 0.01994877                                                                \\\\\n",
       "\t 189 - PULMONARY EDEMA \\& RESPIRATORY FAILURE                              & 142982.0                                                                   & 0.01977863                                                                \\\\\n",
       "\t 683 - RENAL FAILURE W CC                                                 & 141759.0                                                                 & 0.01960945                                                              \\\\\n",
       "\t 193 - SIMPLE PNEUMONIA \\& PLEURISY W MCC                                  & 137674.0                                                                   & 0.01904438                                                                \\\\\n",
       "\\end{tabular}\n"
      ],
      "text/markdown": [
       "\n",
       "| DRG.Definition | total.discharges | percent |\n",
       "|---|---|---|\n",
       "| 871 - SEPTICEMIA OR SEVERE SEPSIS W/O MV >96 HOURS W MCC                 | 530050.4                                                                 | 0.07332161                                                               |\n",
       "| 470 - MAJOR JOINT REPLACEMENT OR REATTACHMENT OF LOWER EXTREMITY W/O MCC | 462864.6                                                                 | 0.06402783                                                               |\n",
       "| 291 - HEART FAILURE & SHOCK W MCC                                        | 233015.0                                                                 | 0.03223285                                                               |\n",
       "| 292 - HEART FAILURE & SHOCK W CC                                         | 181587.0                                                                 | 0.02511884                                                               |\n",
       "| 392 - ESOPHAGITIS, GASTROENT & MISC DIGEST DISORDERS W/O MCC             | 165909.1                                                                 | 0.02295013                                                               |\n",
       "| 872 - SEPTICEMIA OR SEVERE SEPSIS W/O MV >96 HOURS W/O MCC               | 151092.0                                                                 | 0.02090048                                                               |\n",
       "| 690 - KIDNEY & URINARY TRACT INFECTIONS W/O MCC                          | 144212.0                                                                 | 0.01994877                                                               |\n",
       "| 189 - PULMONARY EDEMA & RESPIRATORY FAILURE                              | 142982.0                                                                 | 0.01977863                                                               |\n",
       "| 683 - RENAL FAILURE W CC                                                 | 141759.0                                                                 | 0.01960945                                                               |\n",
       "| 193 - SIMPLE PNEUMONIA & PLEURISY W MCC                                  | 137674.0                                                                 | 0.01904438                                                               |\n",
       "\n"
      ],
      "text/plain": [
       "   DRG.Definition                                                          \n",
       "1  871 - SEPTICEMIA OR SEVERE SEPSIS W/O MV >96 HOURS W MCC                \n",
       "2  470 - MAJOR JOINT REPLACEMENT OR REATTACHMENT OF LOWER EXTREMITY W/O MCC\n",
       "3  291 - HEART FAILURE & SHOCK W MCC                                       \n",
       "4  292 - HEART FAILURE & SHOCK W CC                                        \n",
       "5  392 - ESOPHAGITIS, GASTROENT & MISC DIGEST DISORDERS W/O MCC            \n",
       "6  872 - SEPTICEMIA OR SEVERE SEPSIS W/O MV >96 HOURS W/O MCC              \n",
       "7  690 - KIDNEY & URINARY TRACT INFECTIONS W/O MCC                         \n",
       "8  189 - PULMONARY EDEMA & RESPIRATORY FAILURE                             \n",
       "9  683 - RENAL FAILURE W CC                                                \n",
       "10 193 - SIMPLE PNEUMONIA & PLEURISY W MCC                                 \n",
       "   total.discharges percent   \n",
       "1  530050.4         0.07332161\n",
       "2  462864.6         0.06402783\n",
       "3  233015.0         0.03223285\n",
       "4  181587.0         0.02511884\n",
       "5  165909.1         0.02295013\n",
       "6  151092.0         0.02090048\n",
       "7  144212.0         0.01994877\n",
       "8  142982.0         0.01977863\n",
       "9  141759.0         0.01960945\n",
       "10 137674.0         0.01904438"
      ]
     },
     "metadata": {},
     "output_type": "display_data"
    },
    {
     "data": {
      "text/html": [
       "<table>\n",
       "<thead><tr><th scope=col>DRG.Definition</th><th scope=col>total.discharges</th><th scope=col>percent</th></tr></thead>\n",
       "<tbody>\n",
       "\t<tr><td><span style=white-space:pre-wrap>871 - SEPTICEMIA OR SEVERE SEPSIS W/O MV &gt;96 HOURS W MCC                </span></td><td>597736                                                                                                             </td><td>0.08096455                                                                                                         </td></tr>\n",
       "\t<tr><td>470 - MAJOR JOINT REPLACEMENT OR REATTACHMENT OF LOWER EXTREMITY W/O MCC</td><td>510632                                                                  </td><td>0.06916614                                                              </td></tr>\n",
       "\t<tr><td><span style=white-space:pre-wrap>291 - HEART FAILURE &amp; SHOCK W MCC                                       </span></td><td>359442                                                                                                              </td><td>0.04868714                                                                                                          </td></tr>\n",
       "\t<tr><td>190 - CHRONIC OBSTRUCTIVE PULMONARY DISEASE W MCC                       </td><td>215525                                                                  </td><td>0.02919330                                                              </td></tr>\n",
       "\t<tr><td><span style=white-space:pre-wrap>189 - PULMONARY EDEMA &amp; RESPIRATORY FAILURE                             </span></td><td>165613                                                                                                              </td><td>0.02243262                                                                                                          </td></tr>\n",
       "\t<tr><td><span style=white-space:pre-wrap>872 - SEPTICEMIA OR SEVERE SEPSIS W/O MV &gt;96 HOURS W/O MCC              </span></td><td>157851                                                                                                             </td><td>0.02138124                                                                                                         </td></tr>\n",
       "\t<tr><td><span style=white-space:pre-wrap>392 - ESOPHAGITIS, GASTROENT &amp; MISC DIGEST DISORDERS W/O MCC            </span></td><td>155843                                                                                                              </td><td>0.02110925                                                                                                          </td></tr>\n",
       "\t<tr><td><span style=white-space:pre-wrap>690 - KIDNEY &amp; URINARY TRACT INFECTIONS W/O MCC                         </span></td><td>138497                                                                                                              </td><td>0.01875970                                                                                                          </td></tr>\n",
       "\t<tr><td>683 - RENAL FAILURE W CC                                                </td><td>134011                                                                  </td><td>0.01815206                                                              </td></tr>\n",
       "\t<tr><td>378 - G.I. HEMORRHAGE W CC                                              </td><td>131163                                                                  </td><td>0.01776629                                                              </td></tr>\n",
       "</tbody>\n",
       "</table>\n"
      ],
      "text/latex": [
       "\\begin{tabular}{r|lll}\n",
       " DRG.Definition & total.discharges & percent\\\\\n",
       "\\hline\n",
       "\t 871 - SEPTICEMIA OR SEVERE SEPSIS W/O MV >96 HOURS W MCC                 & 597736                                                                   & 0.08096455                                                              \\\\\n",
       "\t 470 - MAJOR JOINT REPLACEMENT OR REATTACHMENT OF LOWER EXTREMITY W/O MCC & 510632                                                                   & 0.06916614                                                              \\\\\n",
       "\t 291 - HEART FAILURE \\& SHOCK W MCC                                        & 359442                                                                     & 0.04868714                                                                \\\\\n",
       "\t 190 - CHRONIC OBSTRUCTIVE PULMONARY DISEASE W MCC                        & 215525                                                                   & 0.02919330                                                              \\\\\n",
       "\t 189 - PULMONARY EDEMA \\& RESPIRATORY FAILURE                              & 165613                                                                     & 0.02243262                                                                \\\\\n",
       "\t 872 - SEPTICEMIA OR SEVERE SEPSIS W/O MV >96 HOURS W/O MCC               & 157851                                                                   & 0.02138124                                                              \\\\\n",
       "\t 392 - ESOPHAGITIS, GASTROENT \\& MISC DIGEST DISORDERS W/O MCC             & 155843                                                                     & 0.02110925                                                                \\\\\n",
       "\t 690 - KIDNEY \\& URINARY TRACT INFECTIONS W/O MCC                          & 138497                                                                     & 0.01875970                                                                \\\\\n",
       "\t 683 - RENAL FAILURE W CC                                                 & 134011                                                                   & 0.01815206                                                              \\\\\n",
       "\t 378 - G.I. HEMORRHAGE W CC                                               & 131163                                                                   & 0.01776629                                                              \\\\\n",
       "\\end{tabular}\n"
      ],
      "text/markdown": [
       "\n",
       "| DRG.Definition | total.discharges | percent |\n",
       "|---|---|---|\n",
       "| 871 - SEPTICEMIA OR SEVERE SEPSIS W/O MV >96 HOURS W MCC                 | 597736                                                                   | 0.08096455                                                               |\n",
       "| 470 - MAJOR JOINT REPLACEMENT OR REATTACHMENT OF LOWER EXTREMITY W/O MCC | 510632                                                                   | 0.06916614                                                               |\n",
       "| 291 - HEART FAILURE & SHOCK W MCC                                        | 359442                                                                   | 0.04868714                                                               |\n",
       "| 190 - CHRONIC OBSTRUCTIVE PULMONARY DISEASE W MCC                        | 215525                                                                   | 0.02919330                                                               |\n",
       "| 189 - PULMONARY EDEMA & RESPIRATORY FAILURE                              | 165613                                                                   | 0.02243262                                                               |\n",
       "| 872 - SEPTICEMIA OR SEVERE SEPSIS W/O MV >96 HOURS W/O MCC               | 157851                                                                   | 0.02138124                                                               |\n",
       "| 392 - ESOPHAGITIS, GASTROENT & MISC DIGEST DISORDERS W/O MCC             | 155843                                                                   | 0.02110925                                                               |\n",
       "| 690 - KIDNEY & URINARY TRACT INFECTIONS W/O MCC                          | 138497                                                                   | 0.01875970                                                               |\n",
       "| 683 - RENAL FAILURE W CC                                                 | 134011                                                                   | 0.01815206                                                               |\n",
       "| 378 - G.I. HEMORRHAGE W CC                                               | 131163                                                                   | 0.01776629                                                               |\n",
       "\n"
      ],
      "text/plain": [
       "   DRG.Definition                                                          \n",
       "1  871 - SEPTICEMIA OR SEVERE SEPSIS W/O MV >96 HOURS W MCC                \n",
       "2  470 - MAJOR JOINT REPLACEMENT OR REATTACHMENT OF LOWER EXTREMITY W/O MCC\n",
       "3  291 - HEART FAILURE & SHOCK W MCC                                       \n",
       "4  190 - CHRONIC OBSTRUCTIVE PULMONARY DISEASE W MCC                       \n",
       "5  189 - PULMONARY EDEMA & RESPIRATORY FAILURE                             \n",
       "6  872 - SEPTICEMIA OR SEVERE SEPSIS W/O MV >96 HOURS W/O MCC              \n",
       "7  392 - ESOPHAGITIS, GASTROENT & MISC DIGEST DISORDERS W/O MCC            \n",
       "8  690 - KIDNEY & URINARY TRACT INFECTIONS W/O MCC                         \n",
       "9  683 - RENAL FAILURE W CC                                                \n",
       "10 378 - G.I. HEMORRHAGE W CC                                              \n",
       "   total.discharges percent   \n",
       "1  597736           0.08096455\n",
       "2  510632           0.06916614\n",
       "3  359442           0.04868714\n",
       "4  215525           0.02919330\n",
       "5  165613           0.02243262\n",
       "6  157851           0.02138124\n",
       "7  155843           0.02110925\n",
       "8  138497           0.01875970\n",
       "9  134011           0.01815206\n",
       "10 131163           0.01776629"
      ]
     },
     "metadata": {},
     "output_type": "display_data"
    }
   ],
   "source": [
    "top10totaldischarges15 <- payment %>% filter(Year == 2015) %>% select(DRG.Definition, Total.Discharges) %>%\n",
    "group_by(DRG.Definition) %>% \n",
    "summarise(total.discharges = sum(Total.Discharges)) %>%\n",
    "mutate(percent = total.discharges/sum(total.discharges))%>%\n",
    "arrange(desc(total.discharges))\n",
    "head(top10totaldischarges15, 10)\n",
    "\n",
    "top10totaldischarges16 <- payment %>% filter(Year == 2016) %>% select(DRG.Definition, Total.Discharges) %>%\n",
    "group_by(DRG.Definition) %>% \n",
    "summarise(total.discharges = sum(Total.Discharges)) %>%\n",
    "mutate(percent = total.discharges/sum(total.discharges))%>%\n",
    "arrange(desc(total.discharges))\n",
    "head(top10totaldischarges16, 10)\n",
    "\n",
    "top10totaldischarges17 <- payment %>% filter(Year == 2017) %>% select(DRG.Definition, Total.Discharges) %>%\n",
    "group_by(DRG.Definition) %>% \n",
    "summarise(total.discharges = sum(Total.Discharges)) %>%\n",
    "mutate(percent = total.discharges/sum(total.discharges))%>%\n",
    "arrange(desc(total.discharges))\n",
    "head(top10totaldischarges17, 10)"
   ]
  },
  {
   "cell_type": "markdown",
   "metadata": {},
   "source": [
    "Most common hospital discharges\n",
    "Ten most common inpatient diagnoses\n",
    "Most expensive inpatient diagnoses\n",
    "\n",
    " Variation of hospital charges for heart implant or implant of heart assist system surgery"
   ]
  }
 ],
 "metadata": {
  "kernelspec": {
   "display_name": "R",
   "language": "R",
   "name": "ir"
  },
  "language_info": {
   "codemirror_mode": "r",
   "file_extension": ".r",
   "mimetype": "text/x-r-source",
   "name": "R",
   "pygments_lexer": "r",
   "version": "3.6.1"
  }
 },
 "nbformat": 4,
 "nbformat_minor": 2
}
